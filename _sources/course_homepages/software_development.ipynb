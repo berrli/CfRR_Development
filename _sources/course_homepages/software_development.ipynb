{
 "cells": [
  {
   "cell_type": "markdown",
   "id": "cd116cd1-72bc-46f8-90da-cab563161bf7",
   "metadata": {
    "editable": true,
    "slideshow": {
     "slide_type": ""
    },
    "tags": []
   },
   "source": [
    "# Software Development"
   ]
  },
  {
   "cell_type": "markdown",
   "id": "34c1bf87-8001-4eb9-bd1a-ea3bac982b4d",
   "metadata": {
    "editable": true,
    "slideshow": {
     "slide_type": ""
    },
    "tags": []
   },
   "source": [
    "The following set of courses discuss software development. The details for each of the courses can be found on their respective pages. "
   ]
  },
  {
   "cell_type": "code",
   "execution_count": null,
   "id": "53c77588-aa4d-4d40-acd9-97b1034d696f",
   "metadata": {
    "editable": true,
    "slideshow": {
     "slide_type": ""
    },
    "tags": []
   },
   "outputs": [],
   "source": []
  }
 ],
 "metadata": {
  "kernelspec": {
   "display_name": "Python 3 (ipykernel)",
   "language": "python",
   "name": "python3"
  },
  "language_info": {
   "codemirror_mode": {
    "name": "ipython",
    "version": 3
   },
   "file_extension": ".py",
   "mimetype": "text/x-python",
   "name": "python",
   "nbconvert_exporter": "python",
   "pygments_lexer": "ipython3",
   "version": "3.9.19"
  }
 },
 "nbformat": 4,
 "nbformat_minor": 5
}
