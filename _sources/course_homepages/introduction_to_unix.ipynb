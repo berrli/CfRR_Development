{
 "cells": [
  {
   "cell_type": "markdown",
   "id": "7c1fff6a-c710-4d36-93ff-420c7d7e7470",
   "metadata": {
    "editable": true,
    "slideshow": {
     "slide_type": ""
    },
    "tags": []
   },
   "source": [
    "# Introduction to UNIX"
   ]
  },
  {
   "cell_type": "code",
   "execution_count": 9,
   "id": "3a6912c7-688b-4ad5-9d16-47666c9da55e",
   "metadata": {
    "editable": true,
    "slideshow": {
     "slide_type": ""
    },
    "tags": [
     "remove-input"
    ]
   },
   "outputs": [
    {
     "data": {
      "text/markdown": [
       "## Welcome to the Introduction to Unix Workshop\n",
       "**Next Session Date:** 20th & 27th October 2023\n",
       "\n",
       "**What to Expect:**\n",
       "Over two sessions this workshop will introduce you to navigating the file system and show you how to carry out basic operations on the Unix systems using the shell (also referred to as the command line).\n",
       "\n",
       "**Registration Status:** Registration is currently closed.\n",
       "**Please register by:** nan\n",
       "**Installation Instructions:** [Click here to install]( https://uniexeterrse.github.io/intro-unix-shell/setup.html)\n"
      ],
      "text/plain": [
       "<IPython.core.display.Markdown object>"
      ]
     },
     "metadata": {},
     "output_type": "display_data"
    }
   ],
   "source": [
    "from IPython.display import Markdown, display\n",
    "\n",
    "display(Markdown(\"course_details_markdowns/introduction_to_unix.md\"))"
   ]
  },
  {
   "cell_type": "code",
   "execution_count": null,
   "id": "e8cecb6f-274a-4427-89d3-7d8688137260",
   "metadata": {
    "editable": true,
    "slideshow": {
     "slide_type": ""
    },
    "tags": []
   },
   "outputs": [],
   "source": []
  }
 ],
 "metadata": {
  "kernelspec": {
   "display_name": "Python 3 (ipykernel)",
   "language": "python",
   "name": "python3"
  },
  "language_info": {
   "codemirror_mode": {
    "name": "ipython",
    "version": 3
   },
   "file_extension": ".py",
   "mimetype": "text/x-python",
   "name": "python",
   "nbconvert_exporter": "python",
   "pygments_lexer": "ipython3",
   "version": "3.9.19"
  }
 },
 "nbformat": 4,
 "nbformat_minor": 5
}
