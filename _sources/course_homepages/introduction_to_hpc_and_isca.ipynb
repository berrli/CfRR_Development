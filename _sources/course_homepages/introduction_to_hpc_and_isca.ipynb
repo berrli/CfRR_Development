{
 "cells": [
  {
   "cell_type": "markdown",
   "id": "b14b1b0a-bddd-40d6-97a5-8a07e2807e58",
   "metadata": {
    "editable": true,
    "slideshow": {
     "slide_type": ""
    },
    "tags": []
   },
   "source": [
    "# Introduction to HPC and ISCA"
   ]
  },
  {
   "cell_type": "code",
   "execution_count": 1,
   "id": "b47cee1d-9274-4b57-9dfe-a2959e3679dc",
   "metadata": {
    "editable": true,
    "slideshow": {
     "slide_type": ""
    },
    "tags": [
     "remove-input"
    ]
   },
   "outputs": [
    {
     "data": {
      "text/markdown": [
       "## Welcome to the Introduction to HPC at Exeter Workshop\n",
       "**Next Session Date:** 1st & 8th November 2023\n",
       "\n",
       "**What to Expect:**\n",
       "Over two sessions learn about the high performance computing facilities at Exeter and how to use them.\n",
       "\n",
       "**Registration Status:** Registration is currently closed.\n",
       "**Please register by:** 25th October\n",
       "**Installation Instructions:** [Click here to install](https://uniexeterrse.github.io/intro-to-isca/setup.html)\n"
      ],
      "text/plain": [
       "<IPython.core.display.Markdown object>"
      ]
     },
     "metadata": {},
     "output_type": "display_data"
    }
   ],
   "source": [
    "from IPython.display import Markdown, display\n",
    "\n",
    "display(Markdown(\"course_details_markdowns/introduction_to_hpc_at_exeter.md\"))"
   ]
  },
  {
   "cell_type": "code",
   "execution_count": null,
   "id": "be5d99e8-51eb-435f-94af-e9406ad70fd3",
   "metadata": {
    "editable": true,
    "slideshow": {
     "slide_type": ""
    },
    "tags": [
     "remove-input"
    ]
   },
   "outputs": [],
   "source": []
  }
 ],
 "metadata": {
  "kernelspec": {
   "display_name": "Python 3 (ipykernel)",
   "language": "python",
   "name": "python3"
  },
  "language_info": {
   "codemirror_mode": {
    "name": "ipython",
    "version": 3
   },
   "file_extension": ".py",
   "mimetype": "text/x-python",
   "name": "python",
   "nbconvert_exporter": "python",
   "pygments_lexer": "ipython3",
   "version": "3.9.19"
  }
 },
 "nbformat": 4,
 "nbformat_minor": 5
}
