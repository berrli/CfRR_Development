{
 "cells": [
  {
   "cell_type": "markdown",
   "id": "30d2f5b6-9bdb-4a8c-91a1-c0c9f0479da7",
   "metadata": {
    "editable": true,
    "slideshow": {
     "slide_type": ""
    },
    "tags": []
   },
   "source": [
    "# Introduction to R"
   ]
  },
  {
   "cell_type": "code",
   "execution_count": 1,
   "id": "7c360f88-8245-42e3-9b70-63603246818b",
   "metadata": {
    "editable": true,
    "slideshow": {
     "slide_type": ""
    },
    "tags": [
     "remove-input"
    ]
   },
   "outputs": [
    {
     "data": {
      "text/markdown": [
       "## Welcome to the Introduction to R Workshop\n",
       "**Next Session Date:**  9th 16th & 23rd January 2024\n",
       "\n",
       "**What to Expect:**\n",
       "Over three sessions this workshop will provide an all-purpose introduction to the R programming language and may provide an accessible entry to computer programming in general.\n",
       "\n",
       "**Registration Status:** Registration is currently open.\n",
       "**Please register by:** 2nd January 2024\n",
       "**Installation Instructions:** [Click here to install](https://uniexeterrse.github.io/intro-to-r/setup.html)\n"
      ],
      "text/plain": [
       "<IPython.core.display.Markdown object>"
      ]
     },
     "metadata": {},
     "output_type": "display_data"
    }
   ],
   "source": [
    "from IPython.display import Markdown, display\n",
    "\n",
    "display(Markdown(\"course_details_markdowns/introduction_to_r.md\"))"
   ]
  },
  {
   "cell_type": "code",
   "execution_count": null,
   "id": "a6f42dfe-6741-4c49-a4f6-e0012af6716b",
   "metadata": {
    "editable": true,
    "slideshow": {
     "slide_type": ""
    },
    "tags": []
   },
   "outputs": [],
   "source": []
  }
 ],
 "metadata": {
  "kernelspec": {
   "display_name": "Python 3 (ipykernel)",
   "language": "python",
   "name": "python3"
  },
  "language_info": {
   "codemirror_mode": {
    "name": "ipython",
    "version": 3
   },
   "file_extension": ".py",
   "mimetype": "text/x-python",
   "name": "python",
   "nbconvert_exporter": "python",
   "pygments_lexer": "ipython3",
   "version": "3.9.19"
  }
 },
 "nbformat": 4,
 "nbformat_minor": 5
}
