{
 "cells": [
  {
   "cell_type": "markdown",
   "id": "79f0bd73-6837-4bfe-82ea-64cdc1475c96",
   "metadata": {
    "editable": true,
    "slideshow": {
     "slide_type": ""
    },
    "tags": []
   },
   "source": [
    "# Introduction to Julia"
   ]
  },
  {
   "cell_type": "code",
   "execution_count": 1,
   "id": "51050bda-deb9-4ca9-9c4d-1994ae8e9b34",
   "metadata": {
    "editable": true,
    "slideshow": {
     "slide_type": ""
    },
    "tags": [
     "remove-input"
    ]
   },
   "outputs": [
    {
     "data": {
      "text/markdown": [
       "## Welcome to the Introduction to Julia Workshop\n",
       "**Next Session Date:**  24th November 1st & 5th December 2023\n",
       "\n",
       "**What to Expect:**\n",
       "Over three sessions learn about the Julia programming language a relatively new programming language developed specifically for scientific computing and analytical workflows.\n",
       "\n",
       "**Registration Status:** Registration is currently closed.\n",
       "**Please register by:** 17th November\n",
       "**Installation Instructions:** [Click here to install](nan)\n"
      ],
      "text/plain": [
       "<IPython.core.display.Markdown object>"
      ]
     },
     "metadata": {},
     "output_type": "display_data"
    }
   ],
   "source": [
    "from IPython.display import Markdown, display\n",
    "\n",
    "display(Markdown(\"course_details_markdowns/introduction_to_julia.md\"))"
   ]
  },
  {
   "cell_type": "code",
   "execution_count": null,
   "id": "a7d2c160-d59b-411b-a413-c56b7e0a1ab7",
   "metadata": {
    "editable": true,
    "slideshow": {
     "slide_type": ""
    },
    "tags": []
   },
   "outputs": [],
   "source": []
  }
 ],
 "metadata": {
  "kernelspec": {
   "display_name": "Python 3 (ipykernel)",
   "language": "python",
   "name": "python3"
  },
  "language_info": {
   "codemirror_mode": {
    "name": "ipython",
    "version": 3
   },
   "file_extension": ".py",
   "mimetype": "text/x-python",
   "name": "python",
   "nbconvert_exporter": "python",
   "pygments_lexer": "ipython3",
   "version": "3.9.19"
  }
 },
 "nbformat": 4,
 "nbformat_minor": 5
}
