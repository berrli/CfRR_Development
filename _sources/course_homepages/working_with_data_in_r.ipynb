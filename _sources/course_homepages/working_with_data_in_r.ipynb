{
 "cells": [
  {
   "cell_type": "markdown",
   "id": "3d567708-c583-4568-814a-df26181feb77",
   "metadata": {
    "editable": true,
    "slideshow": {
     "slide_type": ""
    },
    "tags": []
   },
   "source": [
    "# Working With Data In R"
   ]
  },
  {
   "cell_type": "code",
   "execution_count": 1,
   "id": "ca520883-e5eb-459d-96c1-e8629e0c6599",
   "metadata": {
    "editable": true,
    "slideshow": {
     "slide_type": ""
    },
    "tags": [
     "remove-input"
    ]
   },
   "outputs": [
    {
     "data": {
      "text/markdown": [
       "## Working With Data in R Workshop\n",
       "\n",
       "**Details of this course will be confirmed soon!**\n"
      ],
      "text/plain": [
       "<IPython.core.display.Markdown object>"
      ]
     },
     "metadata": {},
     "output_type": "display_data"
    }
   ],
   "source": [
    "from IPython.display import Markdown, display\n",
    "\n",
    "display(Markdown(\"course_details_markdowns/working_with_data_in_r.md\"))"
   ]
  },
  {
   "cell_type": "code",
   "execution_count": null,
   "id": "369cda6f-cf24-4ce2-b820-4ffe4973e047",
   "metadata": {
    "editable": true,
    "slideshow": {
     "slide_type": ""
    },
    "tags": []
   },
   "outputs": [],
   "source": []
  }
 ],
 "metadata": {
  "kernelspec": {
   "display_name": "Python 3 (ipykernel)",
   "language": "python",
   "name": "python3"
  },
  "language_info": {
   "codemirror_mode": {
    "name": "ipython",
    "version": 3
   },
   "file_extension": ".py",
   "mimetype": "text/x-python",
   "name": "python",
   "nbconvert_exporter": "python",
   "pygments_lexer": "ipython3",
   "version": "3.9.19"
  }
 },
 "nbformat": 4,
 "nbformat_minor": 5
}
