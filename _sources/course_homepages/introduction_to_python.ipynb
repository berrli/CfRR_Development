{
 "cells": [
  {
   "cell_type": "markdown",
   "id": "ddae49d4-984b-4040-a629-0721f3b1828e",
   "metadata": {
    "editable": true,
    "slideshow": {
     "slide_type": ""
    },
    "tags": []
   },
   "source": [
    "# Introduction to Python"
   ]
  },
  {
   "cell_type": "code",
   "execution_count": 1,
   "id": "0f07b086-0bc2-4cb7-9bd7-57a02b6d2cb3",
   "metadata": {
    "editable": true,
    "slideshow": {
     "slide_type": ""
    },
    "tags": [
     "remove-input"
    ]
   },
   "outputs": [
    {
     "data": {
      "text/markdown": [
       "## Welcome to the Introduction to Python Workshop\n",
       "**Next Session Date:** 1st & 8th November 2023\n",
       "\n",
       "**What to Expect:**\n",
       "Over two sessions learn the fundamentals of Python one of the most popular programming languages and get introduced to a variety of applications.\n",
       "\n",
       "**Registration Status:** Registration is currently closed.\n",
       "**Please register by:** 25th October\n",
       "**Installation Instructions:** [Click here to install]( https://uniexeterrse.github.io/intro-to-python/setup.html)\n"
      ],
      "text/plain": [
       "<IPython.core.display.Markdown object>"
      ]
     },
     "metadata": {},
     "output_type": "display_data"
    }
   ],
   "source": [
    "from IPython.display import Markdown, display\n",
    "\n",
    "display(Markdown(\"course_details_markdowns/introduction_to_python.md\"))"
   ]
  },
  {
   "cell_type": "code",
   "execution_count": null,
   "id": "ea0bb4ba-f040-4923-a229-c567fe47147a",
   "metadata": {
    "editable": true,
    "slideshow": {
     "slide_type": ""
    },
    "tags": []
   },
   "outputs": [],
   "source": []
  }
 ],
 "metadata": {
  "kernelspec": {
   "display_name": "Python 3 (ipykernel)",
   "language": "python",
   "name": "python3"
  },
  "language_info": {
   "codemirror_mode": {
    "name": "ipython",
    "version": 3
   },
   "file_extension": ".py",
   "mimetype": "text/x-python",
   "name": "python",
   "nbconvert_exporter": "python",
   "pygments_lexer": "ipython3",
   "version": "3.9.19"
  }
 },
 "nbformat": 4,
 "nbformat_minor": 5
}
