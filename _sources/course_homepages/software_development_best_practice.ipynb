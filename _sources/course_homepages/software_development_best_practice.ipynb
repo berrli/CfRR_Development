{
 "cells": [
  {
   "cell_type": "markdown",
   "id": "525aecc2-4e05-4ede-8d0d-ae504e63514f",
   "metadata": {
    "editable": true,
    "slideshow": {
     "slide_type": ""
    },
    "tags": []
   },
   "source": [
    "# Software Development Best Practices"
   ]
  },
  {
   "cell_type": "code",
   "execution_count": 1,
   "id": "fd65d566-e28c-4e73-840c-e7da718d3605",
   "metadata": {
    "editable": true,
    "slideshow": {
     "slide_type": ""
    },
    "tags": [
     "remove-input"
    ]
   },
   "outputs": [
    {
     "data": {
      "text/markdown": [
       "## Welcome to the Software development best practice Workshop\n",
       "**Next Session Date:**  Summer 2024\n",
       "\n",
       "**What to Expect:**\n",
       "Over two sessions learn about best practices in software development to improve your workflow and increase the impact of your research.\n",
       "\n",
       "**Registration Status:** Registration is currently closed.\n",
       "**Please register by:** nan\n",
       "**Installation Instructions:** [Click here to install](nan)\n"
      ],
      "text/plain": [
       "<IPython.core.display.Markdown object>"
      ]
     },
     "metadata": {},
     "output_type": "display_data"
    }
   ],
   "source": [
    "from IPython.display import Markdown, display\n",
    "\n",
    "display(Markdown(\"course_details_markdowns/software_development_best_practice.md\"))"
   ]
  },
  {
   "cell_type": "code",
   "execution_count": null,
   "id": "33940b08-28f8-46a1-b725-9b2e22780748",
   "metadata": {
    "editable": true,
    "slideshow": {
     "slide_type": ""
    },
    "tags": []
   },
   "outputs": [],
   "source": []
  }
 ],
 "metadata": {
  "kernelspec": {
   "display_name": "Python 3 (ipykernel)",
   "language": "python",
   "name": "python3"
  },
  "language_info": {
   "codemirror_mode": {
    "name": "ipython",
    "version": 3
   },
   "file_extension": ".py",
   "mimetype": "text/x-python",
   "name": "python",
   "nbconvert_exporter": "python",
   "pygments_lexer": "ipython3",
   "version": "3.9.19"
  }
 },
 "nbformat": 4,
 "nbformat_minor": 5
}
