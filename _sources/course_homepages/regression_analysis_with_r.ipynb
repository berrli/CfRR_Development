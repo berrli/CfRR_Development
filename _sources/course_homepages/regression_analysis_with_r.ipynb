{
 "cells": [
  {
   "cell_type": "markdown",
   "id": "0c47b797-06f7-4e8b-af30-d621d8eec931",
   "metadata": {
    "editable": true,
    "slideshow": {
     "slide_type": ""
    },
    "tags": []
   },
   "source": [
    "# Regression Analysis with R"
   ]
  },
  {
   "cell_type": "code",
   "execution_count": 1,
   "id": "aca5b5d0-ff6a-4191-a7a2-336fb6c628d0",
   "metadata": {
    "editable": true,
    "slideshow": {
     "slide_type": ""
    },
    "tags": [
     "remove-input"
    ]
   },
   "outputs": [
    {
     "data": {
      "text/markdown": [
       "## Welcome to the Regression analysis with R Workshop\n",
       "**Next Session Date:** 26th January 2024\n",
       "\n",
       "**What to Expect:**\n",
       "In this hands on workshop you will learn how to fit and interpret a range of regression models with R and the link between regression and other common statistical tools.\n",
       "\n",
       "**Registration Status:** Registration is currently open.\n",
       "**Please register by:** 19th January 2024\n",
       "**Installation Instructions:** [Click here to install](https://uniexeterrse.github.io/intro-to-r/setup.html)\n"
      ],
      "text/plain": [
       "<IPython.core.display.Markdown object>"
      ]
     },
     "metadata": {},
     "output_type": "display_data"
    }
   ],
   "source": [
    "from IPython.display import Markdown, display\n",
    "\n",
    "display(Markdown(\"course_details_markdowns/regression_analysis_with_r.md\"))"
   ]
  },
  {
   "cell_type": "code",
   "execution_count": null,
   "id": "6f397164-1ed0-42c6-a511-b411ae7c1586",
   "metadata": {
    "editable": true,
    "slideshow": {
     "slide_type": ""
    },
    "tags": []
   },
   "outputs": [],
   "source": []
  }
 ],
 "metadata": {
  "kernelspec": {
   "display_name": "Python 3 (ipykernel)",
   "language": "python",
   "name": "python3"
  },
  "language_info": {
   "codemirror_mode": {
    "name": "ipython",
    "version": 3
   },
   "file_extension": ".py",
   "mimetype": "text/x-python",
   "name": "python",
   "nbconvert_exporter": "python",
   "pygments_lexer": "ipython3",
   "version": "3.9.19"
  }
 },
 "nbformat": 4,
 "nbformat_minor": 5
}
