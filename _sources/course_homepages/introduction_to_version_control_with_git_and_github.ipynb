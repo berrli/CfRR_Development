{
 "cells": [
  {
   "cell_type": "markdown",
   "id": "f01de552-c975-4dd4-9877-6c3e0244a1ea",
   "metadata": {
    "editable": true,
    "slideshow": {
     "slide_type": ""
    },
    "tags": []
   },
   "source": [
    "# Introduction to Version Control with Git and Github"
   ]
  },
  {
   "cell_type": "code",
   "execution_count": 1,
   "id": "883cf1f3-d34a-4bae-bf51-660f3f159121",
   "metadata": {
    "editable": true,
    "slideshow": {
     "slide_type": ""
    },
    "tags": [
     "remove-input"
    ]
   },
   "outputs": [
    {
     "data": {
      "text/markdown": [
       "## Welcome to the Introduction to Version Control with Git and GitHub Workshop\n",
       "**Next Session Date:** 12th & 19th Decemeber 2023\n",
       "\n",
       "**What to Expect:**\n",
       "Over three sessions learn to use version control to manage your software development and collaborate effectively with others.\n",
       "\n",
       "**Registration Status:** Registration is currently open.\n",
       "**Please register by:** 5th December 2023\n",
       "**Installation Instructions:** [Click here to install](https://uniexeterrse.github.io/intro-version-control/setup.html)\n"
      ],
      "text/plain": [
       "<IPython.core.display.Markdown object>"
      ]
     },
     "metadata": {},
     "output_type": "display_data"
    }
   ],
   "source": [
    "from IPython.display import Markdown, display\n",
    "\n",
    "display(Markdown(\"course_details_markdowns/introduction_to_version_control_with_git_and_github.md\"))"
   ]
  },
  {
   "cell_type": "code",
   "execution_count": null,
   "id": "edcf91a4-183b-4fe7-9525-024e0513bda3",
   "metadata": {
    "editable": true,
    "slideshow": {
     "slide_type": ""
    },
    "tags": []
   },
   "outputs": [],
   "source": []
  }
 ],
 "metadata": {
  "kernelspec": {
   "display_name": "Python 3 (ipykernel)",
   "language": "python",
   "name": "python3"
  },
  "language_info": {
   "codemirror_mode": {
    "name": "ipython",
    "version": 3
   },
   "file_extension": ".py",
   "mimetype": "text/x-python",
   "name": "python",
   "nbconvert_exporter": "python",
   "pygments_lexer": "ipython3",
   "version": "3.9.19"
  }
 },
 "nbformat": 4,
 "nbformat_minor": 5
}
