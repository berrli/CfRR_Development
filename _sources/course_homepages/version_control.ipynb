{
 "cells": [
  {
   "cell_type": "markdown",
   "id": "7695fac6-1249-4c37-a4b1-5c86eb46710a",
   "metadata": {
    "editable": true,
    "slideshow": {
     "slide_type": ""
    },
    "tags": []
   },
   "source": [
    "# Version Control"
   ]
  },
  {
   "cell_type": "markdown",
   "id": "1e9e5ee1-444c-4fcb-b3ef-347c55f13756",
   "metadata": {
    "editable": true,
    "slideshow": {
     "slide_type": ""
    },
    "tags": []
   },
   "source": [
    "The following set of courses discuss version control. The details for each of the courses can be found on their respective pages. "
   ]
  },
  {
   "cell_type": "code",
   "execution_count": null,
   "id": "a50a26c8-f891-45df-ab49-6784b6b8ca7a",
   "metadata": {
    "editable": true,
    "slideshow": {
     "slide_type": ""
    },
    "tags": []
   },
   "outputs": [],
   "source": []
  }
 ],
 "metadata": {
  "kernelspec": {
   "display_name": "Python 3 (ipykernel)",
   "language": "python",
   "name": "python3"
  },
  "language_info": {
   "codemirror_mode": {
    "name": "ipython",
    "version": 3
   },
   "file_extension": ".py",
   "mimetype": "text/x-python",
   "name": "python",
   "nbconvert_exporter": "python",
   "pygments_lexer": "ipython3",
   "version": "3.9.19"
  }
 },
 "nbformat": 4,
 "nbformat_minor": 5
}
