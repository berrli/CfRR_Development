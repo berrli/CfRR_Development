{
 "cells": [
  {
   "cell_type": "markdown",
   "metadata": {
    "editable": true,
    "slideshow": {
     "slide_type": ""
    },
    "tags": []
   },
   "source": [
    "# Roles \n",
    "The following page content is designed to give an overview of the different roles within Coding for Reproducible Research (CfRR) programme. Together this content provides a clear overview of how the programme operates. "
   ]
  },
  {
   "cell_type": "markdown",
   "metadata": {
    "editable": true,
    "slideshow": {
     "slide_type": ""
    },
    "tags": []
   },
   "source": [
    "````{tab-set}\n",
    "```{tab-item} Helpers\n",
    "## What is the workshop helper?\n",
    "Workshop helpers support the workshop leader and participants as required. They are there to ensure participants can engage fully with the workshop and to ease the workload of the workshop lead. Depending on the nature of the workshop, there many by one or more helpers.  \n",
    "\n",
    "## What are the responsibilities of the workshop helper? \n",
    "\n",
    "### In advance of the workshop \n",
    "- Review the pre-existing course materials and notify programme management if there are any concerns with these.  \n",
    "- Review reports from previous deliveries of the same workshop. \n",
    "- Coordinate with the other members of the workshop delivery team and ensure that they are clear on their roles and know when and where to attend on the day. \n",
    "- This is often best achieved by attending a pre-workshop meeting of up to 30 minutes with the rest of the delivery team.  \n",
    "- Review the pre-course questionnaire information for participants to familiarise themselves with the current experience level and expectations of the participants. \n",
    "\n",
    "### During a workshop\n",
    "- Arrive in advance of the scheduled start of the workshop, as decided with the workshop lead.  \n",
    "- Support the workshop lead and participants as required. This may include: \n",
    "    - Engaging with participants to ensure that the pace of the course is appropriate and feeding this back to the workshop lead if necessary. \n",
    "    - Answering participants' questions. \n",
    "    - Supporting participants to get back up to pace if they hit difficulties. \n",
    "    - Flag issues to the workshop lead. \n",
    "    - Remind participants to sign the register. \n",
    "    - Prompt the workshop lead to include regular breaks and keep to time. \n",
    "\n",
    "### After a workshop\n",
    "- Provide feedback to the workshop lead on how the workshop went, common issues that might be useful for next time. \n",
    "- Report any suggestions for, or errors with, the course notes as issues on GitHub. \n",
    "\n",
    "\n",
    "```\n",
    "\n",
    "```{tab-item} Leaders\n",
    "## What is the workshop leader? \n",
    "\n",
    "Workshop leaders are responsible for delivering the content of a workshop and managing the session(s). Workshops typically have one leader or possibly co-leads.  \n",
    "\n",
    "## What are the responsibilities of the workshop leader? \n",
    "\n",
    "### In advance of the workshop \n",
    "\n",
    "- Review the pre-existing course materials and notify programme management if there are any concerns with these. The workshop lead is not expected to create course materials; this is handled by a different role. Similarly, the workshop lead should not revise the materials without first consulting the programme management. \n",
    "- Review reports from previous deliveries of the same workshop. \n",
    "- Decide whether a troubleshooting session for installation queries will be held and liaise with programme management to communicate this to participants. \n",
    "- Coordinate with the other members of the workshop delivery team and ensure that they are clear on their roles and know when and where to attend on the day. \n",
    "- Attend a pre-workshop meeting of up to 30 minutes with the rest of the delivery team. Experienced workshop leads may be happy to organise and host this meeting. Otherwise, programme management can facilitate. \n",
    "- Review the pre-course questionnaire information for participants to familiarise themselves with the current experience level and expectations of the participants. \n",
    "\n",
    "### During a workshop \n",
    "\n",
    "- Arrive 10-15 minutes before the scheduled start of the workshop, ensure the IT is setup appropriately, and display the welcome slides with QR codes.  \n",
    "Provide an introduction to the workshop covering the following points:  \n",
    "    - Welcome to the workshop, introduce the delivery team and their roles.  \n",
    "    - Ask participants to add their name to the participants list. \n",
    "    - The learning objectives of the workshop and the delivery method. \n",
    "    - Reference it is part of the CfRR programme. \n",
    "    - Code of conduct and that attendance is an agreement to adhere by these. \n",
    "- Deliver the course materials using a methodology appropriate to the learning objectives. For novices, this is predominately by live coding. \n",
    "- Schedule regular breaks (one/two for a three-hour session). \n",
    "- Leave adequate time to wrap up the workshop: \n",
    "    - Summarise the content of the workshop. \n",
    "    - Signpost to next steps (e.g. future workshops in the programme that follow on) and where to access help after the end of the workshop (e.g. Slack channel). \n",
    "    - Highlight the importance of the feedback survey. \n",
    "    - Thank participants for supporting the programme. \n",
    "\n",
    "### After a workshop \n",
    "\n",
    "- Collate feedback from workshop delivery team and provide a summary of the delivery experience (via GitHub). \n",
    "- Report any suggestions for, or errors with, the course notes as issues on GitHub. \n",
    "```\n",
    "\n",
    "```{tab-item} Developers\n",
    "Workshop Developers Description\n",
    "```\n",
    "\n",
    "```{tab-item} Participants\n",
    "Participants Description\n",
    "```\n",
    "\n",
    "```{tab-item} Programme Management\n",
    "Programme Management Description\n",
    "```\n",
    "````"
   ]
  },
  {
   "cell_type": "code",
   "execution_count": null,
   "metadata": {},
   "outputs": [],
   "source": []
  }
 ],
 "metadata": {
  "kernelspec": {
   "display_name": "Python 3 (ipykernel)",
   "language": "python",
   "name": "python3"
  },
  "language_info": {
   "codemirror_mode": {
    "name": "ipython",
    "version": 3
   },
   "file_extension": ".py",
   "mimetype": "text/x-python",
   "name": "python",
   "nbconvert_exporter": "python",
   "pygments_lexer": "ipython3",
   "version": "3.9.19"
  }
 },
 "nbformat": 4,
 "nbformat_minor": 4
}
