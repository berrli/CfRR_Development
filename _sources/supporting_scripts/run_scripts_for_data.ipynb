{
 "cells": [
  {
   "cell_type": "code",
   "execution_count": 1,
   "id": "a84b9b30-8826-4066-a840-973b15a5797c",
   "metadata": {
    "editable": true,
    "slideshow": {
     "slide_type": ""
    },
    "tags": []
   },
   "outputs": [
    {
     "name": "stdout",
     "output_type": "stream",
     "text": [
      "Notebook combined successfully into 'pathways/complete_notebooks/data_scientist.ipynb'\n"
     ]
    }
   ],
   "source": [
    "# Run the script that deal with the creating of the complete pathway data\n",
    "!python supporting_scripts/pathway_creator.py pathways/descriptions/data_scientist.md individual_modules/computational_thinking/decomposition.md --dest_dir pathways/complete_notebooks/ --output_name data_scientist.ipynb"
   ]
  },
  {
   "cell_type": "code",
   "execution_count": 2,
   "id": "e1b947e5-9c92-4a3f-a3f3-40a0e8a79c4d",
   "metadata": {
    "editable": true,
    "slideshow": {
     "slide_type": ""
    },
    "tags": []
   },
   "outputs": [
    {
     "name": "stdout",
     "output_type": "stream",
     "text": [
      "The markdown file has been successfully created and saved to course_details_markdowns/introduction_to_version_control_with_git_and_github.md.\n",
      "The markdown file has been successfully created and saved to course_details_markdowns/computational_thinking.md.\n",
      "The markdown file has been successfully created and saved to course_details_markdowns/introduction_to_r.md.\n",
      "The markdown file has been successfully created and saved to course_details_markdowns/regression_analysis_with_r.md.\n",
      "The markdown file has been successfully created and saved to course_details_markdowns/introduction_to_unix.md.\n",
      "The markdown file has been successfully created and saved to course_details_markdowns/introduction_to_python.md.\n",
      "The markdown file has been successfully created and saved to course_details_markdowns/introduction_to_hpc_at_exeter.md.\n",
      "The markdown file has been successfully created and saved to course_details_markdowns/software_development_best_practice.md.\n",
      "The markdown file has been successfully created and saved to course_details_markdowns/introduction_to_julia.md.\n",
      "The markdown file has been successfully created and saved to course_details_markdowns/advanced_regression_analysis.md.\n",
      "The markdown file has been successfully created and saved to course_details_markdowns/intermediate_python.md.\n",
      "The markdown file has been successfully created and saved to course_details_markdowns/intermediate_version_control.md.\n",
      "The markdown file has been successfully created and saved to course_details_markdowns/parallel_computing.md.\n",
      "The markdown file has been successfully created and saved to course_details_markdowns/introduction_to_machine_learning.md.\n",
      "The markdown file has been successfully created and saved to course_details_markdowns/working_with_data_in_r.md.\n"
     ]
    }
   ],
   "source": [
    "import os\n",
    "\n",
    "course_names = ['Introduction to Version Control with Git and GitHub',\n",
    " 'Computational Thinking',\n",
    " 'Introduction to R',\n",
    " 'Regression analysis with R',\n",
    " 'Introduction to Unix',\n",
    " 'Introduction to Python',\n",
    " 'Introduction to HPC at Exeter',\n",
    " 'Software development best practice',\n",
    " 'Introduction to Julia',\n",
    " 'Advanced Regression Analysis',\n",
    " 'Intermediate Python',\n",
    " 'Intermediate Version Control',\n",
    " 'Parallel Computing',\n",
    " 'Introduction to Machine Learning',\n",
    " 'Working With Data in R']\n",
    "\n",
    "for course_name in course_names:\n",
    "    output_markdown_file = \"../course_homepages/course_details_markdowns/\" + course_name.replace(\" \", \"_\").lower() + \".md\"\n",
    "    # Formulate the script command using Python string formatting\n",
    "    script_command = f\"python supporting_scripts/generate_workshop_markdown_details.py data/admin/workshop_details.csv \\\"{course_name}\\\" \\\"{output_markdown_file}\\\"\"\n",
    "    \n",
    "    # Execute the script using the os.system() function from the os module\n",
    "    \n",
    "    os.system(script_command)"
   ]
  },
  {
   "cell_type": "code",
   "execution_count": 3,
   "id": "ddea1c2a-6a17-427c-9bbb-e97e398ceb80",
   "metadata": {
    "editable": true,
    "slideshow": {
     "slide_type": ""
    },
    "tags": []
   },
   "outputs": [
    {
     "name": "stdout",
     "output_type": "stream",
     "text": [
      "The markdown files have been successfully created and saved to course_details_markdowns/all_upcoming_workshops.md and course_details_markdowns/upcoming_workshops.md.\n"
     ]
    }
   ],
   "source": [
    "!python supporting_scripts/generate_upcoming_workshops.py data/admin/workshop_details.csv course_details_markdowns/all_upcoming_workshops.md course_details_markdowns/upcoming_workshops.md"
   ]
  },
  {
   "cell_type": "code",
   "execution_count": null,
   "id": "2e881b4e-f9e8-4a2d-9e41-0277d3202756",
   "metadata": {
    "editable": true,
    "slideshow": {
     "slide_type": ""
    },
    "tags": []
   },
   "outputs": [],
   "source": []
  }
 ],
 "metadata": {
  "kernelspec": {
   "display_name": "Python 3 (ipykernel)",
   "language": "python",
   "name": "python3"
  },
  "language_info": {
   "codemirror_mode": {
    "name": "ipython",
    "version": 3
   },
   "file_extension": ".py",
   "mimetype": "text/x-python",
   "name": "python",
   "nbconvert_exporter": "python",
   "pygments_lexer": "ipython3",
   "version": "3.9.19"
  }
 },
 "nbformat": 4,
 "nbformat_minor": 5
}
