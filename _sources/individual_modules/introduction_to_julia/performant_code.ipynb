{
 "cells": [
  {
   "cell_type": "markdown",
   "id": "450b2f92-a8af-4f45-a94f-05a3cdf8ad94",
   "metadata": {
    "editable": true,
    "slideshow": {
     "slide_type": ""
    },
    "tags": []
   },
   "source": [
    "# Performant Code\n",
    "Julia was designed for high-performance numerical and scientific computing. In order to fully utilise Julia capabilities writing performant code is cruical, particularly for the computationaly intensive tasks it has been desinged for. \n",
    "\n",
    "## Learning Objectives\n",
    "- Understand the basics of performance tuning strategies in Julia\n",
    "- Learn about type stability and its importance in Julia\n",
    "- Understand the impact of global variables on performance and how to avoid them\n",
    "- Learn the importance of using built-in functions for optimisation\n",
    "- Learn to choose the appropriate data structure for different tasks\n",
    "- Understand the importance of memory management in writing performance code\n",
    "- Learn to profile and optimise Julia code for better performance\n",
    "- Understand how to measure running time and memory allocations in Julia\n",
    "- Learn to identify bottlenecks in code using profiling tools \n",
    "\n",
    "## Overview of Performance Tuning Strategies\n",
    "Performance tuning involves writing efficient code and using profiling tools to identify and address the performance bottlenecks that are found. Some strategies that we will cover include ensuring type stability, minimizing memory allocations, and optimizing computational efficiency.\n",
    "\n",
    "## Efficient Julia Code\n",
    "### Type Stability\n",
    "**Definition**: Type stability means that the type of a variable's value is predictable and consistent within a function. Julia's Just-In-Time (JIT) compiler can optimize type stable code more efficiently. \n",
    "\n",
    "In the example below, type stability is achieved through the use of the type hinting done with the use of `::Vector{Int}` in the function arguement declaration. The `::Vector{Int}` in Julia specifies that the variable should be a vector (array) of integers, ensuring type stability and enabling the compiler to optimize the code more effectively. Type hinting is achieved with the use of the `::`."
   ]
  },
  {
   "cell_type": "code",
   "execution_count": 1,
   "id": "34bdc6f3-3f44-458a-b22a-3fbae44a6197",
   "metadata": {},
   "outputs": [
    {
     "data": {
      "text/plain": [
       "sum_elements_stable (generic function with 1 method)"
      ]
     },
     "execution_count": 1,
     "metadata": {},
     "output_type": "execute_result"
    }
   ],
   "source": [
    "# Type-unstable function\n",
    "function sum_elements(arr)\n",
    "    s = 0\n",
    "    for x in arr\n",
    "        s += x\n",
    "    end\n",
    "    return s\n",
    "end\n",
    "\n",
    "# Type-stable function\n",
    "function sum_elements_stable(arr::Vector{Int})\n",
    "    s = 0\n",
    "    for x in arr\n",
    "        s += x\n",
    "    end\n",
    "    return s\n",
    "end"
   ]
  },
  {
   "cell_type": "markdown",
   "id": "c59fdc30-ec74-4b78-bf5c-722b50705efc",
   "metadata": {},
   "source": [
    "The above example is used within the context of a function, but type hinting to achieve type stability can be done in at the variable level, with some example below."
   ]
  },
  {
   "cell_type": "code",
   "execution_count": 2,
   "id": "fad2b13f-fb66-49a2-9c1a-8d08a3dab62f",
   "metadata": {},
   "outputs": [
    {
     "data": {
      "text/plain": [
       "2×2 Matrix{Float64}:\n",
       " 1.0  2.0\n",
       " 3.0  4.0"
      ]
     },
     "execution_count": 2,
     "metadata": {},
     "output_type": "execute_result"
    }
   ],
   "source": [
    "x::Int = 10         # x must be an integer\n",
    "y::Float64 = 3.14   # y must be a 64-bit floating point number\n",
    "numbers::Vector{Int} = [1, 2, 3, 4]         # Vector (array) of integers\n",
    "matrix::Matrix{Float64} = [1.0 2.0; 3.0 4.0] # Matrix of 64-bit floating point numbers"
   ]
  },
  {
   "cell_type": "markdown",
   "id": "e4857623-7763-435e-a383-2719f157798b",
   "metadata": {},
   "source": [
    "### Avoiding Global Variables \n",
    "Global variables can lead to type instability and hinder the compiler's optimization efforts. In order to tackle the issues of global vairbales, local variables should be used within functions and pass necessary global data as arguments."
   ]
  },
  {
   "cell_type": "code",
   "execution_count": 3,
   "id": "bd148963-9a13-45cc-847f-02ea2f2a1d10",
   "metadata": {},
   "outputs": [
    {
     "data": {
      "text/plain": [
       "488.298487673433"
      ]
     },
     "execution_count": 3,
     "metadata": {},
     "output_type": "execute_result"
    }
   ],
   "source": [
    "# Inefficient use of global variable\n",
    "global_data = rand(1000)\n",
    "\n",
    "function compute_sum()\n",
    "    s = 0\n",
    "    for x in global_data\n",
    "        s += x\n",
    "    end\n",
    "    return s\n",
    "end\n",
    "\n",
    "# Efficient approach\n",
    "function compute_sum(data)\n",
    "    s = 0\n",
    "    for x in data\n",
    "        s += x\n",
    "    end\n",
    "    return s\n",
    "end\n",
    "\n",
    "data = rand(1000)\n",
    "compute_sum(data)\n"
   ]
  },
  {
   "cell_type": "markdown",
   "id": "7fb333c6-2e9c-4c5f-b8ae-0014531a749d",
   "metadata": {},
   "source": [
    "### Utilizing Built-in Functions\n",
    "Julia's built-in functions are highly optimized and should be used when possible to achieve the best performance possible."
   ]
  },
  {
   "cell_type": "code",
   "execution_count": 4,
   "id": "823ff459-8c1a-4e86-b90c-c12bd3664cc0",
   "metadata": {},
   "outputs": [
    {
     "data": {
      "text/plain": [
       "496.59417321092207"
      ]
     },
     "execution_count": 4,
     "metadata": {},
     "output_type": "execute_result"
    }
   ],
   "source": [
    "# Custom sum function\n",
    "function custom_sum(arr)\n",
    "    s = 0\n",
    "    for x in arr\n",
    "        s += x\n",
    "    end\n",
    "    return s\n",
    "end\n",
    "\n",
    "# Using built-in sum function\n",
    "arr = rand(1000)\n",
    "s = sum(arr)\n"
   ]
  },
  {
   "cell_type": "markdown",
   "id": "06b7d803-babb-4298-972c-9e774061aa59",
   "metadata": {},
   "source": [
    "### Using Appropriate Data Structures\n",
    "Choosing the right data structure can significantly impact performance. For example the use of arrays for numerical computations, dictionaries for key-value pairs, and tuples for fixed collections of elements will help you to achieve the most performant Julia code possible. "
   ]
  },
  {
   "cell_type": "code",
   "execution_count": 5,
   "id": "f660c92d-5305-48c7-9295-0661e2e34eb9",
   "metadata": {},
   "outputs": [
    {
     "data": {
      "text/plain": [
       "1000-element Vector{Int64}:\n",
       "    1\n",
       "    2\n",
       "    3\n",
       "    4\n",
       "    5\n",
       "    6\n",
       "    7\n",
       "    8\n",
       "    9\n",
       "   10\n",
       "   11\n",
       "   12\n",
       "   13\n",
       "    ⋮\n",
       "  989\n",
       "  990\n",
       "  991\n",
       "  992\n",
       "  993\n",
       "  994\n",
       "  995\n",
       "  996\n",
       "  997\n",
       "  998\n",
       "  999\n",
       " 1000"
      ]
     },
     "execution_count": 5,
     "metadata": {},
     "output_type": "execute_result"
    }
   ],
   "source": [
    "# Inefficient data structure for numerical computation\n",
    "data = [i for i in 1:1000]\n",
    "\n",
    "# Efficient data structure\n",
    "data = collect(1:1000)"
   ]
  },
  {
   "cell_type": "markdown",
   "id": "187e2def-5d75-4f35-9431-1d242f98860b",
   "metadata": {},
   "source": [
    "### Memory Management\n",
    "Minimizing memory allocations and avoiding unnecessary copying of data can improve performance. For example the use of `view` can be used to create a lightweight reference to a subset of an array without copying it."
   ]
  },
  {
   "cell_type": "code",
   "execution_count": 6,
   "id": "92c0b000-7ea2-40dd-99ea-57a0eff1aa6b",
   "metadata": {},
   "outputs": [
    {
     "data": {
      "text/plain": [
       "10-element view(::Vector{Int64}, 1:10) with eltype Int64:\n",
       "  1\n",
       "  2\n",
       "  3\n",
       "  4\n",
       "  5\n",
       "  6\n",
       "  7\n",
       "  8\n",
       "  9\n",
       " 10"
      ]
     },
     "execution_count": 6,
     "metadata": {},
     "output_type": "execute_result"
    }
   ],
   "source": [
    "# Inefficient copying of array subset\n",
    "subset = data[1:10]\n",
    "\n",
    "# Efficient use of view\n",
    "subset = view(data, 1:10)"
   ]
  },
  {
   "cell_type": "markdown",
   "id": "3fa985a6-044d-4c02-b50d-2b3aa34d750e",
   "metadata": {},
   "source": [
    "## Profiling and Optimization\n",
    "### Introduction to Profiling\n",
    "Profiling is the process of measuring the performance of your code to identify slow parts and optimization opportunities. As Julia is designed to make performant code, Julia has a range of built-in profiling tools to help developers to understand the performance of their code.\n",
    "\n",
    "#### Running Time\n",
    "`@time` is used within Julia to quickly measure the execution time and memory allocations of a piece of code."
   ]
  },
  {
   "cell_type": "code",
   "execution_count": 7,
   "id": "9d6c18d5-5687-4691-97b6-d8a2528fafca",
   "metadata": {},
   "outputs": [
    {
     "name": "stdout",
     "output_type": "stream",
     "text": [
      "  0.000003 seconds (1 allocation: 8.000 KiB)\n"
     ]
    },
    {
     "data": {
      "text/plain": [
       "490.9124246953268"
      ]
     },
     "execution_count": 7,
     "metadata": {},
     "output_type": "execute_result"
    }
   ],
   "source": [
    "@time sum(rand(1000))"
   ]
  },
  {
   "cell_type": "markdown",
   "id": "ce43ab12-540a-4ee3-8ada-bf64884e549c",
   "metadata": {},
   "source": [
    "We can see that running code to run the sum of 1000 rand numbers took a defined amount of time to run. If we increase the size of the numbers that we want to sum over then it will take longer to run. Understanding how the time taken to run the code will change when the size of the input data changes is key to being able to understadn the complexity of the code. It is common place to have a large computational task that is run for a smaller subset of data that will then be able to be used to extrapolate to an estimate of the time it will take the full computational run. "
   ]
  },
  {
   "cell_type": "code",
   "execution_count": 8,
   "id": "cac60585-d059-4692-b241-eaeb7aebd90a",
   "metadata": {},
   "outputs": [
    {
     "name": "stdout",
     "output_type": "stream",
     "text": [
      "  3.589924 seconds (2 allocations: 7.451 GiB, 0.08% gc time)\n"
     ]
    },
    {
     "data": {
      "text/plain": [
       "5.000077359347286e8"
      ]
     },
     "execution_count": 8,
     "metadata": {},
     "output_type": "execute_result"
    }
   ],
   "source": [
    "@time sum(rand(1000000000))"
   ]
  },
  {
   "cell_type": "markdown",
   "id": "3e8d962d-e8bc-4ba3-a8d4-5fc8c7b68979",
   "metadata": {},
   "source": [
    "### Optimization Techniques Based on Profiling \n",
    "#### Identifying Bottlenecks\n",
    "The primary purpose of using profiling tools is to identify what the bottlenecks within your code are. The bottlenecks are the portions of the code that are taking a considerable amount of time to run are, which can then be improved to improve the overall runtime of the code. "
   ]
  },
  {
   "cell_type": "code",
   "execution_count": 9,
   "id": "b9eb6923-87d3-4063-b23c-5ce5f8dd5164",
   "metadata": {},
   "outputs": [
    {
     "name": "stdout",
     "output_type": "stream",
     "text": [
      "  0.003901 seconds (3.24 k allocations: 217.344 KiB, 86.99% compilation time)\n",
      "  0.003357 seconds (2.65 k allocations: 167.969 KiB, 85.11% compilation time)\n"
     ]
    },
    {
     "data": {
      "text/plain": [
       "50000.345750146895"
      ]
     },
     "execution_count": 9,
     "metadata": {},
     "output_type": "execute_result"
    }
   ],
   "source": [
    "# Inefficient code\n",
    "function inefficient_sum(arr)\n",
    "    s = 0\n",
    "    for i in 1:length(arr)\n",
    "        s += arr[i]\n",
    "    end\n",
    "    return s\n",
    "end\n",
    "\n",
    "# Optimized code\n",
    "function optimized_sum(arr)\n",
    "    s = 0\n",
    "    for x in arr\n",
    "        s += x\n",
    "    end\n",
    "    return s\n",
    "end\n",
    "\n",
    "data = rand(100000)\n",
    "@time inefficient_sum(data)\n",
    "@time optimized_sum(data)"
   ]
  },
  {
   "cell_type": "markdown",
   "id": "629be264-0d6a-471d-8f51-c5fcf76208c5",
   "metadata": {
    "editable": true,
    "slideshow": {
     "slide_type": ""
    },
    "tags": []
   },
   "source": [
    "In the above example you the `inefficient_sum` function is slower because it repeatedly calls `length(arr)` and uses array indexing `arr[i]`, which incurs additional overhead. In contrast, the `optimized_sum` function iterates directly over the elements of the array using `for x in arr`, which is more efficient and avoids the extra overhead associated with indexing. This is just a very simple example of some of the profiling techniques that can be used, and the particulars of how to optimise a given piece of code will depend on the code that is being looked at. "
   ]
  }
 ],
 "metadata": {
  "kernelspec": {
   "display_name": "Julia 1.10.3",
   "language": "julia",
   "name": "julia-1.10"
  },
  "language_info": {
   "file_extension": ".jl",
   "mimetype": "application/julia",
   "name": "julia",
   "version": "1.10.3"
  }
 },
 "nbformat": 4,
 "nbformat_minor": 5
}
