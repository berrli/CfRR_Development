{
 "cells": [
  {
   "cell_type": "markdown",
   "id": "7570a82d-75f6-4529-8611-a0d36e2205d8",
   "metadata": {
    "editable": true,
    "slideshow": {
     "slide_type": ""
    },
    "tags": []
   },
   "source": [
    "# Functions\n",
    "## Learning Objectives\n",
    "- Define and create functions in Julia\n",
    "- Understand and use lambda (anonymous) functions\n",
    "- Implement multiple dispatch in Julia to handle different types of inputs\n",
    "- Utilize functions to organise and modularize code\n",
    "- Recognize the benefits of using multiple dispatch for flexibility, performance and extensibility \n",
    "\n",
    "## Defining Functions \n",
    "Within Julia, functions are defined using the `function` keyword. A function can return values explicitly with `return`. The following defines a function for calculating the area of a circle"
   ]
  },
  {
   "cell_type": "code",
   "execution_count": 4,
   "id": "0a489a0d-6f07-44da-bd0b-7b3bb56e540a",
   "metadata": {
    "editable": true,
    "slideshow": {
     "slide_type": ""
    },
    "tags": []
   },
   "outputs": [
    {
     "name": "stdout",
     "output_type": "stream",
     "text": [
      "Radius: 5.0 Area: 78.5\n"
     ]
    }
   ],
   "source": [
    "function calculate_circle_area(radius::Float64)\n",
    "    area = 3.14 * radius^2\n",
    "    return area\n",
    "end \n",
    "radius = 5.0\n",
    "println(\"Radius: \", radius, \" Area: \", calculate_circle_area(radius))"
   ]
  },
  {
   "cell_type": "markdown",
   "id": "4cbb4011-ebc9-4ed8-b8a6-d900863550cc",
   "metadata": {},
   "source": [
    "There are three main components to a Julia function: \n",
    "    - **Function Name**: In the above function this is `calculate_circle_area`\n",
    "    - **Parameter**: In the above function this is `radius`. The syntax of `::Float64` denotes type annotation for double precision floating point numbers. \n",
    "    - **Returns**: The computed area using the const\n",
    "\n",
    "To then make use of the function there is a need to call the function with the arguement for the parameter, seen in the above with calculating the area of a circle with a radius of 5. \n",
    "\n",
    "## Lambda (Anonymous) Functions \n",
    "Lambda functions are functions that are not bound to a name and often used as short code snippets that are passed onto higher-order functions. An example definition and usage of a lambda function can be seen below."
   ]
  },
  {
   "cell_type": "code",
   "execution_count": 6,
   "id": "7434426f-4718-4af3-b582-a57002bbe357",
   "metadata": {},
   "outputs": [
    {
     "name": "stdout",
     "output_type": "stream",
     "text": [
      "[1, 4, 9, 16, 25]\n"
     ]
    }
   ],
   "source": [
    "numbers = [1,2,3,4,5]\n",
    "squared_numbers = map(x -> x * x, numbers)\n",
    "println(squared_numbers)"
   ]
  },
  {
   "cell_type": "markdown",
   "id": "cf48ba04-7573-4177-9213-533930a955d1",
   "metadata": {},
   "source": [
    "## Multiple Dispatch\n",
    "Multiple dispatch is a key feature of Julia, where the function that is called depends on the runtime types of all arguements, allowing for efficient and flexible code. Below is an example defining multiple version of an \"add\" function, where each handles a different type of input. "
   ]
  },
  {
   "cell_type": "code",
   "execution_count": 8,
   "id": "c67d51c0-1735-4cb0-b099-41a4ebc933c9",
   "metadata": {},
   "outputs": [
    {
     "name": "stdout",
     "output_type": "stream",
     "text": [
      "30\n",
      "Hello world!\n"
     ]
    }
   ],
   "source": [
    "# Function for adding two numbers together \n",
    "add(x::Int, y::Int) = x + y\n",
    "\n",
    "# Function for concatenating string \n",
    "add(x::String, y::String) = x * \" \" * y\n",
    "\n",
    "println(add(10,20))\n",
    "println(add(\"Hello\",\"world!\"))"
   ]
  },
  {
   "cell_type": "markdown",
   "id": "6dfe15e8-4386-46c1-b7ea-f69300a3455c",
   "metadata": {
    "editable": true,
    "slideshow": {
     "slide_type": ""
    },
    "tags": []
   },
   "source": [
    "The use of multiple dispatch has a range of different benefits including:\n",
    "- **Flexibility**: Functions can be written in a generic manner, with specific behaviour implemented for specific types.\n",
    "- **Performance**: Julia is able to optimize the method calls at runtime, leading to efficient code execution.\n",
    "- **Extenability**: New types can be introducted without requiring existing code modification. "
   ]
  }
 ],
 "metadata": {
  "kernelspec": {
   "display_name": "Julia 1.10.3",
   "language": "julia",
   "name": "julia-1.10"
  },
  "language_info": {
   "file_extension": ".jl",
   "mimetype": "application/julia",
   "name": "julia",
   "version": "1.10.3"
  }
 },
 "nbformat": 4,
 "nbformat_minor": 5
}
