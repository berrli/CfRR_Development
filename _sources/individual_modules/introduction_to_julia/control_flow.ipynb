{
 "cells": [
  {
   "cell_type": "markdown",
   "id": "cb40248e-f2ba-4c9f-bd1b-83910dcc5885",
   "metadata": {
    "editable": true,
    "slideshow": {
     "slide_type": ""
    },
    "tags": []
   },
   "source": [
    "# Control Flow\n",
    "## Learning Objectives\n",
    "- Understand and use conditions statement (`if`, `else`, `else if`) in Julia\n",
    "- Implement `for` and `while` loops to execute repetitive tasks\n",
    "- Recognize how control flow structures are used to manage the execution of code based on conditions\n",
    "- Write programs that use loops and conditional statement to solve problems\n",
    "- Understand the syntax and applications of different control flow constructs in Julia\n",
    "\n",
    "\n",
    "## Conditional Statements \n",
    "Julia uses `if`, `else`, and `elseif` to allow your program to execute different sections of code based on whether a coniditon (or set of conditions) is true or false. For example the code below will determine if a given number is negative, positive or zero."
   ]
  },
  {
   "cell_type": "code",
   "execution_count": 4,
   "id": "bca3e233-2c06-4121-9d56-5e071e9c4ca2",
   "metadata": {},
   "outputs": [
    {
     "name": "stdout",
     "output_type": "stream",
     "text": [
      "Value equals 100\n",
      "The value is positive!\n"
     ]
    }
   ],
   "source": [
    "x = 100\n",
    "println(\"Value equals \", x)\n",
    "if x < 0\n",
    "    println(\"The value is negative!\")\n",
    "elseif x == 0\n",
    "    println(\"The value is zero!\")\n",
    "else\n",
    "    println(\"The value is positive!\")\n",
    "end"
   ]
  },
  {
   "cell_type": "markdown",
   "id": "c2917029-0419-4384-a91a-262f54c1e1d8",
   "metadata": {},
   "source": [
    "## Loops \n",
    "Loops are used to repeat a block of code multiple tims. Two common types of loop are, `for` and `while`.\n",
    "A `for` loop is used to iterate over a range or collection."
   ]
  },
  {
   "cell_type": "code",
   "execution_count": 7,
   "id": "f27b7a8e-1f04-44b3-980f-c4d9f3e7652f",
   "metadata": {},
   "outputs": [
    {
     "name": "stdout",
     "output_type": "stream",
     "text": [
      "1\n",
      "2\n",
      "3\n",
      "4\n",
      "5\n"
     ]
    }
   ],
   "source": [
    "# Print the values 1 through 5.\n",
    "for i in 1:5\n",
    "    println(i)\n",
    "end"
   ]
  },
  {
   "cell_type": "markdown",
   "id": "66e473db-9766-4e49-8602-8e7a78e08186",
   "metadata": {},
   "source": [
    "A `while` loop repeats as long as a certain condition is true. "
   ]
  },
  {
   "cell_type": "code",
   "execution_count": 8,
   "id": "663769c1-b4b0-4c23-8cf2-a21fb10cfa25",
   "metadata": {
    "editable": true,
    "slideshow": {
     "slide_type": ""
    },
    "tags": []
   },
   "outputs": [
    {
     "name": "stdout",
     "output_type": "stream",
     "text": [
      "5\n",
      "4\n",
      "3\n",
      "2\n",
      "1\n"
     ]
    }
   ],
   "source": [
    "# Prints the values from 5 down to 1 \n",
    "x = 5 \n",
    "while x > 0\n",
    "    println(x)\n",
    "    x -= 1 # Decrease the value of x by 1 on each iteration\n",
    "end"
   ]
  }
 ],
 "metadata": {
  "kernelspec": {
   "display_name": "Julia 1.10.3",
   "language": "julia",
   "name": "julia-1.10"
  },
  "language_info": {
   "file_extension": ".jl",
   "mimetype": "application/julia",
   "name": "julia",
   "version": "1.10.3"
  }
 },
 "nbformat": 4,
 "nbformat_minor": 5
}
