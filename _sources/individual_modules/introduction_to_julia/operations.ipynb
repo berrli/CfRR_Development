{
 "cells": [
  {
   "cell_type": "markdown",
   "id": "ff9e1ab3-411d-4969-a8a6-c406e2fb282b",
   "metadata": {
    "editable": true,
    "slideshow": {
     "slide_type": ""
    },
    "tags": []
   },
   "source": [
    "# Operations \n",
    "## Learning Objectives\n",
    "- Perform basic arithmetic operations in Julia\n",
    "- Use logical operators to perform logical operations\n",
    "- Apply comparison operators to compare values\n",
    "- Understand the syntax and usage of different operators in Julia\n",
    "- Implement basic mathematical and logical operations in Julia scripts\n",
    "\n",
    "## Arthmetic Operations"
   ]
  },
  {
   "cell_type": "code",
   "execution_count": 1,
   "id": "9e180110-0b8c-4613-b573-8b25e9300a0c",
   "metadata": {},
   "outputs": [
    {
     "name": "stdout",
     "output_type": "stream",
     "text": [
      "X: 10\n",
      "Y: 3\n",
      "Addition, x + y: 13\n",
      "Subtraction, x - y: 7\n",
      "Multiplication, x * y: 30\n",
      "Divison, x / y: 3.3333333333333335\n",
      "Floor Division, x ÷ y: 3\n",
      "Modulus, x % y: 1\n",
      "Exponentiation, x ^ y: 1000\n"
     ]
    }
   ],
   "source": [
    "x = 10\n",
    "y = 3\n",
    "\n",
    "println(\"X: \", x)\n",
    "println(\"Y: \", y)\n",
    "\n",
    "# Addition \n",
    "println(\"Addition, x + y: \", x + y)\n",
    "\n",
    "# Subtraction \n",
    "println(\"Subtraction, x - y: \", x - y)\n",
    "\n",
    "# Multiplication \n",
    "println(\"Multiplication, x * y: \", x * y)\n",
    "\n",
    "# Division \n",
    "println(\"Divison, x / y: \", x / y)\n",
    "\n",
    "# Floor Division \n",
    "println(\"Floor Division, x ÷ y: \", x ÷ y)\n",
    "\n",
    "# Modulus \n",
    "println(\"Modulus, x % y: \", x % y)\n",
    "\n",
    "#Exponentiation\n",
    "println(\"Exponentiation, x ^ y: \", x^y)"
   ]
  },
  {
   "cell_type": "markdown",
   "id": "9e989176-6f0d-4124-87f7-efdd99f602d0",
   "metadata": {},
   "source": [
    "## Logical Operations\n",
    "Within Julia AND is denoted with `&&`, OR with `||` and NOT with `!`."
   ]
  },
  {
   "cell_type": "code",
   "execution_count": 2,
   "id": "dc5655e7-8d28-4bf4-aa86-cd3bb51d72e7",
   "metadata": {},
   "outputs": [
    {
     "name": "stdout",
     "output_type": "stream",
     "text": [
      "a: true\n",
      "b: false\n",
      "a AND B: false\n",
      "a OR B: true\n",
      "NOT a: false\n"
     ]
    }
   ],
   "source": [
    "a = true\n",
    "b = false\n",
    "\n",
    "println(\"a: \", a)\n",
    "println(\"b: \", b)\n",
    "\n",
    "\n",
    "println(\"a AND B: \", a && b)  # false\n",
    "println(\"a OR B: \", a || b)  # true\n",
    "println(\"NOT a: \", !a)      # false"
   ]
  },
  {
   "cell_type": "markdown",
   "id": "6b7e4647-f7a1-4bd4-a382-dc7408c8e32f",
   "metadata": {},
   "source": [
    "## Comparison Operations\n",
    "Comparison operations in Julia work on numeric and other comparable types."
   ]
  },
  {
   "cell_type": "code",
   "execution_count": 1,
   "id": "7d5cf922-4746-411b-8878-ca9a4c31f581",
   "metadata": {
    "editable": true,
    "slideshow": {
     "slide_type": ""
    },
    "tags": []
   },
   "outputs": [
    {
     "ename": "LoadError",
     "evalue": "UndefVarError: `x` not defined",
     "output_type": "error",
     "traceback": [
      "UndefVarError: `x` not defined",
      "",
      "Stacktrace:",
      " [1] top-level scope",
      "   @ In[1]:2"
     ]
    }
   ],
   "source": [
    "\n",
    "println(\"X: \", x)\n",
    "println(\"Y: \", y)\n",
    "\n",
    "# Equality\n",
    "println(\"Is x equal to y: \", x == y)\n",
    "\n",
    "# Inequality\n",
    "println(\" Is x not equal to y: \", x != y)  # true\n",
    "\n",
    "# Less than, Greater than\n",
    "println(\"Is x less than y: \", x < y)   # false\n",
    "println(\"Is x greater than y: \", x > y)   # true\n",
    "\n",
    "# Less than or equal to, Greater than or equal to\n",
    "println(\"Is x less than or equal to y: \", x <= y)  # false\n",
    "println(\"Is x greater than or equal to y: \", x >= y)  # true\n"
   ]
  }
 ],
 "metadata": {
  "kernelspec": {
   "display_name": "Julia 1.10.3",
   "language": "julia",
   "name": "julia-1.10"
  },
  "language_info": {
   "file_extension": ".jl",
   "mimetype": "application/julia",
   "name": "julia",
   "version": "1.10.3"
  }
 },
 "nbformat": 4,
 "nbformat_minor": 5
}
