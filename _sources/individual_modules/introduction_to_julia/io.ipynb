{
 "cells": [
  {
   "cell_type": "markdown",
   "id": "48fd687b-b5d4-4d22-8d37-2afd9aa4050e",
   "metadata": {
    "editable": true,
    "slideshow": {
     "slide_type": ""
    },
    "tags": []
   },
   "source": [
    "# Input Output\n",
    "## Learning Objectives\n",
    "- Understand the basic concepts of Input/Output (IO) operations in Julia\n",
    "- Perform file handling operations, including opening, reading, writing and closing files\n",
    "- Read and write different file formats such as CSV, Excel, JSON and others\n",
    "- Use Julia packages for handling specific file formats efficiently\n",
    "- Implement data processing tasks using various file formats \n",
    "\n",
    "## Overview of I/O\n",
    " I/O (Input/Output) operations involve reading data from data streams and outputing data into streams, these typically involve writing data to files and reading data from files.\n",
    "\n",
    "### File Handling \n",
    "File handling can be used in a number of different circumstances including data processing, storage and retrival, alongside creating logs and configuration files."
   ]
  },
  {
   "cell_type": "markdown",
   "id": "022fdd30-4d24-44b7-8a26-110c3a35a5eb",
   "metadata": {},
   "source": [
    "## Basic File Operations \n",
    "### Opening and Closing Files \n",
    "The first arguement to the function `open()` gives the filepath for the file that is to be opened, with the second arguement outlining the permissions, in the case below, read denoted with `r`, but write access could be set with `w`. "
   ]
  },
  {
   "cell_type": "code",
   "execution_count": 1,
   "id": "f77906af-90a1-4ffa-89d8-a9bbcd281c3e",
   "metadata": {},
   "outputs": [],
   "source": [
    "# Open a file in read mode \n",
    "file = open(\"data/input_data.txt\", \"r\")\n",
    "\n",
    "# Close the file\n",
    "close(file)"
   ]
  },
  {
   "cell_type": "markdown",
   "id": "73256311-4553-41cf-a428-9b880ff27ffa",
   "metadata": {},
   "source": [
    "Ofcourse simply opening and closing the file is not a lot of use, and at the very least we will want to read the data in the file. \n",
    "\n",
    "### Reading from and Writing to Files \n",
    "#### Reading from a text file \n"
   ]
  },
  {
   "cell_type": "code",
   "execution_count": 5,
   "id": "ec8487de-5525-45f4-b70a-7ba82abfb1ca",
   "metadata": {},
   "outputs": [
    {
     "name": "stdout",
     "output_type": "stream",
     "text": [
      "DATA\n"
     ]
    }
   ],
   "source": [
    "file = open(\"data/input_data.txt\", \"r\")\n",
    "content = read(file, String)\n",
    "println(content)\n",
    "close(file)"
   ]
  },
  {
   "cell_type": "markdown",
   "id": "65058733-24e8-4620-b23e-876d5ed88e9c",
   "metadata": {},
   "source": [
    "#### Writing to a text file"
   ]
  },
  {
   "cell_type": "code",
   "execution_count": 6,
   "id": "a83b6cac-2517-4a10-9bad-1e930b7af5a3",
   "metadata": {},
   "outputs": [],
   "source": [
    "file = open(\"data/input_data.txt\", \"w\")\n",
    "write(file, \"DATA\")\n",
    "close(file)"
   ]
  },
  {
   "cell_type": "markdown",
   "id": "5174fb6c-14d3-432e-aea4-54d1390b6551",
   "metadata": {},
   "source": [
    "We can reprint the file to ensure that the additional data has been wrote to the file!"
   ]
  },
  {
   "cell_type": "code",
   "execution_count": 7,
   "id": "49577d03-1ca0-4deb-8b2b-b093d21df1c0",
   "metadata": {},
   "outputs": [
    {
     "name": "stdout",
     "output_type": "stream",
     "text": [
      "DATA\n"
     ]
    }
   ],
   "source": [
    "file = open(\"data/input_data.txt\", \"r\")\n",
    "content = read(file, String)\n",
    "println(content)\n",
    "close(file)"
   ]
  },
  {
   "cell_type": "markdown",
   "id": "85d11a40-f4a8-4e34-bc0e-520ca7f5a608",
   "metadata": {},
   "source": [
    "As you can see from the output the only content within the file is the content that we have put into the file. If we want to instead append data to the file, then we can make use of the arguement `a` rather than `w`."
   ]
  },
  {
   "cell_type": "code",
   "execution_count": 9,
   "id": "8db112d9-c492-4d0f-a2fb-4f9536611201",
   "metadata": {},
   "outputs": [
    {
     "name": "stdout",
     "output_type": "stream",
     "text": [
      "DATAAPPEND DATA APPEND DATA\n"
     ]
    }
   ],
   "source": [
    "# Open the file in append mode\n",
    "file = open(\"data/input_data.txt\", \"a\")\n",
    "\n",
    "# Data to append\n",
    "data_to_append = \" APPEND DATA\"\n",
    "\n",
    "# Write the data to the file\n",
    "write(file, data_to_append)\n",
    "\n",
    "# Close the file\n",
    "close(file)\n",
    "\n",
    "# Re-open the file in read mode to verify the content\n",
    "file = open(\"data/input_data.txt\", \"r\")\n",
    "content = read(file, String)\n",
    "println(content)\n",
    "close(file)"
   ]
  },
  {
   "cell_type": "markdown",
   "id": "36d74c5c-2cdb-488a-81e5-9e9aac6ea9ec",
   "metadata": {},
   "source": [
    "#### Reading a csv file \n",
    "To work with csv files we will likely want to make use of the CSV.jl package, which can be installed as below:"
   ]
  },
  {
   "cell_type": "code",
   "execution_count": 11,
   "id": "26198ce2-1ac2-4f56-b752-225ad7db5e99",
   "metadata": {},
   "outputs": [
    {
     "name": "stderr",
     "output_type": "stream",
     "text": [
      "\u001b[32m\u001b[1m   Resolving\u001b[22m\u001b[39m package versions...\n",
      "\u001b[32m\u001b[1m  No Changes\u001b[22m\u001b[39m to `~/Documents/CfRR/CfRR_Courses/Project.toml`\n",
      "\u001b[32m\u001b[1m  No Changes\u001b[22m\u001b[39m to `~/Documents/CfRR/CfRR_Courses/Manifest.toml`\n"
     ]
    }
   ],
   "source": [
    "using Pkg\n",
    "Pkg.add(\"CSV\")"
   ]
  },
  {
   "cell_type": "markdown",
   "id": "16d8b3d4-f8ab-4c94-8b70-7b9418f05c9f",
   "metadata": {},
   "source": [
    "Data from a .csv file can then be read in with a similar manner, which is a more likely scenario in a research setting, such as the output data from a weather station."
   ]
  },
  {
   "cell_type": "code",
   "execution_count": null,
   "id": "606ee598-1865-4bcb-bf4a-e7f027be2fb5",
   "metadata": {},
   "outputs": [],
   "source": [
    "using CSV"
   ]
  },
  {
   "cell_type": "code",
   "execution_count": 13,
   "id": "752da5ae-379f-4c82-82d5-500017c8fcab",
   "metadata": {},
   "outputs": [
    {
     "name": "stdout",
     "output_type": "stream",
     "text": [
      "CSV.File(\"data/exeter_university_weather.csv\"):\n",
      "Size: 5 x 6\n",
      "Tables.Schema:\n",
      " :Date                 Dates.Date\n",
      " :Temperature_C        Float64\n",
      " Symbol(\"Humidity_%\")  Int64\n",
      " :Wind_Speed_kmph      Int64\n",
      " :Precipitation_mm     Float64\n",
      " :Pressure_hPa         Int64\n"
     ]
    }
   ],
   "source": [
    "data = CSV.File(\"data/exeter_university_weather.csv\")\n",
    "println(data)"
   ]
  },
  {
   "cell_type": "markdown",
   "id": "c4684d06-75f8-45b5-89c1-d85a4d6d472b",
   "metadata": {},
   "source": [
    "The format above gives us an overview of the data that is within the file, but if we want to perform some processing on the data, then the use of the dataframes package will be useful, which we can install as done below. "
   ]
  },
  {
   "cell_type": "code",
   "execution_count": 15,
   "id": "41aae80e-fecf-4f8b-acdd-e5fc1623be39",
   "metadata": {},
   "outputs": [
    {
     "name": "stderr",
     "output_type": "stream",
     "text": [
      "\u001b[32m\u001b[1m   Resolving\u001b[22m\u001b[39m package versions...\n",
      "\u001b[32m\u001b[1m  No Changes\u001b[22m\u001b[39m to `~/Documents/CfRR/CfRR_Courses/Project.toml`\n",
      "\u001b[32m\u001b[1m  No Changes\u001b[22m\u001b[39m to `~/Documents/CfRR/CfRR_Courses/Manifest.toml`\n"
     ]
    }
   ],
   "source": [
    "Pkg.add(\"DataFrames\")"
   ]
  },
  {
   "cell_type": "code",
   "execution_count": 16,
   "id": "a6830717-e268-4524-831d-52a1a9c6d308",
   "metadata": {},
   "outputs": [
    {
     "name": "stdout",
     "output_type": "stream",
     "text": [
      "\u001b[1m5×6 DataFrame\u001b[0m\n",
      "\u001b[1m Row \u001b[0m│\u001b[1m Date       \u001b[0m\u001b[1m Temperature_C \u001b[0m\u001b[1m Humidity_% \u001b[0m\u001b[1m Wind_Speed_kmph \u001b[0m\u001b[1m Precipitation_mm \u001b[0m\u001b[1m Pressure_hPa \u001b[0m\n",
      "     │\u001b[90m Date       \u001b[0m\u001b[90m Float64       \u001b[0m\u001b[90m Int64      \u001b[0m\u001b[90m Int64           \u001b[0m\u001b[90m Float64          \u001b[0m\u001b[90m Int64        \u001b[0m\n",
      "─────┼────────────────────────────────────────────────────────────────────────────────────────\n",
      "   1 │ 2024-05-20           15.6          82               12               0.0          1012\n",
      "   2 │ 2024-05-21           16.1          78               15               1.2          1010\n",
      "   3 │ 2024-05-22           14.8          80               14               0.0          1011\n",
      "   4 │ 2024-05-23           15.0          83               10               0.5          1013\n",
      "   5 │ 2024-05-24           16.3          79               13               0.0          1012\n"
     ]
    },
    {
     "ename": "KeyError",
     "evalue": "KeyError: key \"debug_request\" not found",
     "output_type": "error",
     "traceback": [
      "KERNEL EXCEPTION",
      "KeyError: key \"debug_request\" not found",
      "",
      "Stacktrace:",
      " [1] getindex(h::Dict{String, Function}, key::String)",
      "   @ Base ./dict.jl:498",
      " [2] eventloop(socket::ZMQ.Socket)",
      "   @ IJulia ~/.julia/packages/IJulia/Vo51o/src/eventloop.jl:8",
      " [3] (::IJulia.var\"#14#17\")()",
      "   @ IJulia ~/.julia/packages/IJulia/Vo51o/src/eventloop.jl:37"
     ]
    },
    {
     "ename": "KeyError",
     "evalue": "KeyError: key \"debug_request\" not found",
     "output_type": "error",
     "traceback": [
      "KERNEL EXCEPTION",
      "KeyError: key \"debug_request\" not found",
      "",
      "Stacktrace:",
      " [1] getindex(h::Dict{String, Function}, key::String)",
      "   @ Base ./dict.jl:498",
      " [2] eventloop(socket::ZMQ.Socket)",
      "   @ IJulia ~/.julia/packages/IJulia/Vo51o/src/eventloop.jl:8",
      " [3] (::IJulia.var\"#14#17\")()",
      "   @ IJulia ~/.julia/packages/IJulia/Vo51o/src/eventloop.jl:37"
     ]
    },
    {
     "ename": "KeyError",
     "evalue": "KeyError: key \"debug_request\" not found",
     "output_type": "error",
     "traceback": [
      "KERNEL EXCEPTION",
      "KeyError: key \"debug_request\" not found",
      "",
      "Stacktrace:",
      " [1] getindex(h::Dict{String, Function}, key::String)",
      "   @ Base ./dict.jl:498",
      " [2] eventloop(socket::ZMQ.Socket)",
      "   @ IJulia ~/.julia/packages/IJulia/Vo51o/src/eventloop.jl:8",
      " [3] (::IJulia.var\"#14#17\")()",
      "   @ IJulia ~/.julia/packages/IJulia/Vo51o/src/eventloop.jl:37"
     ]
    },
    {
     "ename": "KeyError",
     "evalue": "KeyError: key \"debug_request\" not found",
     "output_type": "error",
     "traceback": [
      "KERNEL EXCEPTION",
      "KeyError: key \"debug_request\" not found",
      "",
      "Stacktrace:",
      " [1] getindex(h::Dict{String, Function}, key::String)",
      "   @ Base ./dict.jl:498",
      " [2] eventloop(socket::ZMQ.Socket)",
      "   @ IJulia ~/.julia/packages/IJulia/Vo51o/src/eventloop.jl:8",
      " [3] (::IJulia.var\"#14#17\")()",
      "   @ IJulia ~/.julia/packages/IJulia/Vo51o/src/eventloop.jl:37"
     ]
    }
   ],
   "source": [
    "using DataFrames\n",
    "\n",
    "# Read the CSV file into a DataFrame\n",
    "df = CSV.read(\"data/exeter_university_weather.csv\", DataFrame)\n",
    "\n",
    "# Print the DataFrame\n",
    "println(df)"
   ]
  },
  {
   "cell_type": "markdown",
   "id": "3af7c05e-70f3-4ff5-872b-445bac7f2079",
   "metadata": {
    "editable": true,
    "slideshow": {
     "slide_type": ""
    },
    "tags": []
   },
   "source": [
    "## Overview of Common File Formats\n",
    "\n",
    "Julia supports a variety of file formats for data storage and manipulation. Below is an overview of some commonly used file formats along with links to detailed resources for each format.\n",
    "\n",
    "## 1. CSV Files\n",
    "CSV (Comma-Separated Values) files are one of the most widely used formats for storing tabular data. Julia provides excellent support for reading and writing CSV files using the `CSV.jl` package.\n",
    "\n",
    "[CSV Files in Julia](https://csv.juliadata.org/stable/)\n",
    "\n",
    "## 2. Excel Files\n",
    "Excel files (with extensions `.xlsx` or `.xls`) are commonly used for spreadsheet data. The `ExcelFiles.jl` and `XLSX.jl` packages allow for reading and writing Excel files in Julia.\n",
    "\n",
    "[Excel Files in Julia](https://github.com/queryverse/ExcelFiles.jl)\n",
    "\n",
    "## 3. JSON Files\n",
    "JSON (JavaScript Object Notation) is a lightweight data interchange format. Julia can handle JSON files using the `JSON.jl` package.\n",
    "\n",
    "[JSON Files in Julia](https://github.com/JuliaIO/JSON.jl)\n",
    "\n",
    "## 4. HDF5 Files\n",
    "HDF5 (Hierarchical Data Format version 5) is designed to store large amounts of data. The `HDF5.jl` package provides support for reading and writing HDF5 files in Julia.\n",
    "\n",
    "[HDF5 Files in Julia](https://github.com/JuliaIO/HDF5.jl)\n",
    "\n",
    "## 5. Feather Files\n",
    "Feather is a binary columnar data format optimized for use with data frames. Julia can read and write Feather files using the `Feather.jl` package.\n",
    "\n",
    "[Feather Files in Julia](https://github.com/JuliaData/Feather.jl)\n",
    "\n",
    "## 6. Parquet Files\n",
    "Parquet is another columnar storage file format optimized for use with data analytics. The `Parquet.jl` package allows for reading and writing Parquet files in Julia.\n",
    "\n",
    "[Parquet Files in Julia](https://github.com/JuliaIO/Parquet.jl)\n",
    "\n",
    "## 7. NetCDF Files\n",
    "NetCDF (Network Common Data Form) is a set of software libraries and self-describing, machine-independent data formats. The `NCDatasets.jl` package is used for working with NetCDF files in Julia.\n",
    "\n",
    "[NetCDF Files in Julia](https://github.com/Alexander-Barth/NCDatasets.jl)\n",
    "\n",
    "## 8. BSON Files\n",
    "BSON (Binary JSON) is a binary representation of JSON-like documents. Julia supports BSON files using the `BSON.jl` package.\n",
    "\n",
    "[BSON Files in Julia](https://github.com/JuliaIO/BSON.jl)\n",
    "\n",
    "By using the above links, you can explore more about each file format and learn how to effectively use them in Julia.\n"
   ]
  }
 ],
 "metadata": {
  "kernelspec": {
   "display_name": "Julia 1.10.3",
   "language": "julia",
   "name": "julia-1.10"
  },
  "language_info": {
   "file_extension": ".jl",
   "mimetype": "application/julia",
   "name": "julia",
   "version": "1.10.3"
  }
 },
 "nbformat": 4,
 "nbformat_minor": 5
}
