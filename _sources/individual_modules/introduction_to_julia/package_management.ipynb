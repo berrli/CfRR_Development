{
 "cells": [
  {
   "cell_type": "markdown",
   "id": "0c81dff2-cf9d-4951-899b-b4cf978eec1c",
   "metadata": {
    "editable": true,
    "slideshow": {
     "slide_type": ""
    },
    "tags": []
   },
   "source": [
    "# Package Management\n",
    "## Learning Objectives\n",
    "- Understand the basics of Julia's package management system\n",
    "- Add, remove, and update packages using Julias package manage (Pkg)\n",
    "- View and manage installed packages in your Julia environment\n",
    "- Explore common Julia packages and their functionalities\n",
    "- Implement package management best practices in your Julia projects \n",
    "\n",
    "As seen at various points throughout this course, Julia makes use of packages to provide access to key functionality that you will likely you commonly within your workflow. \n",
    "\n",
    "## Overview of Julia's Package System \n",
    "Julia has a rich ecosystem of packages, enabling access to extended functioanlity for a number ofvarious tasks, including data analysis, visualisation, and scientific computing to name a few. The Julia package manager (Pkg) is a powerful tool for managing these packages. \n",
    "\n",
    "The use of the Pkg manager allows for effective package management, making it easy to install, update, and manage dependencies.\n",
    "\n",
    "## Using Packages \n",
    "### Adding Packages \n",
    "To add a package, use the `Pkg.add` function. For example, to add the Plots.jl package:"
   ]
  },
  {
   "cell_type": "markdown",
   "id": "9d917964-31c1-45c3-b3db-b7f8457953f9",
   "metadata": {},
   "source": [
    "``` Julia\n",
    "using Pkg\n",
    "Pkg.add(\"Plots\")\n",
    "```"
   ]
  },
  {
   "cell_type": "markdown",
   "id": "e275db4a-0353-4140-91ff-922c0b43c8b2",
   "metadata": {
    "editable": true,
    "slideshow": {
     "slide_type": ""
    },
    "tags": []
   },
   "source": [
    "of note is that before you are able to use a package you first need to import it, which in Julia can be achieved with the use of 'using <package-name>`. Infact within Julia Pkg is also a package and so needs to be imported before you are then able to import other packages. \n",
    "\n",
    "### Removing Packages\n",
    "Removing packages can be achieved with the use of `Pkg.rm`. For example to remove the package \"Plots\" we could make use of the command `Pkg.rm(\"Plots\")`\n",
    "\n",
    "### Updating Packages\n",
    "Packages can be updated to their latest version with the use of the `Pkg.update`, with the command to update \"Plots\" being used `Pkg.update(\"Plots\")`.\n",
    "\n",
    "### View Installed Packages\n",
    "To view a list of all the installed packages, the command `Pkg.status()` can be used. "
   ]
  },
  {
   "cell_type": "markdown",
   "id": "4b4f05b8-6e00-48b3-96c3-062ec6eef335",
   "metadata": {
    "editable": true,
    "slideshow": {
     "slide_type": ""
    },
    "tags": []
   },
   "source": [
    "``` Julia\n",
    "Pkg.status()\n",
    "\n",
    "```"
   ]
  },
  {
   "cell_type": "markdown",
   "id": "1b89fe00-99f7-451c-80a7-3b2d88261614",
   "metadata": {
    "editable": true,
    "slideshow": {
     "slide_type": ""
    },
    "tags": []
   },
   "source": [
    "# Overview of Common Packages in Julia\n",
    "\n",
    "Julia has a rich ecosystem of packages that cater to various needs such as data manipulation, visualization, scientific computing, and more. Below is an overview of some commonly used packages along with links to detailed resources for each package.\n",
    "\n",
    "## 1. DataFrames.jl\n",
    "`DataFrames.jl` provides tools for working with tabular data, similar to pandas in Python or data.frame in R. It is essential for data manipulation and analysis.\n",
    "\n",
    "[DataFrames.jl](https://dataframes.juliadata.org/stable/)\n",
    "\n",
    "## 2. Plots.jl\n",
    "`Plots.jl` is a powerful and flexible plotting package in Julia. It supports multiple backends and is widely used for creating a variety of visualizations.\n",
    "\n",
    "[Plots.jl](https://docs.juliaplots.org/stable/)\n",
    "\n",
    "## 3. CSV.jl\n",
    "`CSV.jl` is a fast and reliable package for reading and writing CSV files. It integrates seamlessly with `DataFrames.jl` for handling tabular data.\n",
    "\n",
    "[CSV.jl](https://csv.juliadata.org/stable/)\n",
    "\n",
    "## 4. JuliaDB.jl\n",
    "`JuliaDB.jl` is designed for working with large datasets. It provides powerful tools for data manipulation and analysis, optimized for performance.\n",
    "\n",
    "[JuliaDB.jl](http://juliadb.org/latest/)\n",
    "\n",
    "## 5. JuMP.jl\n",
    "`JuMP.jl` is a domain-specific modeling language for mathematical optimization embedded in Julia. It is used for linear programming, nonlinear programming, and other optimization problems.\n",
    "\n",
    "[JuMP.jl](https://jump.dev/JuMP.jl/stable/)\n",
    "\n",
    "## 6. Distributions.jl\n",
    "`Distributions.jl` provides a large collection of probability distributions and related functions. It is useful for statistical modeling and probabilistic computations.\n",
    "\n",
    "[Distributions.jl](https://juliastats.org/Distributions.jl/stable/)\n",
    "\n",
    "## 7. Flux.jl\n",
    "`Flux.jl` is a machine learning library in Julia. It is designed to be easy to use while being highly extensible, providing tools for building and training neural networks.\n",
    "\n",
    "[Flux.jl](https://fluxml.ai/Flux.jl/stable/)\n",
    "\n",
    "## 8. Makie.jl\n",
    "`Makie.jl` is a high-performance plotting library for data visualization. It provides a powerful and flexible interface for creating complex visualizations.\n",
    "\n",
    "[Makie.jl](https://makie.juliaplots.org/stable/)\n",
    "\n",
    "## 9. HTTP.jl\n",
    "`HTTP.jl` is a package for handling HTTP requests and responses. It is useful for web development, API interactions, and network programming.\n",
    "\n",
    "[HTTP.jl](https://juliaweb.github.io/HTTP.jl/stable/)\n",
    "\n",
    "## 10. Gadfly.jl\n",
    "`Gadfly.jl` is a plotting and data visualization system inspired by ggplot2 in R. It is great for creating complex, aesthetically pleasing plots.\n",
    "\n",
    "[Gadfly.jl](http://gadflyjl.org/stable/)\n",
    "\n",
    "By using the above links, you can explore more about each package and learn how to effectively use them in Julia.\n"
   ]
  }
 ],
 "metadata": {
  "kernelspec": {
   "display_name": "Julia 1.10.3",
   "language": "julia",
   "name": "julia-1.10"
  },
  "language_info": {
   "file_extension": ".jl",
   "mimetype": "application/julia",
   "name": "julia",
   "version": "1.10.3"
  }
 },
 "nbformat": 4,
 "nbformat_minor": 5
}
