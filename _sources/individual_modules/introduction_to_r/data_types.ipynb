{
 "cells": [
  {
   "cell_type": "markdown",
   "id": "94b05ec7-e9de-4179-b1e4-0d0287bbdba5",
   "metadata": {
    "editable": true,
    "slideshow": {
     "slide_type": ""
    },
    "tags": []
   },
   "source": [
    "# Data Types and Structures\n",
    "\n",
    "## Learning Objectives\n",
    "- Understand and identify the five core data types used in R (Numeric, Integer, Complex, Character, Logical)\n",
    "- Learn how to use functions like `typeof()`, `class()`, `mode()`, `length()`, and `attributes()` to examine the features of variables or objects in R\n",
    "- Learn methods to address columns in data frames using the `$` operator or square brackets\n",
    "- Practice defining variables and using R functions to profile their characteristics\n",
    "- Understand and perform conversions between different data types in R\n",
    "\n",
    "## Inbuilt Datasets\n",
    "R has a number of datasets included for you to practice with. We can get a list of these by running the command ```data()```\n"
   ]
  },
  {
   "cell_type": "code",
   "execution_count": 1,
   "id": "60070199-a10d-44df-a759-e056341f893e",
   "metadata": {
    "editable": true,
    "slideshow": {
     "slide_type": ""
    },
    "tags": [
     "remove-input"
    ]
   },
   "outputs": [],
   "source": [
    "%load_ext rpy2.ipython"
   ]
  },
  {
   "cell_type": "code",
   "execution_count": 2,
   "id": "50334ab3-9b73-4fec-8464-eda8d0ac684c",
   "metadata": {
    "editable": true,
    "scrolled": true,
    "slideshow": {
     "slide_type": ""
    },
    "tags": []
   },
   "outputs": [
    {
     "name": "stdout",
     "output_type": "stream",
     "text": [
      "File: /var/folders/r7/wblx0jw96hz08nvjz9p3zsgr0000gp/T//RtmpcTNU8Z/RpackageIQR5eca5ebeecfa\n",
      "Data sets in package ‘.’:\n",
      "\n",
      "\n",
      "\n",
      "bp_dataset_session4     \n",
      "\n",
      "code_session2           \n",
      "\n",
      "plotting_arguments      \n",
      "\n",
      "r_training_session_2_script\n",
      "\n",
      "                        \n",
      "\n",
      "r_training_session_3_script\n",
      "\n",
      "                        \n",
      "\n",
      "r_training_session_4    \n",
      "\n",
      "worms                   \n",
      "\n",
      "\n",
      "\n",
      "Data sets in package ‘datasets’:\n",
      "\n",
      "\n",
      "\n",
      "AirPassengers           Monthly Airline Passenger Numbers 1949-1960\n",
      "\n",
      "BJsales                 Sales Data with Leading Indicator\n",
      "\n",
      "BJsales.lead (BJsales)\n",
      "\n",
      "                        Sales Data with Leading Indicator\n",
      "\n",
      "BOD                     Biochemical Oxygen Demand\n",
      "\n",
      "CO2                     Carbon Dioxide Uptake in Grass Plants\n",
      "\n",
      "ChickWeight             Weight versus age of chicks on different diets\n",
      "\n",
      "DNase                   Elisa assay of DNase\n",
      "\n",
      "EuStockMarkets          Daily Closing Prices of Major European Stock\n",
      "\n",
      "                        Indices, 1991-1998\n",
      "\n",
      "Formaldehyde            Determination of Formaldehyde\n",
      "\n",
      "HairEyeColor            Hair and Eye Color of Statistics Students\n",
      "\n",
      "Harman23.cor            Harman Example 2.3\n",
      "\n",
      "Harman74.cor            Harman Example 7.4\n",
      "\n",
      "Indometh                Pharmacokinetics of Indomethacin\n",
      "\n",
      "InsectSprays            Effectiveness of Insect Sprays\n",
      "\n",
      "JohnsonJohnson          Quarterly Earnings per Johnson & Johnson Share\n",
      "\n",
      "LakeHuron               Level of Lake Huron 1875-1972\n",
      "\n",
      "LifeCycleSavings        Intercountry Life-Cycle Savings Data\n",
      "\n",
      "Loblolly                Growth of Loblolly pine trees\n",
      "\n",
      "Nile                    Flow of the River Nile\n",
      "\n",
      "Orange                  Growth of Orange Trees\n",
      "\n",
      "OrchardSprays           Potency of Orchard Sprays\n",
      "\n",
      "PlantGrowth             Results from an Experiment on Plant Growth\n",
      "\n",
      "Puromycin               Reaction Velocity of an Enzymatic Reaction\n",
      "\n",
      "Seatbelts               Road Casualties in Great Britain 1969-84\n",
      "\n",
      "Theoph                  Pharmacokinetics of Theophylline\n",
      "\n",
      "Titanic                 Survival of passengers on the Titanic\n",
      "\n",
      "ToothGrowth             The Effect of Vitamin C on Tooth Growth in\n",
      "\n",
      "                        Guinea Pigs\n",
      "\n",
      "UCBAdmissions           Student Admissions at UC Berkeley\n",
      "\n",
      "UKDriverDeaths          Road Casualties in Great Britain 1969-84\n",
      "\n",
      "UKgas                   UK Quarterly Gas Consumption\n",
      "\n",
      "USAccDeaths             Accidental Deaths in the US 1973-1978\n",
      "\n",
      "USArrests               Violent Crime Rates by US State\n",
      "\n",
      "USJudgeRatings          Lawyers' Ratings of State Judges in the US\n",
      "\n",
      "                        Superior Court\n",
      "\n",
      "USPersonalExpenditure   Personal Expenditure Data\n",
      "\n",
      "UScitiesD               Distances Between European Cities and Between\n",
      "\n",
      "                        US Cities\n",
      "\n",
      "VADeaths                Death Rates in Virginia (1940)\n",
      "\n",
      "WWWusage                Internet Usage per Minute\n",
      "\n",
      "WorldPhones             The World's Telephones\n",
      "\n",
      "ability.cov             Ability and Intelligence Tests\n",
      "\n",
      "airmiles                Passenger Miles on Commercial US Airlines,\n",
      "\n",
      "                        1937-1960\n",
      "\n",
      "airquality              New York Air Quality Measurements\n",
      "\n",
      "anscombe                Anscombe's Quartet of 'Identical' Simple Linear\n",
      "\n",
      "                        Regressions\n",
      "\n",
      "attenu                  The Joyner-Boore Attenuation Data\n",
      "\n",
      "attitude                The Chatterjee-Price Attitude Data\n",
      "\n",
      "austres                 Quarterly Time Series of the Number of\n",
      "\n",
      "                        Australian Residents\n",
      "\n",
      "beaver1 (beavers)       Body Temperature Series of Two Beavers\n",
      "\n",
      "beaver2 (beavers)       Body Temperature Series of Two Beavers\n",
      "\n",
      "cars                    Speed and Stopping Distances of Cars\n",
      "\n",
      "chickwts                Chicken Weights by Feed Type\n",
      "\n",
      "co2                     Mauna Loa Atmospheric CO2 Concentration\n",
      "\n",
      "crimtab                 Student's 3000 Criminals Data\n",
      "\n",
      "discoveries             Yearly Numbers of Important Discoveries\n",
      "\n",
      "esoph                   Smoking, Alcohol and (O)esophageal Cancer\n",
      "\n",
      "euro                    Conversion Rates of Euro Currencies\n",
      "\n",
      "euro.cross (euro)       Conversion Rates of Euro Currencies\n",
      "\n",
      "eurodist                Distances Between European Cities and Between\n",
      "\n",
      "                        US Cities\n",
      "\n",
      "faithful                Old Faithful Geyser Data\n",
      "\n",
      "fdeaths (UKLungDeaths)\n",
      "\n",
      "                        Monthly Deaths from Lung Diseases in the UK\n",
      "\n",
      "freeny                  Freeny's Revenue Data\n",
      "\n",
      "freeny.x (freeny)       Freeny's Revenue Data\n",
      "\n",
      "freeny.y (freeny)       Freeny's Revenue Data\n",
      "\n",
      "infert                  Infertility after Spontaneous and Induced\n",
      "\n",
      "                        Abortion\n",
      "\n",
      "iris                    Edgar Anderson's Iris Data\n",
      "\n",
      "iris3                   Edgar Anderson's Iris Data\n",
      "\n",
      "islands                 Areas of the World's Major Landmasses\n",
      "\n",
      "ldeaths (UKLungDeaths)\n",
      "\n",
      "                        Monthly Deaths from Lung Diseases in the UK\n",
      "\n",
      "lh                      Luteinizing Hormone in Blood Samples\n",
      "\n",
      "longley                 Longley's Economic Regression Data\n",
      "\n",
      "lynx                    Annual Canadian Lynx trappings 1821-1934\n",
      "\n",
      "mdeaths (UKLungDeaths)\n",
      "\n",
      "                        Monthly Deaths from Lung Diseases in the UK\n",
      "\n",
      "morley                  Michelson Speed of Light Data\n",
      "\n",
      "mtcars                  Motor Trend Car Road Tests\n",
      "\n",
      "nhtemp                  Average Yearly Temperatures in New Haven\n",
      "\n",
      "nottem                  Average Monthly Temperatures at Nottingham,\n",
      "\n",
      "                        1920-1939\n",
      "\n",
      "npk                     Classical N, P, K Factorial Experiment\n",
      "\n",
      "occupationalStatus      Occupational Status of Fathers and their Sons\n",
      "\n",
      "precip                  Annual Precipitation in US Cities\n",
      "\n",
      "presidents              Quarterly Approval Ratings of US Presidents\n",
      "\n",
      "pressure                Vapor Pressure of Mercury as a Function of\n",
      "\n",
      "                        Temperature\n",
      "\n",
      "quakes                  Locations of Earthquakes off Fiji\n",
      "\n",
      "randu                   Random Numbers from Congruential Generator\n",
      "\n",
      "                        RANDU\n",
      "\n",
      "rivers                  Lengths of Major North American Rivers\n",
      "\n",
      "rock                    Measurements on Petroleum Rock Samples\n",
      "\n",
      "sleep                   Student's Sleep Data\n",
      "\n",
      "stack.loss (stackloss)\n",
      "\n",
      "                        Brownlee's Stack Loss Plant Data\n",
      "\n",
      "stack.x (stackloss)     Brownlee's Stack Loss Plant Data\n",
      "\n",
      "stackloss               Brownlee's Stack Loss Plant Data\n",
      "\n",
      "state.abb (state)       US State Facts and Figures\n",
      "\n",
      "state.area (state)      US State Facts and Figures\n",
      "\n",
      "state.center (state)    US State Facts and Figures\n",
      "\n",
      "state.division (state)\n",
      "\n",
      "                        US State Facts and Figures\n",
      "\n",
      "state.name (state)      US State Facts and Figures\n",
      "\n",
      "state.region (state)    US State Facts and Figures\n",
      "\n",
      "state.x77 (state)       US State Facts and Figures\n",
      "\n",
      "sunspot.month           Monthly Sunspot Data, from 1749 to \"Present\"\n",
      "\n",
      "sunspot.year            Yearly Sunspot Data, 1700-1988\n",
      "\n",
      "sunspots                Monthly Sunspot Numbers, 1749-1983\n",
      "\n",
      "swiss                   Swiss Fertility and Socioeconomic Indicators\n",
      "\n",
      "                        (1888) Data\n",
      "\n",
      "treering                Yearly Treering Data, -6000-1979\n",
      "\n",
      "trees                   Diameter, Height and Volume for Black Cherry\n",
      "\n",
      "                        Trees\n",
      "\n",
      "uspop                   Populations Recorded by the US Census\n",
      "\n",
      "volcano                 Topographic Information on Auckland's Maunga\n",
      "\n",
      "                        Whau Volcano\n",
      "\n",
      "warpbreaks              The Number of Breaks in Yarn during Weaving\n",
      "\n",
      "women                   Average Heights and Weights for American Women\n",
      "\n",
      "\n",
      "\n",
      "\n",
      "\n",
      "Use ‘data(package = .packages(all.available = TRUE))’\n",
      "\n",
      "to list the data sets in all *available* packages.\n",
      "\n",
      "---\n"
     ]
    }
   ],
   "source": [
    "%%R\n",
    "data()"
   ]
  },
  {
   "cell_type": "markdown",
   "id": "4ebfe78a-23e8-4e8d-8185-769a21bf6a18",
   "metadata": {
    "editable": true,
    "slideshow": {
     "slide_type": ""
    },
    "tags": []
   },
   "source": [
    "This command won't produce any output but open a file in the scripts pane that lists the available datasets. \n",
    "In this session, we will be using the built-in R data sets stored in the variables ```iris``` & ```mtcars```. \n",
    "By having our data stored in a variable means we can easily use it with R functions and start to\n",
    "manipulate or process it. Note that we are using the word data very loosely, it can refer to any form of \n",
    "information we want to store.\n",
    "\n",
    "## Exploring datasets\n",
    "\n",
    "Let's take a closer look at the `iris` data.\n",
    "\n",
    "First, let's ask what type of thing `iris` is using the function ```class()```\n"
   ]
  },
  {
   "cell_type": "code",
   "execution_count": 3,
   "id": "857c1c25-aad3-41fd-a979-d2e245546cb1",
   "metadata": {
    "editable": true,
    "slideshow": {
     "slide_type": ""
    },
    "tags": []
   },
   "outputs": [
    {
     "name": "stdout",
     "output_type": "stream",
     "text": [
      "[1] \"data.frame\"\n"
     ]
    }
   ],
   "source": [
    "%%R\n",
    "class(iris)"
   ]
  },
  {
   "cell_type": "markdown",
   "id": "f03c7f60-588a-4841-9092-b5fadc31c20a",
   "metadata": {
    "editable": true,
    "slideshow": {
     "slide_type": ""
    },
    "tags": []
   },
   "source": [
    "The output tells us that it is a data frame. A data frame is an example of R object, and can be defined by certain properties. A data frame is comparable to a spreadsheet in MS Excel as it is a 2 dimensional object (i.e. has rows and columns). Data frames are very useful for storing data, especially if you are used to work with your data in tables. A typical data frame of experimental data contains individual observations in rows and variables in columns.\n",
    "We can see the shape, or dimensions, of the data frame with the function ```dim()```:"
   ]
  },
  {
   "cell_type": "code",
   "execution_count": 4,
   "id": "1d04d251-bc09-461e-982c-3d02f1bdf9df",
   "metadata": {
    "editable": true,
    "slideshow": {
     "slide_type": ""
    },
    "tags": []
   },
   "outputs": [
    {
     "name": "stdout",
     "output_type": "stream",
     "text": [
      "[1] 150   5\n"
     ]
    }
   ],
   "source": [
    "%%R\n",
    "dim(iris)"
   ]
  },
  {
   "cell_type": "markdown",
   "id": "2af7c177-af90-4c3a-8bf1-c9381a1b4efa",
   "metadata": {
    "editable": true,
    "slideshow": {
     "slide_type": ""
    },
    "tags": []
   },
   "source": [
    "This tells us that our data frame, `iris`, has 150 rows and 5 columns.\n",
    "\n",
    "\n",
    "To explore data frames, there are a number of relevant functions:\n",
    "\n",
    "* ```head()``` - shows first 6 rows\n",
    "* ```tail()``` - shows last 6 rows\n",
    "* ```dim()``` - returns the dimensions of data frame (i.e. number of rows and number of columns)\n",
    "* ```nrow()``` - number of rows\n",
    "* ```ncol()```- number of columns\n",
    "* ```str()``` - structure of data frame - name, type and preview of data in each column\n",
    "* ```names()``` or ```colnames()``` - both show the names attribute for a data frame\n",
    "\n",
    "# Subsetting Data\n",
    "\n",
    "There are many occasions we want to \"look\" at some part of the data. Extract a subset is known as slicing.\n",
    "If we want to get a single value from the data frame, we can index a specific position using square brackets.\n",
    "If you are familiar with matrices we index in the same way. For example, to get the element in the top left corner, i.e. in the first row and first column we run:"
   ]
  },
  {
   "cell_type": "code",
   "execution_count": 5,
   "id": "5e0226b6-0c85-4264-9be8-6889b44ef0b6",
   "metadata": {
    "editable": true,
    "slideshow": {
     "slide_type": ""
    },
    "tags": []
   },
   "outputs": [
    {
     "name": "stdout",
     "output_type": "stream",
     "text": [
      "[1] 5.1\n"
     ]
    }
   ],
   "source": [
    "%%R\n",
    "iris[1, 1]"
   ]
  },
  {
   "cell_type": "markdown",
   "id": "0c910b72-4520-4349-af48-be417b510323",
   "metadata": {
    "editable": true,
    "slideshow": {
     "slide_type": ""
    },
    "tags": []
   },
   "source": [
    "We can use this principle to extract any entry of the matrix. For example the 30th row and 3rd column"
   ]
  },
  {
   "cell_type": "code",
   "execution_count": 6,
   "id": "df6f0878-2e82-4d5f-baee-610986f458be",
   "metadata": {
    "editable": true,
    "slideshow": {
     "slide_type": ""
    },
    "tags": []
   },
   "outputs": [
    {
     "name": "stdout",
     "output_type": "stream",
     "text": [
      "[1] 1.6\n"
     ]
    }
   ],
   "source": [
    "%%R\n",
    "iris[30,3]"
   ]
  },
  {
   "cell_type": "markdown",
   "id": "2485a05f-a7eb-490d-a395-a7170bf713e3",
   "metadata": {
    "editable": true,
    "slideshow": {
     "slide_type": ""
    },
    "tags": []
   },
   "source": [
    "An index like ``[30, 3]``` selects a single element of a data frame, but we can select larger sections as well. For example, we can select the first three columns of values for the first four rows like this:"
   ]
  },
  {
   "cell_type": "code",
   "execution_count": 7,
   "id": "d919e5bd-e3cd-4bbe-a8c5-21f484414af4",
   "metadata": {
    "editable": true,
    "slideshow": {
     "slide_type": ""
    },
    "tags": []
   },
   "outputs": [
    {
     "name": "stdout",
     "output_type": "stream",
     "text": [
      "  Sepal.Length Sepal.Width Petal.Length\n",
      "1          5.1         3.5          1.4\n",
      "2          4.9         3.0          1.4\n",
      "3          4.7         3.2          1.3\n",
      "4          4.6         3.1          1.5\n"
     ]
    }
   ],
   "source": [
    "%%R\n",
    "iris[1:4, 1:3]"
   ]
  },
  {
   "cell_type": "markdown",
   "id": "ec3b9796-f760-4926-95e1-4d775d9f045c",
   "metadata": {
    "editable": true,
    "slideshow": {
     "slide_type": ""
    },
    "tags": []
   },
   "source": [
    "The slice ```1:4``` means, \"Start at index 1 and go to index 4.\" The slice does not need to start at 1, e.g. the line below selects rows 5 through 10:"
   ]
  },
  {
   "cell_type": "code",
   "execution_count": 8,
   "id": "0665c8fc-30b5-424e-a3c2-e4834e5c3c85",
   "metadata": {
    "editable": true,
    "slideshow": {
     "slide_type": ""
    },
    "tags": []
   },
   "outputs": [
    {
     "name": "stdout",
     "output_type": "stream",
     "text": [
      "   Sepal.Length Sepal.Width Petal.Length\n",
      "5           5.0         3.6          1.4\n",
      "6           5.4         3.9          1.7\n",
      "7           4.6         3.4          1.4\n",
      "8           5.0         3.4          1.5\n",
      "9           4.4         2.9          1.4\n",
      "10          4.9         3.1          1.5\n"
     ]
    }
   ],
   "source": [
    "%%R\n",
    "iris[5:10, 1:3]"
   ]
  },
  {
   "cell_type": "markdown",
   "id": "cd0fb2cf-2854-452d-b86b-143ea4a3729f",
   "metadata": {
    "editable": true,
    "slideshow": {
     "slide_type": ""
    },
    "tags": []
   },
   "source": [
    "We can use the function ```c()```, which stands for **c**ombine, to select non-contiguous entries:"
   ]
  },
  {
   "cell_type": "code",
   "execution_count": 9,
   "id": "fe89de0e-3689-44aa-aa90-a946cf589154",
   "metadata": {
    "editable": true,
    "slideshow": {
     "slide_type": ""
    },
    "tags": []
   },
   "outputs": [
    {
     "name": "stdout",
     "output_type": "stream",
     "text": [
      "   Sepal.Length Petal.Length\n",
      "3           4.7          1.3\n",
      "8           5.0          1.5\n",
      "37          5.5          1.3\n",
      "56          5.7          4.5\n"
     ]
    }
   ],
   "source": [
    "%%R\n",
    "iris[c(3, 8, 37, 56), c(1,3)]"
   ]
  },
  {
   "cell_type": "markdown",
   "id": "5113f0b1-9d3e-4d36-b04d-ef47ab8a5335",
   "metadata": {
    "editable": true,
    "slideshow": {
     "slide_type": ""
    },
    "tags": []
   },
   "source": [
    "We also don't have to provide a slice for either the rows or the columns. If we don't include a slice for the rows, R returns all the rows; if we don't include a slice for the columns, R returns all the columns. If we don't provide a slice for either rows or columns, e.g. `iris[, ]`, R returns the full data frame.\n"
   ]
  },
  {
   "cell_type": "code",
   "execution_count": 10,
   "id": "a191ff35-b9e9-49a3-87b5-f5253b5db509",
   "metadata": {
    "editable": true,
    "slideshow": {
     "slide_type": ""
    },
    "tags": []
   },
   "outputs": [
    {
     "name": "stdout",
     "output_type": "stream",
     "text": [
      "  Sepal.Length Sepal.Width Petal.Length Petal.Width Species\n",
      "5            5         3.6          1.4         0.2  setosa\n"
     ]
    }
   ],
   "source": [
    "%%R\n",
    "iris[5, ]"
   ]
  },
  {
   "cell_type": "code",
   "execution_count": 11,
   "id": "87b1148b-6ce4-4100-b4c3-2b19cdaacd05",
   "metadata": {
    "editable": true,
    "slideshow": {
     "slide_type": ""
    },
    "tags": []
   },
   "outputs": [
    {
     "name": "stdout",
     "output_type": "stream",
     "text": [
      "  [1] 3.5 3.0 3.2 3.1 3.6 3.9 3.4 3.4 2.9 3.1 3.7 3.4 3.0 3.0 4.0 4.4 3.9 3.5\n",
      " [19] 3.8 3.8 3.4 3.7 3.6 3.3 3.4 3.0 3.4 3.5 3.4 3.2 3.1 3.4 4.1 4.2 3.1 3.2\n",
      " [37] 3.5 3.6 3.0 3.4 3.5 2.3 3.2 3.5 3.8 3.0 3.8 3.2 3.7 3.3 3.2 3.2 3.1 2.3\n",
      " [55] 2.8 2.8 3.3 2.4 2.9 2.7 2.0 3.0 2.2 2.9 2.9 3.1 3.0 2.7 2.2 2.5 3.2 2.8\n",
      " [73] 2.5 2.8 2.9 3.0 2.8 3.0 2.9 2.6 2.4 2.4 2.7 2.7 3.0 3.4 3.1 2.3 3.0 2.5\n",
      " [91] 2.6 3.0 2.6 2.3 2.7 3.0 2.9 2.9 2.5 2.8 3.3 2.7 3.0 2.9 3.0 3.0 2.5 2.9\n",
      "[109] 2.5 3.6 3.2 2.7 3.0 2.5 2.8 3.2 3.0 3.8 2.6 2.2 3.2 2.8 2.8 2.7 3.3 3.2\n",
      "[127] 2.8 3.0 2.8 3.0 2.8 3.8 2.8 2.8 2.6 3.0 3.4 3.1 3.0 3.1 3.1 3.1 2.7 3.2\n",
      "[145] 3.3 3.0 2.5 3.0 3.4 3.0\n"
     ]
    }
   ],
   "source": [
    "%%R\n",
    "iris[, 2]"
   ]
  },
  {
   "cell_type": "markdown",
   "id": "3edd08db-71b0-43ba-b505-f4eea5230ebd",
   "metadata": {},
   "source": [
    "# Addressing Columns by name \n",
    "Columns can also be addressed by name, with either the ```$``` operator (i.e. ```iris$Petal.Length```) or square brackets (ie. ```iris[,'Petal.Length']```).\n",
    "\n",
    "# Data Types \n",
    "\n",
    "One key feature of a data frame is each column is classed as a specific data type. \n",
    "\n",
    "*Data types*, or modes, define what the values are and how they can be used. \n",
    "\n",
    "There are __*5 core data types*:__\n",
    "\n",
    "* Numeric - all real numbers e.g. 7.5\n",
    "* Integer - e.g. 2\n",
    "* Complex - numbers with real and imaginary parts e.g. 1+4i\n",
    "* Character - consists of letters or numbers or symbols or a combination of these e.g. \"a\", \"f5\", \"datatypes\", \"Learning R is fun\".\n",
    "* Logical - only takes TRUE or FALSE\n",
    "\n",
    "\n",
    "These data types are also used to characterise other one dimensional R objects such as individual values or vectors \n",
    "(more on these later). R provides a number of functions to examine the features of variables or objects. \n",
    "\n",
    "Some examples:\n",
    "\n",
    "* ```typeof()``` - what is the object’s data type (on the data storage level (\"what the computer sees\"))?\n",
    "* ```class()``` - what is the object's data type (on the abstract type level(\"what R sees\"))?\n",
    "* ```mode()``` - what is the object's data type (on the data storage level (\"what the computer sees\"))?\n",
    "* ```length()```- how long is it? \n",
    "* ```attributes()``` - does it have any metadata? \n",
    "* ```str``` - display the internal structure of an object.\n",
    "* ```is.numeric()```, ```is.character()```, ```is.complex()```, ```is.logical()``` - returns TRUE when an object is the datatype queried, FALSE if not\n",
    "\n",
    "Let's define some variables we can use R to profile the charateristics of"
   ]
  },
  {
   "cell_type": "code",
   "execution_count": 12,
   "id": "04af36a6-e3bc-4fb8-9b7c-1ad00d062065",
   "metadata": {
    "editable": true,
    "slideshow": {
     "slide_type": ""
    },
    "tags": []
   },
   "outputs": [
    {
     "name": "stdout",
     "output_type": "stream",
     "text": [
      "[1] \"character\"\n"
     ]
    }
   ],
   "source": [
    "%%R\n",
    "x <- \"dataset\"\n",
    "typeof(x)"
   ]
  },
  {
   "cell_type": "code",
   "execution_count": 13,
   "id": "146d6b1f-7bd6-45e5-85f9-7a0c484d1f56",
   "metadata": {
    "editable": true,
    "slideshow": {
     "slide_type": ""
    },
    "tags": []
   },
   "outputs": [
    {
     "name": "stdout",
     "output_type": "stream",
     "text": [
      " [1]  1  2  3  4  5  6  7  8  9 10\n"
     ]
    }
   ],
   "source": [
    "%%R\n",
    "y <- 1:10\n",
    "y"
   ]
  },
  {
   "cell_type": "code",
   "execution_count": 14,
   "id": "ceeb6a0e-598b-419c-b9fd-ce54b2abf74e",
   "metadata": {
    "editable": true,
    "slideshow": {
     "slide_type": ""
    },
    "tags": []
   },
   "outputs": [
    {
     "name": "stdout",
     "output_type": "stream",
     "text": [
      "[1] \"integer\"\n"
     ]
    }
   ],
   "source": [
    "%%R\n",
    "typeof(y)"
   ]
  },
  {
   "cell_type": "code",
   "execution_count": 15,
   "id": "cdf43ab4-aa50-46ea-9e86-3951385ba317",
   "metadata": {
    "editable": true,
    "slideshow": {
     "slide_type": ""
    },
    "tags": []
   },
   "outputs": [
    {
     "name": "stdout",
     "output_type": "stream",
     "text": [
      "[1] \"integer\"\n"
     ]
    }
   ],
   "source": [
    "%%R\n",
    "class(y)"
   ]
  },
  {
   "cell_type": "code",
   "execution_count": 16,
   "id": "cacb9983-de9a-4438-928f-2b75f8b185cc",
   "metadata": {
    "editable": true,
    "slideshow": {
     "slide_type": ""
    },
    "tags": []
   },
   "outputs": [
    {
     "name": "stdout",
     "output_type": "stream",
     "text": [
      "[1] 10\n"
     ]
    }
   ],
   "source": [
    "%%R\n",
    "length(y)"
   ]
  },
  {
   "cell_type": "markdown",
   "id": "07c0c020-3f0d-449a-a3f9-914a61ff16e9",
   "metadata": {},
   "source": [
    "# Converting Between Datatypes\n",
    "\n",
    "It can be critical that R has correctly assigned the right data type to your variable. If it has not you may run into \n",
    "errors when processing it. You therefore may want to convert between different data types. This can be done with the \n",
    "series of functions ```as.numeric```, ```as.character``` etc. \n",
    "\n",
    "For example, let's convert our numeric variable `y` into a character. "
   ]
  },
  {
   "cell_type": "code",
   "execution_count": 17,
   "id": "e995a60f-5e7d-4c75-b549-0507ad33d32f",
   "metadata": {
    "editable": true,
    "slideshow": {
     "slide_type": ""
    },
    "tags": []
   },
   "outputs": [
    {
     "name": "stdout",
     "output_type": "stream",
     "text": [
      "[1] \"character\"\n"
     ]
    }
   ],
   "source": [
    "%%R\n",
    "y <- as.character(y)\n",
    "typeof(y)"
   ]
  },
  {
   "cell_type": "markdown",
   "id": "a3ccff81-8509-4338-844b-9ab7e88e438b",
   "metadata": {},
   "source": [
    "## Activity: Determining Data Yypes\n",
    "\n",
    "Create a variable with the numbers 9,2,200, and 14.\n",
    "What class do you predict this variable to be? Use an R function to confirm your answer.\n",
    "If it is not the data type you expected, can you force R to convert it to an integer?\n",
    "Divide each element of the variable in half. Does this change the type of variable?\n",
    "\n",
    "\n",
    "# Data Structures\n",
    "\n",
    "R has a number of inbuilt structures that can be used to store datasets. We have encountered one of these already \n",
    "the data.frame. Other include: \n",
    "\n",
    "* strings\n",
    "* vectors \n",
    "* data frames\n",
    "* matrices\n",
    "* arrays\n",
    "* lists\n",
    "* factors\n",
    "\n",
    "## Strings\n",
    "\n",
    "A string is a run of characters. e.g. \"hello\". or \"a189jde2mjo\". They are enclosed in quotes.\n",
    "\n",
    "## Vectors\n",
    "\n",
    "A vector is the most common and basic data structure in R. They are an ordered collection of basic data types of \n",
    "a given length. They are one-dimensional. We can think of each column of a data frame as a vector. \n",
    "\n",
    "The concatenate or combine ```c()``` function will explicitly __construct__ a vector. \n",
    "\n"
   ]
  },
  {
   "cell_type": "code",
   "execution_count": 18,
   "id": "3b9a9a10-1849-48b6-8564-0548d707b15e",
   "metadata": {
    "editable": true,
    "slideshow": {
     "slide_type": ""
    },
    "tags": []
   },
   "outputs": [],
   "source": [
    "%%R\n",
    "v_num <- c(9,20,12)\n",
    "v_log <- c(TRUE, FALSE, FALSE, TRUE)"
   ]
  },
  {
   "cell_type": "markdown",
   "id": "329a1739-d346-4e6e-9a39-c28ce83dda06",
   "metadata": {},
   "source": [
    "As we create these vectors you should see them listed in your environment pane. We can then call the name of the varible to see what the value is at that point in time. "
   ]
  },
  {
   "cell_type": "code",
   "execution_count": 19,
   "id": "9b35fe5a",
   "metadata": {
    "editable": true,
    "slideshow": {
     "slide_type": ""
    },
    "tags": []
   },
   "outputs": [
    {
     "name": "stdout",
     "output_type": "stream",
     "text": [
      "[1]  9 20 12\n"
     ]
    }
   ],
   "source": [
    "%%R\n",
    "v_num "
   ]
  },
  {
   "cell_type": "code",
   "execution_count": 20,
   "id": "603e1ad4",
   "metadata": {
    "editable": true,
    "slideshow": {
     "slide_type": ""
    },
    "tags": []
   },
   "outputs": [
    {
     "name": "stdout",
     "output_type": "stream",
     "text": [
      "[1]  TRUE FALSE FALSE  TRUE\n"
     ]
    }
   ],
   "source": [
    "%%R\n",
    "v_log"
   ]
  },
  {
   "cell_type": "markdown",
   "id": "dbf81ca7-4039-48fe-96b9-ebab421d5a88",
   "metadata": {},
   "source": [
    "The function ```c()``` can also be used to __add elements__ to a vector."
   ]
  },
  {
   "cell_type": "code",
   "execution_count": 21,
   "id": "dc21c86c",
   "metadata": {
    "editable": true,
    "slideshow": {
     "slide_type": ""
    },
    "tags": []
   },
   "outputs": [
    {
     "name": "stdout",
     "output_type": "stream",
     "text": [
      "[1] \"Sarah\"   \"Tracy\"   \"Jon\"     \"Annette\"\n"
     ]
    }
   ],
   "source": [
    "%%R\n",
    "v_name <- c(\"Sarah\", \"Tracy\", \"Jon\")\n",
    "v_name <- c(v_name, \"Annette\")\n",
    "v_name"
   ]
  },
  {
   "cell_type": "markdown",
   "id": "1cc8a0db-7ef7-4ebc-96c5-8e05c711e157",
   "metadata": {},
   "source": [
    "If we want to create a series of numbers, like 1 to 140, we can bypass the `c()` constructor and just write"
   ]
  },
  {
   "cell_type": "code",
   "execution_count": 22,
   "id": "6b9de5e1",
   "metadata": {
    "editable": true,
    "slideshow": {
     "slide_type": ""
    },
    "tags": []
   },
   "outputs": [
    {
     "name": "stdout",
     "output_type": "stream",
     "text": [
      "[1] 1 2 3 4\n"
     ]
    }
   ],
   "source": [
    "%%R\n",
    "(v_int <- 1:4)"
   ]
  },
  {
   "cell_type": "markdown",
   "id": "fa7bf05b-89f0-461f-9206-79e2ee291fd2",
   "metadata": {},
   "source": [
    "When we call a vector *atomic*, we mean that the vector only holds data of a single data type."
   ]
  },
  {
   "cell_type": "markdown",
   "id": "c1fbca7e-9641-4bda-90a3-37ec70c7c9b8",
   "metadata": {},
   "source": [
    "## Data Frame\n",
    "\n",
    "A data frame is a two dimensional structure consisting of rows and columns. \n",
    "\n",
    "We can create a data frames using the function `data.frame()`. We will use the predefined vector `letter` \n",
    "to get the first ten letters in the alphabet.\n"
   ]
  },
  {
   "cell_type": "code",
   "execution_count": 23,
   "id": "bb45e841",
   "metadata": {
    "editable": true,
    "slideshow": {
     "slide_type": ""
    },
    "tags": []
   },
   "outputs": [
    {
     "name": "stdout",
     "output_type": "stream",
     "text": [
      "   id  x  y\n",
      "1   a  1 11\n",
      "2   b  2 12\n",
      "3   c  3 13\n",
      "4   d  4 14\n",
      "5   e  5 15\n",
      "6   f  6 16\n",
      "7   g  7 17\n",
      "8   h  8 18\n",
      "9   i  9 19\n",
      "10  j 10 20\n"
     ]
    }
   ],
   "source": [
    "%%R\n",
    "dat <- data.frame(id = letters[1:10], x = 1:10, y = 11:20)\n",
    "dat"
   ]
  },
  {
   "cell_type": "markdown",
   "id": "747edd0f-3f74-4d96-b52e-30f07de3dbf0",
   "metadata": {},
   "source": [
    "Columns are variables, and each column will have a specified data type, which all entries must adhere to. \n",
    "Rows are observations. Rows and columns will have `rownames` and `colnames` that you can use to extract \n",
    "specific rows or columns respectively. \n",
    "\n",
    "If you read in a table of data from a file, it will typically be represented by a data.frame.\n",
    "\n",
    "\n",
    "### Functions to explore data frames\n",
    "\n",
    "* ```head()``` - shows first 6 rows\n",
    "* ```tail()``` - shows last 6 rows\n",
    "* ```dim()``` - returns the dimensions of data frame (i.e. number of rows and number of columns)\n",
    "* ```nrow()``` - number of rows\n",
    "* ```ncol()```- number of columns\n",
    "* ```str()``` - structure of data frame - name, type and preview of data in each column\n",
    "* ```names()``` or ```colnames()``` - both show the names attribute for a data frame\n",
    "\n",
    "\n",
    "## Matrices\n",
    "\n",
    "A matrix is another two dimensional object, but it differs to a data.frame as all columns/entries must be of the same type. \n",
    "It is more efficient memory wise than a data.frame, but can not be used as a substitute to all data.frames.\n",
    "\n",
    "We can construct a matrix as follows:"
   ]
  },
  {
   "cell_type": "code",
   "execution_count": 24,
   "id": "71ed3b63-2c93-4469-9a40-f9c8bf169dd9",
   "metadata": {
    "editable": true,
    "slideshow": {
     "slide_type": ""
    },
    "tags": []
   },
   "outputs": [
    {
     "name": "stdout",
     "output_type": "stream",
     "text": [
      "     [,1] [,2] [,3]\n",
      "[1,]    1    3    5\n",
      "[2,]    2    4    6\n"
     ]
    }
   ],
   "source": [
    "%%R\n",
    "m<-matrix(1:6, nrow=2, ncol=3)\n",
    "m"
   ]
  },
  {
   "cell_type": "markdown",
   "id": "88039000-c333-4361-8263-979a7f10253b",
   "metadata": {},
   "source": [
    "When creating a __matrix__, it is important to remember that matrices __*are filled column-wise*__ If that is not what you want, you can use the ```byrow``` argument (a logical: can be ```TRUE``` or ```FALSE```) to specify how the matrix is filled.\n",
    "\n",
    "We can confirm the data type of a matrix with the function `class`."
   ]
  },
  {
   "cell_type": "code",
   "execution_count": 25,
   "id": "6bb02529-f2bf-4769-8fc3-91fa6be2bf94",
   "metadata": {
    "editable": true,
    "slideshow": {
     "slide_type": ""
    },
    "tags": []
   },
   "outputs": [
    {
     "name": "stdout",
     "output_type": "stream",
     "text": [
      "[1] \"matrix\" \"array\" \n"
     ]
    }
   ],
   "source": [
    "%%R\n",
    "class(m)"
   ]
  },
  {
   "cell_type": "markdown",
   "id": "69b099d7-c72f-483a-912d-452c76fbd896",
   "metadata": {},
   "source": [
    "## Arrays\n",
    "\n",
    "Arrays are n dimensional storage structures. A one dimensional array is a vector, a two dimensional array is a matrix. \n",
    "\n",
    "We will not be using this type of object, but it is included for completeness.\n",
    "\n",
    "## Lists\n",
    "\n",
    "A list in R is a collection of objects and elements, which themselves can be a heterogeneous mix of other objects \n",
    "including vectors, matrices, data.frames, functions, strings, numbers. They tend to be used to collate different \n",
    "data types connected in some way. \n",
    "\n",
    "We can create a list of the vectors, data.frames we have already constructed as follows."
   ]
  },
  {
   "cell_type": "code",
   "execution_count": 26,
   "id": "9584d150-c5c8-4612-8b57-4ca24697ce29",
   "metadata": {
    "editable": true,
    "slideshow": {
     "slide_type": ""
    },
    "tags": []
   },
   "outputs": [
    {
     "name": "stdout",
     "output_type": "stream",
     "text": [
      "[[1]]\n",
      "[1]  TRUE FALSE FALSE  TRUE\n",
      "\n",
      "[[2]]\n",
      "[1]  9 20 12\n",
      "\n",
      "[[3]]\n",
      "    Sepal.Length Sepal.Width Petal.Length Petal.Width    Species\n",
      "1            5.1         3.5          1.4         0.2     setosa\n",
      "2            4.9         3.0          1.4         0.2     setosa\n",
      "3            4.7         3.2          1.3         0.2     setosa\n",
      "4            4.6         3.1          1.5         0.2     setosa\n",
      "5            5.0         3.6          1.4         0.2     setosa\n",
      "6            5.4         3.9          1.7         0.4     setosa\n",
      "7            4.6         3.4          1.4         0.3     setosa\n",
      "8            5.0         3.4          1.5         0.2     setosa\n",
      "9            4.4         2.9          1.4         0.2     setosa\n",
      "10           4.9         3.1          1.5         0.1     setosa\n",
      "11           5.4         3.7          1.5         0.2     setosa\n",
      "12           4.8         3.4          1.6         0.2     setosa\n",
      "13           4.8         3.0          1.4         0.1     setosa\n",
      "14           4.3         3.0          1.1         0.1     setosa\n",
      "15           5.8         4.0          1.2         0.2     setosa\n",
      "16           5.7         4.4          1.5         0.4     setosa\n",
      "17           5.4         3.9          1.3         0.4     setosa\n",
      "18           5.1         3.5          1.4         0.3     setosa\n",
      "19           5.7         3.8          1.7         0.3     setosa\n",
      "20           5.1         3.8          1.5         0.3     setosa\n",
      "21           5.4         3.4          1.7         0.2     setosa\n",
      "22           5.1         3.7          1.5         0.4     setosa\n",
      "23           4.6         3.6          1.0         0.2     setosa\n",
      "24           5.1         3.3          1.7         0.5     setosa\n",
      "25           4.8         3.4          1.9         0.2     setosa\n",
      "26           5.0         3.0          1.6         0.2     setosa\n",
      "27           5.0         3.4          1.6         0.4     setosa\n",
      "28           5.2         3.5          1.5         0.2     setosa\n",
      "29           5.2         3.4          1.4         0.2     setosa\n",
      "30           4.7         3.2          1.6         0.2     setosa\n",
      "31           4.8         3.1          1.6         0.2     setosa\n",
      "32           5.4         3.4          1.5         0.4     setosa\n",
      "33           5.2         4.1          1.5         0.1     setosa\n",
      "34           5.5         4.2          1.4         0.2     setosa\n",
      "35           4.9         3.1          1.5         0.2     setosa\n",
      "36           5.0         3.2          1.2         0.2     setosa\n",
      "37           5.5         3.5          1.3         0.2     setosa\n",
      "38           4.9         3.6          1.4         0.1     setosa\n",
      "39           4.4         3.0          1.3         0.2     setosa\n",
      "40           5.1         3.4          1.5         0.2     setosa\n",
      "41           5.0         3.5          1.3         0.3     setosa\n",
      "42           4.5         2.3          1.3         0.3     setosa\n",
      "43           4.4         3.2          1.3         0.2     setosa\n",
      "44           5.0         3.5          1.6         0.6     setosa\n",
      "45           5.1         3.8          1.9         0.4     setosa\n",
      "46           4.8         3.0          1.4         0.3     setosa\n",
      "47           5.1         3.8          1.6         0.2     setosa\n",
      "48           4.6         3.2          1.4         0.2     setosa\n",
      "49           5.3         3.7          1.5         0.2     setosa\n",
      "50           5.0         3.3          1.4         0.2     setosa\n",
      "51           7.0         3.2          4.7         1.4 versicolor\n",
      "52           6.4         3.2          4.5         1.5 versicolor\n",
      "53           6.9         3.1          4.9         1.5 versicolor\n",
      "54           5.5         2.3          4.0         1.3 versicolor\n",
      "55           6.5         2.8          4.6         1.5 versicolor\n",
      "56           5.7         2.8          4.5         1.3 versicolor\n",
      "57           6.3         3.3          4.7         1.6 versicolor\n",
      "58           4.9         2.4          3.3         1.0 versicolor\n",
      "59           6.6         2.9          4.6         1.3 versicolor\n",
      "60           5.2         2.7          3.9         1.4 versicolor\n",
      "61           5.0         2.0          3.5         1.0 versicolor\n",
      "62           5.9         3.0          4.2         1.5 versicolor\n",
      "63           6.0         2.2          4.0         1.0 versicolor\n",
      "64           6.1         2.9          4.7         1.4 versicolor\n",
      "65           5.6         2.9          3.6         1.3 versicolor\n",
      "66           6.7         3.1          4.4         1.4 versicolor\n",
      "67           5.6         3.0          4.5         1.5 versicolor\n",
      "68           5.8         2.7          4.1         1.0 versicolor\n",
      "69           6.2         2.2          4.5         1.5 versicolor\n",
      "70           5.6         2.5          3.9         1.1 versicolor\n",
      "71           5.9         3.2          4.8         1.8 versicolor\n",
      "72           6.1         2.8          4.0         1.3 versicolor\n",
      "73           6.3         2.5          4.9         1.5 versicolor\n",
      "74           6.1         2.8          4.7         1.2 versicolor\n",
      "75           6.4         2.9          4.3         1.3 versicolor\n",
      "76           6.6         3.0          4.4         1.4 versicolor\n",
      "77           6.8         2.8          4.8         1.4 versicolor\n",
      "78           6.7         3.0          5.0         1.7 versicolor\n",
      "79           6.0         2.9          4.5         1.5 versicolor\n",
      "80           5.7         2.6          3.5         1.0 versicolor\n",
      "81           5.5         2.4          3.8         1.1 versicolor\n",
      "82           5.5         2.4          3.7         1.0 versicolor\n",
      "83           5.8         2.7          3.9         1.2 versicolor\n",
      "84           6.0         2.7          5.1         1.6 versicolor\n",
      "85           5.4         3.0          4.5         1.5 versicolor\n",
      "86           6.0         3.4          4.5         1.6 versicolor\n",
      "87           6.7         3.1          4.7         1.5 versicolor\n",
      "88           6.3         2.3          4.4         1.3 versicolor\n",
      "89           5.6         3.0          4.1         1.3 versicolor\n",
      "90           5.5         2.5          4.0         1.3 versicolor\n",
      "91           5.5         2.6          4.4         1.2 versicolor\n",
      "92           6.1         3.0          4.6         1.4 versicolor\n",
      "93           5.8         2.6          4.0         1.2 versicolor\n",
      "94           5.0         2.3          3.3         1.0 versicolor\n",
      "95           5.6         2.7          4.2         1.3 versicolor\n",
      "96           5.7         3.0          4.2         1.2 versicolor\n",
      "97           5.7         2.9          4.2         1.3 versicolor\n",
      "98           6.2         2.9          4.3         1.3 versicolor\n",
      "99           5.1         2.5          3.0         1.1 versicolor\n",
      "100          5.7         2.8          4.1         1.3 versicolor\n",
      "101          6.3         3.3          6.0         2.5  virginica\n",
      "102          5.8         2.7          5.1         1.9  virginica\n",
      "103          7.1         3.0          5.9         2.1  virginica\n",
      "104          6.3         2.9          5.6         1.8  virginica\n",
      "105          6.5         3.0          5.8         2.2  virginica\n",
      "106          7.6         3.0          6.6         2.1  virginica\n",
      "107          4.9         2.5          4.5         1.7  virginica\n",
      "108          7.3         2.9          6.3         1.8  virginica\n",
      "109          6.7         2.5          5.8         1.8  virginica\n",
      "110          7.2         3.6          6.1         2.5  virginica\n",
      "111          6.5         3.2          5.1         2.0  virginica\n",
      "112          6.4         2.7          5.3         1.9  virginica\n",
      "113          6.8         3.0          5.5         2.1  virginica\n",
      "114          5.7         2.5          5.0         2.0  virginica\n",
      "115          5.8         2.8          5.1         2.4  virginica\n",
      "116          6.4         3.2          5.3         2.3  virginica\n",
      "117          6.5         3.0          5.5         1.8  virginica\n",
      "118          7.7         3.8          6.7         2.2  virginica\n",
      "119          7.7         2.6          6.9         2.3  virginica\n",
      "120          6.0         2.2          5.0         1.5  virginica\n",
      "121          6.9         3.2          5.7         2.3  virginica\n",
      "122          5.6         2.8          4.9         2.0  virginica\n",
      "123          7.7         2.8          6.7         2.0  virginica\n",
      "124          6.3         2.7          4.9         1.8  virginica\n",
      "125          6.7         3.3          5.7         2.1  virginica\n",
      "126          7.2         3.2          6.0         1.8  virginica\n",
      "127          6.2         2.8          4.8         1.8  virginica\n",
      "128          6.1         3.0          4.9         1.8  virginica\n",
      "129          6.4         2.8          5.6         2.1  virginica\n",
      "130          7.2         3.0          5.8         1.6  virginica\n",
      "131          7.4         2.8          6.1         1.9  virginica\n",
      "132          7.9         3.8          6.4         2.0  virginica\n",
      "133          6.4         2.8          5.6         2.2  virginica\n",
      "134          6.3         2.8          5.1         1.5  virginica\n",
      "135          6.1         2.6          5.6         1.4  virginica\n",
      "136          7.7         3.0          6.1         2.3  virginica\n",
      "137          6.3         3.4          5.6         2.4  virginica\n",
      "138          6.4         3.1          5.5         1.8  virginica\n",
      "139          6.0         3.0          4.8         1.8  virginica\n",
      "140          6.9         3.1          5.4         2.1  virginica\n",
      "141          6.7         3.1          5.6         2.4  virginica\n",
      "142          6.9         3.1          5.1         2.3  virginica\n",
      "143          5.8         2.7          5.1         1.9  virginica\n",
      "144          6.8         3.2          5.9         2.3  virginica\n",
      "145          6.7         3.3          5.7         2.5  virginica\n",
      "146          6.7         3.0          5.2         2.3  virginica\n",
      "147          6.3         2.5          5.0         1.9  virginica\n",
      "148          6.5         3.0          5.2         2.0  virginica\n",
      "149          6.2         3.4          5.4         2.3  virginica\n",
      "150          5.9         3.0          5.1         1.8  virginica\n",
      "\n"
     ]
    }
   ],
   "source": [
    "%%R\n",
    "l <- list(v_log, v_num, iris)\n",
    "l"
   ]
  },
  {
   "cell_type": "markdown",
   "id": "88adea84-e025-44cc-b116-faf0dcf55157",
   "metadata": {},
   "source": [
    "## Factors\n",
    "\n",
    "Sometimes considered as a data type, as confusingly it is a possible response to the function `type`, and therefore\n",
    "a valid option for columns in a data frame. A factor is designed for categorical variables. They have a finite number of \n",
    "\"levels\", which are the options that any element of that vector can take. They are actually stored as integers \n",
    "which can make them quite powerful for subsetting. \n",
    "\n",
    "It is very easy for character vectors to be inappropriately stored as factors and vice versa. In fact, R's default \n",
    "when loading data is to store a string as a factor. Conversely if we define a vector we have to explicit convert \n",
    "it to a vector\n",
    "\n",
    "For example, if we define a vector of months, the default is to class it as a vector of characters. We have to actively \n",
    "coerce it into a factor. "
   ]
  },
  {
   "cell_type": "code",
   "execution_count": 27,
   "id": "4c9f460b-ccbb-40e9-9e04-662941fac1d4",
   "metadata": {
    "editable": true,
    "slideshow": {
     "slide_type": ""
    },
    "tags": []
   },
   "outputs": [
    {
     "name": "stdout",
     "output_type": "stream",
     "text": [
      "[1] \"character\"\n"
     ]
    }
   ],
   "source": [
    "%%R\n",
    "a      <- c(\"March\",\"February\",\"February\",\"November\",\"February\",\"March\",\"March\",\"March\",\"February\",\"November\")\n",
    "class(a)"
   ]
  },
  {
   "cell_type": "code",
   "execution_count": 28,
   "id": "27dc038d",
   "metadata": {
    "editable": true,
    "slideshow": {
     "slide_type": ""
    },
    "tags": []
   },
   "outputs": [
    {
     "name": "stdout",
     "output_type": "stream",
     "text": [
      "[1] \"character\"\n"
     ]
    }
   ],
   "source": [
    "%%R\n",
    "fact <- as.factor(a)\n",
    "class(a)"
   ]
  },
  {
   "cell_type": "markdown",
   "id": "8e078b26-eab9-48c8-988e-032dd2af3871",
   "metadata": {
    "editable": true,
    "slideshow": {
     "slide_type": ""
    },
    "tags": []
   },
   "source": [
    "## Activity: Data Exploration\n",
    "\n",
    "Use these functions to explore the mtcars dataset\n",
    "\n",
    "* How large is the dataset?\n",
    "* What type is the object?\n",
    "* What value is in the 6th row of the 4th column?"
   ]
  },
  {
   "cell_type": "markdown",
   "id": "bb9dcfb0-70d4-431e-991e-d62ff19cf1dd",
   "metadata": {
    "editable": true,
    "slideshow": {
     "slide_type": ""
    },
    "tags": []
   },
   "source": [
    "## Summary Quiz"
   ]
  },
  {
   "cell_type": "code",
   "execution_count": 29,
   "id": "2aa71599-58d1-4991-bc5b-7bb300b4aad8",
   "metadata": {
    "editable": true,
    "slideshow": {
     "slide_type": ""
    },
    "tags": [
     "remove-input"
    ]
   },
   "outputs": [
    {
     "data": {
      "text/html": [
       "<div id=\"XtVIuTRynxjW\" data-shufflequestions=\"False\"\n",
       "               data-shuffleanswers=\"True\"\n",
       "               data-preserveresponses=\"false\"\n",
       "               data-numquestions=\"1000000\"\n",
       "               data-maxwidth=\"600\"\n",
       "               style=\"border-radius: 10px; text-align: left\"> <style>\n",
       "#XtVIuTRynxjW {\n",
       "   --jq-multiple-choice-bg: #6f78ffff;\n",
       "   --jq-mc-button-bg: #fafafa;\n",
       "   --jq-mc-button-border: #e0e0e0e0;\n",
       "   --jq-mc-button-inset-shadow: #555555;\n",
       "   --jq-many-choice-bg: #f75c03ff;\n",
       "   --jq-numeric-bg: #392061ff;\n",
       "   --jq-numeric-input-bg: #c0c0c0;\n",
       "   --jq-numeric-input-label: #101010;\n",
       "   --jq-numeric-input-shadow: #999999;\n",
       "   --jq-incorrect-color: #c80202;\n",
       "   --jq-correct-color: #009113;\n",
       "   --jq-text-color: #fafafa;\n",
       "}\n",
       "\n",
       ".Quiz {\n",
       "    max-width: 600px;\n",
       "    margin-top: 15px;\n",
       "    margin-left: auto;\n",
       "    margin-right: auto;\n",
       "    margin-bottom: 15px;\n",
       "    padding-bottom: 4px;\n",
       "    padding-top: 4px;\n",
       "    line-height: 1.1;\n",
       "    font-size: 16pt;\n",
       "    border-radius: inherit;\n",
       "}\n",
       "\n",
       ".QuizCode {\n",
       "    font-size: 14pt;\n",
       "    margin-top: 10px;\n",
       "    margin-left: 20px;\n",
       "    margin-right: 20px;\n",
       "}\n",
       "\n",
       ".QuizCode>pre {\n",
       "    padding: 4px;\n",
       "}\n",
       "\n",
       ".Answer {\n",
       "    margin: 10px 0;\n",
       "    display: grid;\n",
       "    grid-template-columns: 1fr 1fr;\n",
       "    grid-gap: 10px;\n",
       "    border-radius: inherit;\n",
       "}\n",
       "\n",
       ".Feedback {\n",
       "    font-size: 16pt;\n",
       "    text-align: center;\n",
       "    min-height: 2em;\n",
       "}\n",
       "\n",
       ".Input {\n",
       "    align: left;\n",
       "    font-size: 20pt;\n",
       "}\n",
       "\n",
       ".Input-text {\n",
       "    display: block;\n",
       "    margin: 10px;\n",
       "    color: inherit;\n",
       "    width: 140px;\n",
       "    background-color: var(--jq-numeric-input-bg);\n",
       "    color: var(--jq-text-color);\n",
       "    padding: 5px;\n",
       "    padding-left: 10px;\n",
       "    font-family: inherit;\n",
       "    font-size: 20px;\n",
       "    font-weight: inherit;\n",
       "    line-height: 20pt;\n",
       "    border: none;\n",
       "    border-radius: 0.2rem;\n",
       "    transition: box-shadow 0.1s);\n",
       "}\n",
       "\n",
       ".Input-text:focus {\n",
       "    outline: none;\n",
       "    background-color: var(--jq-numeric-input-bg);\n",
       "    box-shadow: 0.6rem 0.8rem 1.4rem -0.5rem var(--jq-numeric-input-shadow);\n",
       "}\n",
       "\n",
       ".MCButton {\n",
       "    background: var(--jq-mc-button-bg);\n",
       "    border: 1px solid var(--jq-mc-button-border);\n",
       "    border-radius: inherit;\n",
       "    padding: 10px;\n",
       "    font-size: 16px;\n",
       "    cursor: pointer;\n",
       "    text-align: center;\n",
       "    display: flex;\n",
       "    align-items: center;\n",
       "    justify-content: center;\n",
       "}\n",
       "\n",
       ".MCButton p {\n",
       "    color: inherit;\n",
       "}\n",
       "\n",
       ".MultipleChoiceQn {\n",
       "    padding: 10px;\n",
       "    background: var(--jq-multiple-choice-bg);\n",
       "    color: var(--jq-text-color);\n",
       "    border-radius: inherit;\n",
       "}\n",
       "\n",
       ".ManyChoiceQn {\n",
       "    padding: 10px;\n",
       "    background: var(--jq-many-choice-bg);\n",
       "    color: var(--jq-text-color);\n",
       "    border-radius: inherit;\n",
       "}\n",
       "\n",
       ".NumericQn {\n",
       "    padding: 10px;\n",
       "    background: var(--jq-numeric-bg);\n",
       "    color: var(--jq-text-color);\n",
       "    border-radius: inherit;\n",
       "}\n",
       "\n",
       ".NumericQn p {\n",
       "    color: inherit;\n",
       "}\n",
       "\n",
       ".InpLabel {\n",
       "    line-height: 34px;\n",
       "    float: left;\n",
       "    margin-right: 10px;\n",
       "    color: var(--jq-numeric-input-label);\n",
       "    font-size: 15pt;\n",
       "}\n",
       "\n",
       ".incorrect {\n",
       "    color: var(--jq-incorrect-color);\n",
       "}\n",
       "\n",
       ".correct {\n",
       "    color: var(--jq-correct-color);\n",
       "}\n",
       "\n",
       ".correctButton {\n",
       "    /*\n",
       "    background: var(--jq-correct-color);\n",
       "   */\n",
       "    animation: correct-anim 0.6s ease;\n",
       "    animation-fill-mode: forwards;\n",
       "    color: var(--jq-text-color);\n",
       "    box-shadow: inset 0px 0px 5px var(--jq-mc-button-inset-shadow);\n",
       "    outline: none;\n",
       "}\n",
       "\n",
       ".incorrectButton {\n",
       "    animation: incorrect-anim 0.8s ease;\n",
       "    animation-fill-mode: forwards;\n",
       "    color: var(--jq-text-color);\n",
       "    box-shadow: inset 0px 0px 5px var(--jq-mc-button-inset-shadow);\n",
       "    outline: none;\n",
       "}\n",
       "\n",
       "@keyframes incorrect-anim {\n",
       "    100% {\n",
       "        background-color: var(--jq-incorrect-color);\n",
       "    }\n",
       "}\n",
       "\n",
       "@keyframes correct-anim {\n",
       "    100% {\n",
       "        background-color: var(--jq-correct-color);\n",
       "    }\n",
       "}\n",
       "</style>"
      ],
      "text/plain": [
       "<IPython.core.display.HTML object>"
      ]
     },
     "metadata": {},
     "output_type": "display_data"
    },
    {
     "data": {
      "application/javascript": [
       "var questionsXtVIuTRynxjW=[\n",
       "    {\n",
       "        \"question\": \"What does a relative file path NOT start with?\",\n",
       "        \"type\": \"many_choice\",\n",
       "        \"answers\": [\n",
       "            {\n",
       "                \"answer\": \"A drive letter (e.g., C:)\",\n",
       "                \"correct\": false,\n",
       "                \"feedback\": \"Incorrect\"\n",
       "            },\n",
       "            {\n",
       "                \"answer\": \"A forward slash (/)\",\n",
       "                \"correct\": true,\n",
       "                \"feedback\": \"Correct\"\n",
       "            },\n",
       "            {\n",
       "                \"answer\": \"A dot (.)\",\n",
       "                \"correct\": false,\n",
       "                \"feedback\": \"Incorrect\"\n",
       "            },\n",
       "            {\n",
       "                \"answer\": \"A folder name\",\n",
       "                \"correct\": false,\n",
       "                \"feedback\": \"Incorrect\"\n",
       "            }\n",
       "        ]\n",
       "    },\n",
       "    {\n",
       "        \"question\": \"Which operator is used to assign a value to a variable in R?\",\n",
       "        \"type\": \"many_choice\",\n",
       "        \"answers\": [\n",
       "            {\n",
       "                \"answer\": \"==\",\n",
       "                \"correct\": false,\n",
       "                \"feedback\": \"Incorrect\"\n",
       "            },\n",
       "            {\n",
       "                \"answer\": \"->\",\n",
       "                \"correct\": false,\n",
       "                \"feedback\": \"Incorrect\"\n",
       "            },\n",
       "            {\n",
       "                \"answer\": \"=\",\n",
       "                \"correct\": false,\n",
       "                \"feedback\": \"Incorrect\"\n",
       "            },\n",
       "            {\n",
       "                \"answer\": \"<-\",\n",
       "                \"correct\": true,\n",
       "                \"feedback\": \"Correct\"\n",
       "            }\n",
       "        ]\n",
       "    },\n",
       "    {\n",
       "        \"question\": \"What is the primary use of the console pane in RStudio?\",\n",
       "        \"type\": \"many_choice\",\n",
       "        \"answers\": [\n",
       "            {\n",
       "                \"answer\": \"To edit scripts and save them for later use\",\n",
       "                \"correct\": false,\n",
       "                \"feedback\": \"Incorrect\"\n",
       "            },\n",
       "            {\n",
       "                \"answer\": \"To browse files and manage projects\",\n",
       "                \"correct\": false,\n",
       "                \"feedback\": \"Incorrect\"\n",
       "            },\n",
       "            {\n",
       "                \"answer\": \"To execute R commands and display results\",\n",
       "                \"correct\": true,\n",
       "                \"feedback\": \"Correct\"\n",
       "            },\n",
       "            {\n",
       "                \"answer\": \"To visualize data using plots\",\n",
       "                \"correct\": false,\n",
       "                \"feedback\": \"Incorrect\"\n",
       "            }\n",
       "        ]\n",
       "    }\n",
       "];\n",
       "    // Make a random ID\n",
       "function makeid(length) {\n",
       "    var result = [];\n",
       "    var characters = 'ABCDEFGHIJKLMNOPQRSTUVWXYZabcdefghijklmnopqrstuvwxyz';\n",
       "    var charactersLength = characters.length;\n",
       "    for (var i = 0; i < length; i++) {\n",
       "        result.push(characters.charAt(Math.floor(Math.random() * charactersLength)));\n",
       "    }\n",
       "    return result.join('');\n",
       "}\n",
       "\n",
       "// Choose a random subset of an array. Can also be used to shuffle the array\n",
       "function getRandomSubarray(arr, size) {\n",
       "    var shuffled = arr.slice(0), i = arr.length, temp, index;\n",
       "    while (i--) {\n",
       "        index = Math.floor((i + 1) * Math.random());\n",
       "        temp = shuffled[index];\n",
       "        shuffled[index] = shuffled[i];\n",
       "        shuffled[i] = temp;\n",
       "    }\n",
       "    return shuffled.slice(0, size);\n",
       "}\n",
       "\n",
       "function printResponses(responsesContainer) {\n",
       "    var responses=JSON.parse(responsesContainer.dataset.responses);\n",
       "    var stringResponses='<B>IMPORTANT!</B>To preserve this answer sequence for submission, when you have finalized your answers: <ol> <li> Copy the text in this cell below \"Answer String\"</li> <li> Double click on the cell directly below the Answer String, labeled \"Replace Me\"</li> <li> Select the whole \"Replace Me\" text</li> <li> Paste in your answer string and press shift-Enter.</li><li>Save the notebook using the save icon or File->Save Notebook menu item</li></ul><br><br><br><b>Answer String:</b><br> ';\n",
       "    console.log(responses);\n",
       "    responses.forEach((response, index) => {\n",
       "        if (response) {\n",
       "            console.log(index + ': ' + response);\n",
       "            stringResponses+= index + ': ' + response +\"<BR>\";\n",
       "        }\n",
       "    });\n",
       "    responsesContainer.innerHTML=stringResponses;\n",
       "}\n",
       "function check_mc() {\n",
       "    var id = this.id.split('-')[0];\n",
       "    //var response = this.id.split('-')[1];\n",
       "    //console.log(response);\n",
       "    //console.log(\"In check_mc(), id=\"+id);\n",
       "    //console.log(event.srcElement.id)           \n",
       "    //console.log(event.srcElement.dataset.correct)   \n",
       "    //console.log(event.srcElement.dataset.feedback)\n",
       "\n",
       "    var label = event.srcElement;\n",
       "    //console.log(label, label.nodeName);\n",
       "    var depth = 0;\n",
       "    while ((label.nodeName != \"LABEL\") && (depth < 20)) {\n",
       "        label = label.parentElement;\n",
       "        console.log(depth, label);\n",
       "        depth++;\n",
       "    }\n",
       "\n",
       "\n",
       "\n",
       "    var answers = label.parentElement.children;\n",
       "\n",
       "    //console.log(answers);\n",
       "\n",
       "\n",
       "    // Split behavior based on multiple choice vs many choice:\n",
       "    var fb = document.getElementById(\"fb\" + id);\n",
       "\n",
       "\n",
       "\n",
       "\n",
       "    if (fb.dataset.numcorrect == 1) {\n",
       "        // What follows is for the saved responses stuff\n",
       "        var outerContainer = fb.parentElement.parentElement;\n",
       "        var responsesContainer = document.getElementById(\"responses\" + outerContainer.id);\n",
       "        if (responsesContainer) {\n",
       "            //console.log(responsesContainer);\n",
       "            var response = label.firstChild.innerText;\n",
       "            if (label.querySelector(\".QuizCode\")){\n",
       "                response+= label.querySelector(\".QuizCode\").firstChild.innerText;\n",
       "            }\n",
       "            console.log(response);\n",
       "            //console.log(document.getElementById(\"quizWrap\"+id));\n",
       "            var qnum = document.getElementById(\"quizWrap\"+id).dataset.qnum;\n",
       "            console.log(\"Question \" + qnum);\n",
       "            //console.log(id, \", got numcorrect=\",fb.dataset.numcorrect);\n",
       "            var responses=JSON.parse(responsesContainer.dataset.responses);\n",
       "            console.log(responses);\n",
       "            responses[qnum]= response;\n",
       "            responsesContainer.setAttribute('data-responses', JSON.stringify(responses));\n",
       "            printResponses(responsesContainer);\n",
       "        }\n",
       "        // End code to preserve responses\n",
       "        \n",
       "        for (var i = 0; i < answers.length; i++) {\n",
       "            var child = answers[i];\n",
       "            //console.log(child);\n",
       "            child.className = \"MCButton\";\n",
       "        }\n",
       "\n",
       "\n",
       "\n",
       "        if (label.dataset.correct == \"true\") {\n",
       "            // console.log(\"Correct action\");\n",
       "            if (\"feedback\" in label.dataset) {\n",
       "                fb.textContent = jaxify(label.dataset.feedback);\n",
       "            } else {\n",
       "                fb.textContent = \"Correct!\";\n",
       "            }\n",
       "            label.classList.add(\"correctButton\");\n",
       "\n",
       "            fb.className = \"Feedback\";\n",
       "            fb.classList.add(\"correct\");\n",
       "\n",
       "        } else {\n",
       "            if (\"feedback\" in label.dataset) {\n",
       "                fb.textContent = jaxify(label.dataset.feedback);\n",
       "            } else {\n",
       "                fb.textContent = \"Incorrect -- try again.\";\n",
       "            }\n",
       "            //console.log(\"Error action\");\n",
       "            label.classList.add(\"incorrectButton\");\n",
       "            fb.className = \"Feedback\";\n",
       "            fb.classList.add(\"incorrect\");\n",
       "        }\n",
       "    }\n",
       "    else {\n",
       "        var reset = false;\n",
       "        var feedback;\n",
       "         if (label.dataset.correct == \"true\") {\n",
       "            if (\"feedback\" in label.dataset) {\n",
       "                feedback = jaxify(label.dataset.feedback);\n",
       "            } else {\n",
       "                feedback = \"Correct!\";\n",
       "            }\n",
       "            if (label.dataset.answered <= 0) {\n",
       "                if (fb.dataset.answeredcorrect < 0) {\n",
       "                    fb.dataset.answeredcorrect = 1;\n",
       "                    reset = true;\n",
       "                } else {\n",
       "                    fb.dataset.answeredcorrect++;\n",
       "                }\n",
       "                if (reset) {\n",
       "                    for (var i = 0; i < answers.length; i++) {\n",
       "                        var child = answers[i];\n",
       "                        child.className = \"MCButton\";\n",
       "                        child.dataset.answered = 0;\n",
       "                    }\n",
       "                }\n",
       "                label.classList.add(\"correctButton\");\n",
       "                label.dataset.answered = 1;\n",
       "                fb.className = \"Feedback\";\n",
       "                fb.classList.add(\"correct\");\n",
       "\n",
       "            }\n",
       "        } else {\n",
       "            if (\"feedback\" in label.dataset) {\n",
       "                feedback = jaxify(label.dataset.feedback);\n",
       "            } else {\n",
       "                feedback = \"Incorrect -- try again.\";\n",
       "            }\n",
       "            if (fb.dataset.answeredcorrect > 0) {\n",
       "                fb.dataset.answeredcorrect = -1;\n",
       "                reset = true;\n",
       "            } else {\n",
       "                fb.dataset.answeredcorrect--;\n",
       "            }\n",
       "\n",
       "            if (reset) {\n",
       "                for (var i = 0; i < answers.length; i++) {\n",
       "                    var child = answers[i];\n",
       "                    child.className = \"MCButton\";\n",
       "                    child.dataset.answered = 0;\n",
       "                }\n",
       "            }\n",
       "            label.classList.add(\"incorrectButton\");\n",
       "            fb.className = \"Feedback\";\n",
       "            fb.classList.add(\"incorrect\");\n",
       "        }\n",
       "        // What follows is for the saved responses stuff\n",
       "        var outerContainer = fb.parentElement.parentElement;\n",
       "        var responsesContainer = document.getElementById(\"responses\" + outerContainer.id);\n",
       "        if (responsesContainer) {\n",
       "            //console.log(responsesContainer);\n",
       "            var response = label.firstChild.innerText;\n",
       "            if (label.querySelector(\".QuizCode\")){\n",
       "                response+= label.querySelector(\".QuizCode\").firstChild.innerText;\n",
       "            }\n",
       "            console.log(response);\n",
       "            //console.log(document.getElementById(\"quizWrap\"+id));\n",
       "            var qnum = document.getElementById(\"quizWrap\"+id).dataset.qnum;\n",
       "            console.log(\"Question \" + qnum);\n",
       "            //console.log(id, \", got numcorrect=\",fb.dataset.numcorrect);\n",
       "            var responses=JSON.parse(responsesContainer.dataset.responses);\n",
       "            if (label.dataset.correct == \"true\") {\n",
       "                if (typeof(responses[qnum]) == \"object\"){\n",
       "                    if (!responses[qnum].includes(response))\n",
       "                        responses[qnum].push(response);\n",
       "                } else{\n",
       "                    responses[qnum]= [ response ];\n",
       "                }\n",
       "            } else {\n",
       "                responses[qnum]= response;\n",
       "            }\n",
       "            console.log(responses);\n",
       "            responsesContainer.setAttribute('data-responses', JSON.stringify(responses));\n",
       "            printResponses(responsesContainer);\n",
       "        }\n",
       "        // End save responses stuff\n",
       "\n",
       "\n",
       "\n",
       "        var numcorrect = fb.dataset.numcorrect;\n",
       "        var answeredcorrect = fb.dataset.answeredcorrect;\n",
       "        if (answeredcorrect >= 0) {\n",
       "            fb.textContent = feedback + \" [\" + answeredcorrect + \"/\" + numcorrect + \"]\";\n",
       "        } else {\n",
       "            fb.textContent = feedback + \" [\" + 0 + \"/\" + numcorrect + \"]\";\n",
       "        }\n",
       "\n",
       "\n",
       "    }\n",
       "\n",
       "    if (typeof MathJax != 'undefined') {\n",
       "        var version = MathJax.version;\n",
       "        console.log('MathJax version', version);\n",
       "        if (version[0] == \"2\") {\n",
       "            MathJax.Hub.Queue([\"Typeset\", MathJax.Hub]);\n",
       "        } else if (version[0] == \"3\") {\n",
       "            MathJax.typeset([fb]);\n",
       "        }\n",
       "    } else {\n",
       "        console.log('MathJax not detected');\n",
       "    }\n",
       "\n",
       "}\n",
       "\n",
       "function make_mc(qa, shuffle_answers, outerqDiv, qDiv, aDiv, id) {\n",
       "    var shuffled;\n",
       "    if (shuffle_answers == \"True\") {\n",
       "        //console.log(shuffle_answers+\" read as true\");\n",
       "        shuffled = getRandomSubarray(qa.answers, qa.answers.length);\n",
       "    } else {\n",
       "        //console.log(shuffle_answers+\" read as false\");\n",
       "        shuffled = qa.answers;\n",
       "    }\n",
       "\n",
       "\n",
       "    var num_correct = 0;\n",
       "\n",
       "\n",
       "\n",
       "    shuffled.forEach((item, index, ans_array) => {\n",
       "        //console.log(answer);\n",
       "\n",
       "        // Make input element\n",
       "        var inp = document.createElement(\"input\");\n",
       "        inp.type = \"radio\";\n",
       "        inp.id = \"quizo\" + id + index;\n",
       "        inp.style = \"display:none;\";\n",
       "        aDiv.append(inp);\n",
       "\n",
       "        //Make label for input element\n",
       "        var lab = document.createElement(\"label\");\n",
       "        lab.className = \"MCButton\";\n",
       "        lab.id = id + '-' + index;\n",
       "        lab.onclick = check_mc;\n",
       "        var aSpan = document.createElement('span');\n",
       "        aSpan.classsName = \"\";\n",
       "        //qDiv.id=\"quizQn\"+id+index;\n",
       "        if (\"answer\" in item) {\n",
       "            aSpan.innerHTML = jaxify(item.answer);\n",
       "            //aSpan.innerHTML=item.answer;\n",
       "        }\n",
       "        lab.append(aSpan);\n",
       "\n",
       "        // Create div for code inside question\n",
       "        var codeSpan;\n",
       "        if (\"code\" in item) {\n",
       "            codeSpan = document.createElement('span');\n",
       "            codeSpan.id = \"code\" + id + index;\n",
       "            codeSpan.className = \"QuizCode\";\n",
       "            var codePre = document.createElement('pre');\n",
       "            codeSpan.append(codePre);\n",
       "            var codeCode = document.createElement('code');\n",
       "            codePre.append(codeCode);\n",
       "            codeCode.innerHTML = item.code;\n",
       "            lab.append(codeSpan);\n",
       "            //console.log(codeSpan);\n",
       "        }\n",
       "\n",
       "        //lab.textContent=item.answer;\n",
       "\n",
       "        // Set the data attributes for the answer\n",
       "        lab.setAttribute('data-correct', item.correct);\n",
       "        if (item.correct) {\n",
       "            num_correct++;\n",
       "        }\n",
       "        if (\"feedback\" in item) {\n",
       "            lab.setAttribute('data-feedback', item.feedback);\n",
       "        }\n",
       "        lab.setAttribute('data-answered', 0);\n",
       "\n",
       "        aDiv.append(lab);\n",
       "\n",
       "    });\n",
       "\n",
       "    if (num_correct > 1) {\n",
       "        outerqDiv.className = \"ManyChoiceQn\";\n",
       "    } else {\n",
       "        outerqDiv.className = \"MultipleChoiceQn\";\n",
       "    }\n",
       "\n",
       "    return num_correct;\n",
       "\n",
       "}\n",
       "function check_numeric(ths, event) {\n",
       "\n",
       "    if (event.keyCode === 13) {\n",
       "        ths.blur();\n",
       "\n",
       "        var id = ths.id.split('-')[0];\n",
       "\n",
       "        var submission = ths.value;\n",
       "        if (submission.indexOf('/') != -1) {\n",
       "            var sub_parts = submission.split('/');\n",
       "            //console.log(sub_parts);\n",
       "            submission = sub_parts[0] / sub_parts[1];\n",
       "        }\n",
       "        //console.log(\"Reader entered\", submission);\n",
       "\n",
       "        if (\"precision\" in ths.dataset) {\n",
       "            var precision = ths.dataset.precision;\n",
       "            // console.log(\"1:\", submission)\n",
       "            submission = Math.round((1 * submission + Number.EPSILON) * 10 ** precision) / 10 ** precision;\n",
       "            // console.log(\"Rounded to \", submission, \" precision=\", precision  );\n",
       "        }\n",
       "\n",
       "\n",
       "        //console.log(\"In check_numeric(), id=\"+id);\n",
       "        //console.log(event.srcElement.id)           \n",
       "        //console.log(event.srcElement.dataset.feedback)\n",
       "\n",
       "        var fb = document.getElementById(\"fb\" + id);\n",
       "        fb.style.display = \"none\";\n",
       "        fb.textContent = \"Incorrect -- try again.\";\n",
       "\n",
       "        var answers = JSON.parse(ths.dataset.answers);\n",
       "        //console.log(answers);\n",
       "\n",
       "        var defaultFB = \"\";\n",
       "        var correct;\n",
       "        var done = false;\n",
       "        answers.every(answer => {\n",
       "            //console.log(answer.type);\n",
       "\n",
       "            correct = false;\n",
       "            // if (answer.type==\"value\"){\n",
       "            if ('value' in answer) {\n",
       "                if (submission == answer.value) {\n",
       "                    if (\"feedback\" in answer) {\n",
       "                        fb.textContent = jaxify(answer.feedback);\n",
       "                    } else {\n",
       "                        fb.textContent = jaxify(\"Correct\");\n",
       "                    }\n",
       "                    correct = answer.correct;\n",
       "                    //console.log(answer.correct);\n",
       "                    done = true;\n",
       "                }\n",
       "                // } else if (answer.type==\"range\") {\n",
       "            } else if ('range' in answer) {\n",
       "                //console.log(answer.range);\n",
       "                if ((submission >= answer.range[0]) && (submission < answer.range[1])) {\n",
       "                    fb.textContent = jaxify(answer.feedback);\n",
       "                    correct = answer.correct;\n",
       "                    //console.log(answer.correct);\n",
       "                    done = true;\n",
       "                }\n",
       "            } else if (answer.type == \"default\") {\n",
       "                defaultFB = answer.feedback;\n",
       "            }\n",
       "            if (done) {\n",
       "                return false; // Break out of loop if this has been marked correct\n",
       "            } else {\n",
       "                return true; // Keep looking for case that includes this as a correct answer\n",
       "            }\n",
       "        });\n",
       "\n",
       "        if ((!done) && (defaultFB != \"\")) {\n",
       "            fb.innerHTML = jaxify(defaultFB);\n",
       "            //console.log(\"Default feedback\", defaultFB);\n",
       "        }\n",
       "\n",
       "        fb.style.display = \"block\";\n",
       "        if (correct) {\n",
       "            ths.className = \"Input-text\";\n",
       "            ths.classList.add(\"correctButton\");\n",
       "            fb.className = \"Feedback\";\n",
       "            fb.classList.add(\"correct\");\n",
       "        } else {\n",
       "            ths.className = \"Input-text\";\n",
       "            ths.classList.add(\"incorrectButton\");\n",
       "            fb.className = \"Feedback\";\n",
       "            fb.classList.add(\"incorrect\");\n",
       "        }\n",
       "\n",
       "        // What follows is for the saved responses stuff\n",
       "        var outerContainer = fb.parentElement.parentElement;\n",
       "        var responsesContainer = document.getElementById(\"responses\" + outerContainer.id);\n",
       "        if (responsesContainer) {\n",
       "            console.log(submission);\n",
       "            var qnum = document.getElementById(\"quizWrap\"+id).dataset.qnum;\n",
       "            //console.log(\"Question \" + qnum);\n",
       "            //console.log(id, \", got numcorrect=\",fb.dataset.numcorrect);\n",
       "            var responses=JSON.parse(responsesContainer.dataset.responses);\n",
       "            console.log(responses);\n",
       "            if (submission == ths.value){\n",
       "                responses[qnum]= submission;\n",
       "            } else {\n",
       "                responses[qnum]= ths.value + \"(\" + submission +\")\";\n",
       "            }\n",
       "            responsesContainer.setAttribute('data-responses', JSON.stringify(responses));\n",
       "            printResponses(responsesContainer);\n",
       "        }\n",
       "        // End code to preserve responses\n",
       "\n",
       "        if (typeof MathJax != 'undefined') {\n",
       "            var version = MathJax.version;\n",
       "            console.log('MathJax version', version);\n",
       "            if (version[0] == \"2\") {\n",
       "                MathJax.Hub.Queue([\"Typeset\", MathJax.Hub]);\n",
       "            } else if (version[0] == \"3\") {\n",
       "                MathJax.typeset([fb]);\n",
       "            }\n",
       "        } else {\n",
       "            console.log('MathJax not detected');\n",
       "        }\n",
       "        return false;\n",
       "    }\n",
       "\n",
       "}\n",
       "\n",
       "function isValid(el, charC) {\n",
       "    //console.log(\"Input char: \", charC);\n",
       "    if (charC == 46) {\n",
       "        if (el.value.indexOf('.') === -1) {\n",
       "            return true;\n",
       "        } else if (el.value.indexOf('/') != -1) {\n",
       "            var parts = el.value.split('/');\n",
       "            if (parts[1].indexOf('.') === -1) {\n",
       "                return true;\n",
       "            }\n",
       "        }\n",
       "        else {\n",
       "            return false;\n",
       "        }\n",
       "    } else if (charC == 47) {\n",
       "        if (el.value.indexOf('/') === -1) {\n",
       "            if ((el.value != \"\") && (el.value != \".\")) {\n",
       "                return true;\n",
       "            } else {\n",
       "                return false;\n",
       "            }\n",
       "        } else {\n",
       "            return false;\n",
       "        }\n",
       "    } else if (charC == 45) {\n",
       "        var edex = el.value.indexOf('e');\n",
       "        if (edex == -1) {\n",
       "            edex = el.value.indexOf('E');\n",
       "        }\n",
       "\n",
       "        if (el.value == \"\") {\n",
       "            return true;\n",
       "        } else if (edex == (el.value.length - 1)) { // If just after e or E\n",
       "            return true;\n",
       "        } else {\n",
       "            return false;\n",
       "        }\n",
       "    } else if (charC == 101) { // \"e\"\n",
       "        if ((el.value.indexOf('e') === -1) && (el.value.indexOf('E') === -1) && (el.value.indexOf('/') == -1)) {\n",
       "            // Prev symbol must be digit or decimal point:\n",
       "            if (el.value.slice(-1).search(/\\d/) >= 0) {\n",
       "                return true;\n",
       "            } else if (el.value.slice(-1).search(/\\./) >= 0) {\n",
       "                return true;\n",
       "            } else {\n",
       "                return false;\n",
       "            }\n",
       "        } else {\n",
       "            return false;\n",
       "        }\n",
       "    } else {\n",
       "        if (charC > 31 && (charC < 48 || charC > 57))\n",
       "            return false;\n",
       "    }\n",
       "    return true;\n",
       "}\n",
       "\n",
       "function numeric_keypress(evnt) {\n",
       "    var charC = (evnt.which) ? evnt.which : evnt.keyCode;\n",
       "\n",
       "    if (charC == 13) {\n",
       "        check_numeric(this, evnt);\n",
       "    } else {\n",
       "        return isValid(this, charC);\n",
       "    }\n",
       "}\n",
       "\n",
       "\n",
       "\n",
       "\n",
       "\n",
       "function make_numeric(qa, outerqDiv, qDiv, aDiv, id) {\n",
       "\n",
       "\n",
       "\n",
       "    //console.log(answer);\n",
       "\n",
       "\n",
       "    outerqDiv.className = \"NumericQn\";\n",
       "    aDiv.style.display = 'block';\n",
       "\n",
       "    var lab = document.createElement(\"label\");\n",
       "    lab.className = \"InpLabel\";\n",
       "    lab.textContent = \"Type numeric answer here:\";\n",
       "    aDiv.append(lab);\n",
       "\n",
       "    var inp = document.createElement(\"input\");\n",
       "    inp.type = \"text\";\n",
       "    //inp.id=\"input-\"+id;\n",
       "    inp.id = id + \"-0\";\n",
       "    inp.className = \"Input-text\";\n",
       "    inp.setAttribute('data-answers', JSON.stringify(qa.answers));\n",
       "    if (\"precision\" in qa) {\n",
       "        inp.setAttribute('data-precision', qa.precision);\n",
       "    }\n",
       "    aDiv.append(inp);\n",
       "    //console.log(inp);\n",
       "\n",
       "    //inp.addEventListener(\"keypress\", check_numeric);\n",
       "    //inp.addEventListener(\"keypress\", numeric_keypress);\n",
       "    /*\n",
       "    inp.addEventListener(\"keypress\", function(event) {\n",
       "        return numeric_keypress(this, event);\n",
       "    }\n",
       "                        );\n",
       "                        */\n",
       "    //inp.onkeypress=\"return numeric_keypress(this, event)\";\n",
       "    inp.onkeypress = numeric_keypress;\n",
       "    inp.onpaste = event => false;\n",
       "\n",
       "    inp.addEventListener(\"focus\", function (event) {\n",
       "        this.value = \"\";\n",
       "        return false;\n",
       "    }\n",
       "    );\n",
       "\n",
       "\n",
       "}\n",
       "function jaxify(string) {\n",
       "    var mystring = string;\n",
       "\n",
       "    var count = 0;\n",
       "    var loc = mystring.search(/([^\\\\]|^)(\\$)/);\n",
       "\n",
       "    var count2 = 0;\n",
       "    var loc2 = mystring.search(/([^\\\\]|^)(\\$\\$)/);\n",
       "\n",
       "    //console.log(loc);\n",
       "\n",
       "    while ((loc >= 0) || (loc2 >= 0)) {\n",
       "\n",
       "        /* Have to replace all the double $$ first with current implementation */\n",
       "        if (loc2 >= 0) {\n",
       "            if (count2 % 2 == 0) {\n",
       "                mystring = mystring.replace(/([^\\\\]|^)(\\$\\$)/, \"$1\\\\[\");\n",
       "            } else {\n",
       "                mystring = mystring.replace(/([^\\\\]|^)(\\$\\$)/, \"$1\\\\]\");\n",
       "            }\n",
       "            count2++;\n",
       "        } else {\n",
       "            if (count % 2 == 0) {\n",
       "                mystring = mystring.replace(/([^\\\\]|^)(\\$)/, \"$1\\\\(\");\n",
       "            } else {\n",
       "                mystring = mystring.replace(/([^\\\\]|^)(\\$)/, \"$1\\\\)\");\n",
       "            }\n",
       "            count++;\n",
       "        }\n",
       "        loc = mystring.search(/([^\\\\]|^)(\\$)/);\n",
       "        loc2 = mystring.search(/([^\\\\]|^)(\\$\\$)/);\n",
       "        //console.log(mystring,\", loc:\",loc,\", loc2:\",loc2);\n",
       "    }\n",
       "\n",
       "    //console.log(mystring);\n",
       "    return mystring;\n",
       "}\n",
       "\n",
       "\n",
       "function show_questions(json, mydiv) {\n",
       "    console.log('show_questions');\n",
       "    //var mydiv=document.getElementById(myid);\n",
       "    var shuffle_questions = mydiv.dataset.shufflequestions;\n",
       "    var num_questions = mydiv.dataset.numquestions;\n",
       "    var shuffle_answers = mydiv.dataset.shuffleanswers;\n",
       "    var max_width = mydiv.dataset.maxwidth;\n",
       "\n",
       "    if (num_questions > json.length) {\n",
       "        num_questions = json.length;\n",
       "    }\n",
       "\n",
       "    var questions;\n",
       "    if ((num_questions < json.length) || (shuffle_questions == \"True\")) {\n",
       "        //console.log(num_questions+\",\"+json.length);\n",
       "        questions = getRandomSubarray(json, num_questions);\n",
       "    } else {\n",
       "        questions = json;\n",
       "    }\n",
       "\n",
       "    //console.log(\"SQ: \"+shuffle_questions+\", NQ: \" + num_questions + \", SA: \", shuffle_answers);\n",
       "\n",
       "    // Iterate over questions\n",
       "    questions.forEach((qa, index, array) => {\n",
       "        //console.log(qa.question); \n",
       "\n",
       "        var id = makeid(8);\n",
       "        //console.log(id);\n",
       "\n",
       "\n",
       "        // Create Div to contain question and answers\n",
       "        var iDiv = document.createElement('div');\n",
       "        //iDiv.id = 'quizWrap' + id + index;\n",
       "        iDiv.id = 'quizWrap' + id;\n",
       "        iDiv.className = 'Quiz';\n",
       "        iDiv.setAttribute('data-qnum', index);\n",
       "        iDiv.style.maxWidth  =max_width+\"px\";\n",
       "        mydiv.appendChild(iDiv);\n",
       "        // iDiv.innerHTML=qa.question;\n",
       "        \n",
       "        var outerqDiv = document.createElement('div');\n",
       "        outerqDiv.id = \"OuterquizQn\" + id + index;\n",
       "        // Create div to contain question part\n",
       "        var qDiv = document.createElement('div');\n",
       "        qDiv.id = \"quizQn\" + id + index;\n",
       "        \n",
       "        if (qa.question) {\n",
       "            iDiv.append(outerqDiv);\n",
       "\n",
       "            //qDiv.textContent=qa.question;\n",
       "            qDiv.innerHTML = jaxify(qa.question);\n",
       "            outerqDiv.append(qDiv);\n",
       "        }\n",
       "\n",
       "        // Create div for code inside question\n",
       "        var codeDiv;\n",
       "        if (\"code\" in qa) {\n",
       "            codeDiv = document.createElement('div');\n",
       "            codeDiv.id = \"code\" + id + index;\n",
       "            codeDiv.className = \"QuizCode\";\n",
       "            var codePre = document.createElement('pre');\n",
       "            codeDiv.append(codePre);\n",
       "            var codeCode = document.createElement('code');\n",
       "            codePre.append(codeCode);\n",
       "            codeCode.innerHTML = qa.code;\n",
       "            outerqDiv.append(codeDiv);\n",
       "            //console.log(codeDiv);\n",
       "        }\n",
       "\n",
       "\n",
       "        // Create div to contain answer part\n",
       "        var aDiv = document.createElement('div');\n",
       "        aDiv.id = \"quizAns\" + id + index;\n",
       "        aDiv.className = 'Answer';\n",
       "        iDiv.append(aDiv);\n",
       "\n",
       "        //console.log(qa.type);\n",
       "\n",
       "        var num_correct;\n",
       "        if ((qa.type == \"multiple_choice\") || (qa.type == \"many_choice\") ) {\n",
       "            num_correct = make_mc(qa, shuffle_answers, outerqDiv, qDiv, aDiv, id);\n",
       "            if (\"answer_cols\" in qa) {\n",
       "                //aDiv.style.gridTemplateColumns = 'auto '.repeat(qa.answer_cols);\n",
       "                aDiv.style.gridTemplateColumns = 'repeat(' + qa.answer_cols + ', 1fr)';\n",
       "            }\n",
       "        } else if (qa.type == \"numeric\") {\n",
       "            //console.log(\"numeric\");\n",
       "            make_numeric(qa, outerqDiv, qDiv, aDiv, id);\n",
       "        }\n",
       "\n",
       "\n",
       "        //Make div for feedback\n",
       "        var fb = document.createElement(\"div\");\n",
       "        fb.id = \"fb\" + id;\n",
       "        //fb.style=\"font-size: 20px;text-align:center;\";\n",
       "        fb.className = \"Feedback\";\n",
       "        fb.setAttribute(\"data-answeredcorrect\", 0);\n",
       "        fb.setAttribute(\"data-numcorrect\", num_correct);\n",
       "        iDiv.append(fb);\n",
       "\n",
       "\n",
       "    });\n",
       "    var preserveResponses = mydiv.dataset.preserveresponses;\n",
       "    console.log(preserveResponses);\n",
       "    console.log(preserveResponses == \"true\");\n",
       "    if (preserveResponses == \"true\") {\n",
       "        console.log(preserveResponses);\n",
       "        // Create Div to contain record of answers\n",
       "        var iDiv = document.createElement('div');\n",
       "        iDiv.id = 'responses' + mydiv.id;\n",
       "        iDiv.className = 'JCResponses';\n",
       "        // Create a place to store responses as an empty array\n",
       "        iDiv.setAttribute('data-responses', '[]');\n",
       "\n",
       "        // Dummy Text\n",
       "        iDiv.innerHTML=\"<b>Select your answers and then follow the directions that will appear here.</b>\"\n",
       "        //iDiv.className = 'Quiz';\n",
       "        mydiv.appendChild(iDiv);\n",
       "    }\n",
       "//console.log(\"At end of show_questions\");\n",
       "    if (typeof MathJax != 'undefined') {\n",
       "        console.log(\"MathJax version\", MathJax.version);\n",
       "        var version = MathJax.version;\n",
       "        setTimeout(function(){\n",
       "            var version = MathJax.version;\n",
       "            console.log('After sleep, MathJax version', version);\n",
       "            if (version[0] == \"2\") {\n",
       "                MathJax.Hub.Queue([\"Typeset\", MathJax.Hub]);\n",
       "            } else if (version[0] == \"3\") {\n",
       "                MathJax.typeset([mydiv]);\n",
       "            }\n",
       "        }, 500);\n",
       "if (typeof version == 'undefined') {\n",
       "        } else\n",
       "        {\n",
       "            if (version[0] == \"2\") {\n",
       "                MathJax.Hub.Queue([\"Typeset\", MathJax.Hub]);\n",
       "            } else if (version[0] == \"3\") {\n",
       "                MathJax.typeset([mydiv]);\n",
       "            } else {\n",
       "                console.log(\"MathJax not found\");\n",
       "            }\n",
       "        }\n",
       "    }\n",
       "    return false;\n",
       "}\n",
       "/* This is to handle asynchrony issues in loading Jupyter notebooks\n",
       "           where the quiz has been previously run. The Javascript was generally\n",
       "           being run before the div was added to the DOM. I tried to do this\n",
       "           more elegantly using Mutation Observer, but I didn't get it to work.\n",
       "\n",
       "           Someone more knowledgeable could make this better ;-) */\n",
       "\n",
       "        function try_show() {\n",
       "          if(document.getElementById(\"XtVIuTRynxjW\")) {\n",
       "            show_questions(questionsXtVIuTRynxjW,  XtVIuTRynxjW); \n",
       "          } else {\n",
       "             setTimeout(try_show, 200);\n",
       "          }\n",
       "        };\n",
       "    \n",
       "        {\n",
       "        // console.log(element);\n",
       "\n",
       "        //console.log(\"XtVIuTRynxjW\");\n",
       "        // console.log(document.getElementById(\"XtVIuTRynxjW\"));\n",
       "\n",
       "        try_show();\n",
       "        }\n",
       "        "
      ],
      "text/plain": [
       "<IPython.core.display.Javascript object>"
      ]
     },
     "metadata": {},
     "output_type": "display_data"
    }
   ],
   "source": [
    "from jupyterquiz import display_quiz\n",
    "display_quiz(\"questions/summary_basic_commands.json\")"
   ]
  },
  {
   "cell_type": "code",
   "execution_count": null,
   "id": "8aa8ecad-c6a4-45da-8c9b-8f644e8352a1",
   "metadata": {
    "editable": true,
    "slideshow": {
     "slide_type": ""
    },
    "tags": []
   },
   "outputs": [],
   "source": []
  }
 ],
 "metadata": {
  "kernelspec": {
   "display_name": "Python 3 (ipykernel)",
   "language": "python",
   "name": "python3"
  },
  "language_info": {
   "codemirror_mode": {
    "name": "ipython",
    "version": 3
   },
   "file_extension": ".py",
   "mimetype": "text/x-python",
   "name": "python",
   "nbconvert_exporter": "python",
   "pygments_lexer": "ipython3",
   "version": "3.9.19"
  }
 },
 "nbformat": 4,
 "nbformat_minor": 5
}
