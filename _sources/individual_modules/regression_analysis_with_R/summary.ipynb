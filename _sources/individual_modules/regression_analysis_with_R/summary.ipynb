{
 "cells": [
  {
   "cell_type": "markdown",
   "id": "6e22ae4d-9148-4dce-a11e-b71d0883eb02",
   "metadata": {
    "editable": true,
    "slideshow": {
     "slide_type": ""
    },
    "tags": [
     "remove-input"
    ]
   },
   "source": [
    "# Summary\n",
    "## Quiz\n",
    "You may now wish to try the interactive understanding quiz for this workshop to check your understanding, avaliable here: [Regression Analysis with R Quiz](../../where_is_my_understanding/regression_analysis_with_R.ipynb)\n",
    "\n",
    "## Recap\n",
    "\n",
    "In this session we have covered a number of concepts:\n",
    "\n",
    "* What is regression\n",
    "* What the intercept is\n",
    "\n",
    "\n",
    "We have cover a number of different types of regression analysis:\n",
    "\n",
    "* Simple Linear Regression\n",
    "* Muliple Linear Regression\n",
    "* Logistic Regression\n",
    "\n",
    "We have looked at what hypothesis or significance testing means for a regression model to test\n",
    "\n",
    "* individual regression coefficients on an outcome\n",
    "* the joint effect of multiple predictor variables on an outcome\n",
    "\n",
    "As a consequence we have drawn out the link between regression and \n",
    "\n",
    "* a t-test\n",
    "* ANOVA\n",
    "\n",
    "In summary regression is a modulular framework that can be used to test a endless range of analytical questions.\n"
   ]
  }
 ],
 "metadata": {
  "kernelspec": {
   "display_name": "Python 3 (ipykernel)",
   "language": "python",
   "name": "python3"
  },
  "language_info": {
   "codemirror_mode": {
    "name": "ipython",
    "version": 3
   },
   "file_extension": ".py",
   "mimetype": "text/x-python",
   "name": "python",
   "nbconvert_exporter": "python",
   "pygments_lexer": "ipython3",
   "version": "3.12.2"
  }
 },
 "nbformat": 4,
 "nbformat_minor": 5
}
