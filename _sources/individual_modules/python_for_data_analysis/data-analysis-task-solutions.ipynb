{
 "cells": [
  {
   "cell_type": "markdown",
   "metadata": {
    "editable": true,
    "slideshow": {
     "slide_type": ""
    },
    "tags": []
   },
   "source": [
    "# Python for Data Analysis - Exercise notebook\n",
    "\n",
    "This notebook is a longer exercise for students to complete in the third session of Python for Data Analysis. It has been designed to try to replicate the process of starting a new data analysis project.\n",
    "\n",
    "The data set used in this example is the `The Database of British and Irish Hills v18` and is freely available under a Creative Commons Attribution 4 License, at `https://www.hills-database.co.uk/downloads.html`. This data set contains grid reference information for peaks, hills, and cols in Britain."
   ]
  },
  {
   "cell_type": "markdown",
   "metadata": {},
   "source": [
    "## Step 1: Project set up\n",
    "\n",
    "* Create a new folder on your local machine in which your new data analysis project will be stored\n",
    "* Create a virtual environment for the project so that we can install packages into it. Note that you will need to use a shell, or terminal window for this.\n",
    "* Install Pandas into your virtual environment (if not already present), again using the shell\n",
    "* Create a new notebook for your analysis (feel free to copy this one)\n",
    "* Import Pandas to ensure you have installed it correctly"
   ]
  },
  {
   "cell_type": "code",
   "execution_count": 1,
   "metadata": {},
   "outputs": [
    {
     "data": {
      "text/plain": [
       "'2.2.2'"
      ]
     },
     "execution_count": 1,
     "metadata": {},
     "output_type": "execute_result"
    }
   ],
   "source": [
    "import pandas as pd\n",
    "pd.__version__"
   ]
  },
  {
   "cell_type": "markdown",
   "metadata": {},
   "source": [
    "## Step 2: Get and load a data set\n",
    "\n",
    "* Import Pandas into your analysis notebook\n",
    "* Find a .CSV file online, and save it into your project folder. Ideally, save this in a new folder called `data` within your project folder to stay organised.\n",
    "* Load the data into a DataFrame using Pandas"
   ]
  },
  {
   "cell_type": "code",
   "execution_count": 2,
   "metadata": {},
   "outputs": [],
   "source": [
    "import os"
   ]
  },
  {
   "cell_type": "code",
   "execution_count": 6,
   "metadata": {
    "editable": true,
    "slideshow": {
     "slide_type": ""
    },
    "tags": []
   },
   "outputs": [
    {
     "name": "stdout",
     "output_type": "stream",
     "text": [
      "My data file is located at: './data/DoBIH_v18.csv'\n",
      "My data path is valid: True\n"
     ]
    }
   ],
   "source": [
    "filename = \"DoBIH_v18.csv\"\n",
    "data_folder = \"data/\"\n",
    "project_folder = \".\"\n",
    "filepath = os.path.join(project_folder, data_folder, filename)\n",
    "\n",
    "print(f\"My data file is located at: '{filepath}'\")\n",
    "print(f\"My data path is valid: {os.path.exists(filepath)}\")"
   ]
  },
  {
   "cell_type": "code",
   "execution_count": 7,
   "metadata": {
    "editable": true,
    "slideshow": {
     "slide_type": ""
    },
    "tags": []
   },
   "outputs": [],
   "source": [
    "df = pd.read_csv(filepath, encoding='utf-8', engine='python')"
   ]
  },
  {
   "cell_type": "markdown",
   "metadata": {
    "editable": true,
    "slideshow": {
     "slide_type": ""
    },
    "tags": []
   },
   "source": [
    "## Step 3: Explore your data set\n",
    "\n",
    "* Read about the `df.info()` method in the Pandas documentation. What does it do?\n",
    "* Use it to get some information about your DataFrame. Read the output carefully. What does it tell you?"
   ]
  },
  {
   "cell_type": "code",
   "execution_count": 8,
   "metadata": {
    "editable": true,
    "slideshow": {
     "slide_type": ""
    },
    "tags": []
   },
   "outputs": [
    {
     "name": "stdout",
     "output_type": "stream",
     "text": [
      "<class 'pandas.core.frame.DataFrame'>\n",
      "RangeIndex: 21344 entries, 0 to 21343\n",
      "Columns: 105 entries, Number to Un\n",
      "dtypes: float64(9), int64(70), object(26)\n",
      "memory usage: 17.1+ MB\n"
     ]
    }
   ],
   "source": [
    "# 1. df.info() provides information about the DataFrame object\n",
    "# 2. Note the memory used, the column names, the column types, and the null count\n",
    "\n",
    "df.info()"
   ]
  },
  {
   "cell_type": "markdown",
   "metadata": {
    "editable": true,
    "slideshow": {
     "slide_type": ""
    },
    "tags": []
   },
   "source": [
    "* Use `df.describe()` to get more information about your DataFrame. What is the difference between this and `df.info()`?"
   ]
  },
  {
   "cell_type": "code",
   "execution_count": 9,
   "metadata": {
    "editable": true,
    "slideshow": {
     "slide_type": ""
    },
    "tags": []
   },
   "outputs": [
    {
     "data": {
      "text/html": [
       "<div>\n",
       "<style scoped>\n",
       "    .dataframe tbody tr th:only-of-type {\n",
       "        vertical-align: middle;\n",
       "    }\n",
       "\n",
       "    .dataframe tbody tr th {\n",
       "        vertical-align: top;\n",
       "    }\n",
       "\n",
       "    .dataframe thead th {\n",
       "        text-align: right;\n",
       "    }\n",
       "</style>\n",
       "<table border=\"1\" class=\"dataframe\">\n",
       "  <thead>\n",
       "    <tr style=\"text-align: right;\">\n",
       "      <th></th>\n",
       "      <th>Number</th>\n",
       "      <th>Parent (SMC)</th>\n",
       "      <th>Metres</th>\n",
       "      <th>Feet</th>\n",
       "      <th>Drop</th>\n",
       "      <th>Col height</th>\n",
       "      <th>Climbed</th>\n",
       "      <th>Xcoord</th>\n",
       "      <th>Ycoord</th>\n",
       "      <th>Latitude</th>\n",
       "      <th>...</th>\n",
       "      <th>xG</th>\n",
       "      <th>xN</th>\n",
       "      <th>xDT</th>\n",
       "      <th>Dil</th>\n",
       "      <th>VL</th>\n",
       "      <th>A</th>\n",
       "      <th>Ca</th>\n",
       "      <th>Bin</th>\n",
       "      <th>O</th>\n",
       "      <th>Un</th>\n",
       "    </tr>\n",
       "  </thead>\n",
       "  <tbody>\n",
       "    <tr>\n",
       "      <th>count</th>\n",
       "      <td>21344.000000</td>\n",
       "      <td>390.000000</td>\n",
       "      <td>21344.000000</td>\n",
       "      <td>21344.000000</td>\n",
       "      <td>21344.000000</td>\n",
       "      <td>21344.000000</td>\n",
       "      <td>0.0</td>\n",
       "      <td>21344.000000</td>\n",
       "      <td>2.134400e+04</td>\n",
       "      <td>21344.000000</td>\n",
       "      <td>...</td>\n",
       "      <td>21344.000000</td>\n",
       "      <td>21344.000000</td>\n",
       "      <td>21344.000000</td>\n",
       "      <td>21344.000000</td>\n",
       "      <td>21344.000000</td>\n",
       "      <td>21344.000000</td>\n",
       "      <td>21344.000000</td>\n",
       "      <td>21344.000000</td>\n",
       "      <td>21344.000000</td>\n",
       "      <td>21344.000000</td>\n",
       "    </tr>\n",
       "    <tr>\n",
       "      <th>mean</th>\n",
       "      <td>10680.656719</td>\n",
       "      <td>839.238462</td>\n",
       "      <td>375.623040</td>\n",
       "      <td>1232.354385</td>\n",
       "      <td>73.468286</td>\n",
       "      <td>302.155109</td>\n",
       "      <td>NaN</td>\n",
       "      <td>273086.472639</td>\n",
       "      <td>5.896848e+05</td>\n",
       "      <td>55.219722</td>\n",
       "      <td>...</td>\n",
       "      <td>0.000141</td>\n",
       "      <td>0.002811</td>\n",
       "      <td>0.001406</td>\n",
       "      <td>0.009933</td>\n",
       "      <td>0.012884</td>\n",
       "      <td>0.019162</td>\n",
       "      <td>0.015742</td>\n",
       "      <td>0.022676</td>\n",
       "      <td>0.002530</td>\n",
       "      <td>0.028205</td>\n",
       "    </tr>\n",
       "    <tr>\n",
       "      <th>std</th>\n",
       "      <td>6174.845381</td>\n",
       "      <td>580.499485</td>\n",
       "      <td>244.429717</td>\n",
       "      <td>801.935090</td>\n",
       "      <td>87.678590</td>\n",
       "      <td>232.770611</td>\n",
       "      <td>NaN</td>\n",
       "      <td>94444.758174</td>\n",
       "      <td>3.201197e+05</td>\n",
       "      <td>2.405614</td>\n",
       "      <td>...</td>\n",
       "      <td>0.011855</td>\n",
       "      <td>0.052946</td>\n",
       "      <td>0.037465</td>\n",
       "      <td>0.099168</td>\n",
       "      <td>0.112778</td>\n",
       "      <td>0.137098</td>\n",
       "      <td>0.124479</td>\n",
       "      <td>0.148872</td>\n",
       "      <td>0.050236</td>\n",
       "      <td>0.165561</td>\n",
       "    </tr>\n",
       "    <tr>\n",
       "      <th>min</th>\n",
       "      <td>1.000000</td>\n",
       "      <td>27.000000</td>\n",
       "      <td>2.000000</td>\n",
       "      <td>7.000000</td>\n",
       "      <td>0.000000</td>\n",
       "      <td>0.000000</td>\n",
       "      <td>NaN</td>\n",
       "      <td>5900.000000</td>\n",
       "      <td>8.339000e+03</td>\n",
       "      <td>49.166550</td>\n",
       "      <td>...</td>\n",
       "      <td>0.000000</td>\n",
       "      <td>0.000000</td>\n",
       "      <td>0.000000</td>\n",
       "      <td>0.000000</td>\n",
       "      <td>0.000000</td>\n",
       "      <td>0.000000</td>\n",
       "      <td>0.000000</td>\n",
       "      <td>0.000000</td>\n",
       "      <td>0.000000</td>\n",
       "      <td>0.000000</td>\n",
       "    </tr>\n",
       "    <tr>\n",
       "      <th>25%</th>\n",
       "      <td>5336.750000</td>\n",
       "      <td>422.000000</td>\n",
       "      <td>176.000000</td>\n",
       "      <td>577.000000</td>\n",
       "      <td>33.000000</td>\n",
       "      <td>113.000000</td>\n",
       "      <td>NaN</td>\n",
       "      <td>208968.250000</td>\n",
       "      <td>3.302152e+05</td>\n",
       "      <td>53.018062</td>\n",
       "      <td>...</td>\n",
       "      <td>0.000000</td>\n",
       "      <td>0.000000</td>\n",
       "      <td>0.000000</td>\n",
       "      <td>0.000000</td>\n",
       "      <td>0.000000</td>\n",
       "      <td>0.000000</td>\n",
       "      <td>0.000000</td>\n",
       "      <td>0.000000</td>\n",
       "      <td>0.000000</td>\n",
       "      <td>0.000000</td>\n",
       "    </tr>\n",
       "    <tr>\n",
       "      <th>50%</th>\n",
       "      <td>10672.500000</td>\n",
       "      <td>683.500000</td>\n",
       "      <td>333.000000</td>\n",
       "      <td>1093.000000</td>\n",
       "      <td>45.000000</td>\n",
       "      <td>253.700000</td>\n",
       "      <td>NaN</td>\n",
       "      <td>272791.500000</td>\n",
       "      <td>6.420120e+05</td>\n",
       "      <td>55.641663</td>\n",
       "      <td>...</td>\n",
       "      <td>0.000000</td>\n",
       "      <td>0.000000</td>\n",
       "      <td>0.000000</td>\n",
       "      <td>0.000000</td>\n",
       "      <td>0.000000</td>\n",
       "      <td>0.000000</td>\n",
       "      <td>0.000000</td>\n",
       "      <td>0.000000</td>\n",
       "      <td>0.000000</td>\n",
       "      <td>0.000000</td>\n",
       "    </tr>\n",
       "    <tr>\n",
       "      <th>75%</th>\n",
       "      <td>16008.250000</td>\n",
       "      <td>1088.000000</td>\n",
       "      <td>529.000000</td>\n",
       "      <td>1736.000000</td>\n",
       "      <td>78.000000</td>\n",
       "      <td>454.000000</td>\n",
       "      <td>NaN</td>\n",
       "      <td>329510.000000</td>\n",
       "      <td>8.073245e+05</td>\n",
       "      <td>57.124151</td>\n",
       "      <td>...</td>\n",
       "      <td>0.000000</td>\n",
       "      <td>0.000000</td>\n",
       "      <td>0.000000</td>\n",
       "      <td>0.000000</td>\n",
       "      <td>0.000000</td>\n",
       "      <td>0.000000</td>\n",
       "      <td>0.000000</td>\n",
       "      <td>0.000000</td>\n",
       "      <td>0.000000</td>\n",
       "      <td>0.000000</td>\n",
       "    </tr>\n",
       "    <tr>\n",
       "      <th>max</th>\n",
       "      <td>21463.000000</td>\n",
       "      <td>2925.000000</td>\n",
       "      <td>1344.530000</td>\n",
       "      <td>4411.000000</td>\n",
       "      <td>1344.500000</td>\n",
       "      <td>1276.000000</td>\n",
       "      <td>NaN</td>\n",
       "      <td>653963.000000</td>\n",
       "      <td>5.508520e+06</td>\n",
       "      <td>60.855577</td>\n",
       "      <td>...</td>\n",
       "      <td>1.000000</td>\n",
       "      <td>1.000000</td>\n",
       "      <td>1.000000</td>\n",
       "      <td>1.000000</td>\n",
       "      <td>1.000000</td>\n",
       "      <td>1.000000</td>\n",
       "      <td>1.000000</td>\n",
       "      <td>1.000000</td>\n",
       "      <td>1.000000</td>\n",
       "      <td>1.000000</td>\n",
       "    </tr>\n",
       "  </tbody>\n",
       "</table>\n",
       "<p>8 rows × 79 columns</p>\n",
       "</div>"
      ],
      "text/plain": [
       "             Number  Parent (SMC)        Metres          Feet          Drop  \\\n",
       "count  21344.000000    390.000000  21344.000000  21344.000000  21344.000000   \n",
       "mean   10680.656719    839.238462    375.623040   1232.354385     73.468286   \n",
       "std     6174.845381    580.499485    244.429717    801.935090     87.678590   \n",
       "min        1.000000     27.000000      2.000000      7.000000      0.000000   \n",
       "25%     5336.750000    422.000000    176.000000    577.000000     33.000000   \n",
       "50%    10672.500000    683.500000    333.000000   1093.000000     45.000000   \n",
       "75%    16008.250000   1088.000000    529.000000   1736.000000     78.000000   \n",
       "max    21463.000000   2925.000000   1344.530000   4411.000000   1344.500000   \n",
       "\n",
       "         Col height  Climbed         Xcoord        Ycoord      Latitude  ...  \\\n",
       "count  21344.000000      0.0   21344.000000  2.134400e+04  21344.000000  ...   \n",
       "mean     302.155109      NaN  273086.472639  5.896848e+05     55.219722  ...   \n",
       "std      232.770611      NaN   94444.758174  3.201197e+05      2.405614  ...   \n",
       "min        0.000000      NaN    5900.000000  8.339000e+03     49.166550  ...   \n",
       "25%      113.000000      NaN  208968.250000  3.302152e+05     53.018062  ...   \n",
       "50%      253.700000      NaN  272791.500000  6.420120e+05     55.641663  ...   \n",
       "75%      454.000000      NaN  329510.000000  8.073245e+05     57.124151  ...   \n",
       "max     1276.000000      NaN  653963.000000  5.508520e+06     60.855577  ...   \n",
       "\n",
       "                 xG            xN           xDT           Dil            VL  \\\n",
       "count  21344.000000  21344.000000  21344.000000  21344.000000  21344.000000   \n",
       "mean       0.000141      0.002811      0.001406      0.009933      0.012884   \n",
       "std        0.011855      0.052946      0.037465      0.099168      0.112778   \n",
       "min        0.000000      0.000000      0.000000      0.000000      0.000000   \n",
       "25%        0.000000      0.000000      0.000000      0.000000      0.000000   \n",
       "50%        0.000000      0.000000      0.000000      0.000000      0.000000   \n",
       "75%        0.000000      0.000000      0.000000      0.000000      0.000000   \n",
       "max        1.000000      1.000000      1.000000      1.000000      1.000000   \n",
       "\n",
       "                  A            Ca           Bin             O            Un  \n",
       "count  21344.000000  21344.000000  21344.000000  21344.000000  21344.000000  \n",
       "mean       0.019162      0.015742      0.022676      0.002530      0.028205  \n",
       "std        0.137098      0.124479      0.148872      0.050236      0.165561  \n",
       "min        0.000000      0.000000      0.000000      0.000000      0.000000  \n",
       "25%        0.000000      0.000000      0.000000      0.000000      0.000000  \n",
       "50%        0.000000      0.000000      0.000000      0.000000      0.000000  \n",
       "75%        0.000000      0.000000      0.000000      0.000000      0.000000  \n",
       "max        1.000000      1.000000      1.000000      1.000000      1.000000  \n",
       "\n",
       "[8 rows x 79 columns]"
      ]
     },
     "execution_count": 9,
     "metadata": {},
     "output_type": "execute_result"
    }
   ],
   "source": [
    "# df.describe() provides column-wise statistics about the DataFrame\n",
    "# df.info() provides information about the DataFrame itself, rather than the columns\n",
    "\n",
    "df.describe()"
   ]
  },
  {
   "cell_type": "markdown",
   "metadata": {
    "editable": true,
    "slideshow": {
     "slide_type": ""
    },
    "tags": []
   },
   "source": [
    "* Print the names of the columns of your data set.\n",
    "* Extra: How can we turn this into a list, just using Pandas?"
   ]
  },
  {
   "cell_type": "code",
   "execution_count": 10,
   "metadata": {
    "editable": true,
    "slideshow": {
     "slide_type": ""
    },
    "tags": []
   },
   "outputs": [
    {
     "data": {
      "text/plain": [
       "Index(['Number', 'Name', 'Parent (SMC)', 'Parent name (SMC)', 'Section',\n",
       "       'Region', 'Area', 'Island', 'Topo Section', 'County',\n",
       "       ...\n",
       "       'xG', 'xN', 'xDT', 'Dil', 'VL', 'A', 'Ca', 'Bin', 'O', 'Un'],\n",
       "      dtype='object', length=105)"
      ]
     },
     "execution_count": 10,
     "metadata": {},
     "output_type": "execute_result"
    }
   ],
   "source": [
    "df.columns"
   ]
  },
  {
   "cell_type": "code",
   "execution_count": 11,
   "metadata": {
    "editable": true,
    "slideshow": {
     "slide_type": ""
    },
    "tags": []
   },
   "outputs": [
    {
     "data": {
      "text/plain": [
       "['Number',\n",
       " 'Name',\n",
       " 'Parent (SMC)',\n",
       " 'Parent name (SMC)',\n",
       " 'Section',\n",
       " 'Region',\n",
       " 'Area',\n",
       " 'Island',\n",
       " 'Topo Section',\n",
       " 'County',\n",
       " 'Classification',\n",
       " 'Map 1:50k',\n",
       " 'Map 1:25k',\n",
       " 'Metres',\n",
       " 'Feet',\n",
       " 'Grid ref',\n",
       " 'Grid ref 10',\n",
       " 'Drop',\n",
       " 'Col grid ref',\n",
       " 'Col height',\n",
       " 'Feature',\n",
       " 'Observations',\n",
       " 'Survey',\n",
       " 'Climbed',\n",
       " 'Country',\n",
       " 'County Top',\n",
       " 'Revision',\n",
       " 'Comments',\n",
       " 'Streetmap/MountainViews',\n",
       " 'Geograph',\n",
       " 'Hill-bagging',\n",
       " 'Xcoord',\n",
       " 'Ycoord',\n",
       " 'Latitude',\n",
       " 'Longitude',\n",
       " 'GridrefXY',\n",
       " '_Section',\n",
       " 'Parent (Ma)',\n",
       " 'Parent name (Ma)',\n",
       " 'MVNumber',\n",
       " 'Ma',\n",
       " 'Ma=',\n",
       " 'Hu',\n",
       " 'Hu=',\n",
       " 'Tu',\n",
       " 'Sim',\n",
       " '5',\n",
       " 'M',\n",
       " 'MT',\n",
       " 'F',\n",
       " 'C',\n",
       " 'G',\n",
       " 'D',\n",
       " 'DT',\n",
       " 'Hew',\n",
       " 'N',\n",
       " 'Dew',\n",
       " 'DDew',\n",
       " 'HF',\n",
       " '4',\n",
       " '3',\n",
       " '2',\n",
       " '1',\n",
       " '0',\n",
       " 'W',\n",
       " 'WO',\n",
       " 'B',\n",
       " 'E',\n",
       " 'HHB',\n",
       " 'Sy',\n",
       " 'Fel',\n",
       " 'CoH',\n",
       " 'CoH=',\n",
       " 'CoU',\n",
       " 'CoU=',\n",
       " 'CoA',\n",
       " 'CoA=',\n",
       " 'CoL',\n",
       " 'CoL=',\n",
       " 'SIB',\n",
       " 'sMa',\n",
       " 'sHu',\n",
       " 'sSim',\n",
       " 's5',\n",
       " 's4',\n",
       " 'Mur',\n",
       " 'CT',\n",
       " 'GT',\n",
       " 'BL',\n",
       " 'Bg',\n",
       " 'Y',\n",
       " 'Cm',\n",
       " 'T100',\n",
       " 'xMT',\n",
       " 'xC',\n",
       " 'xG',\n",
       " 'xN',\n",
       " 'xDT',\n",
       " 'Dil',\n",
       " 'VL',\n",
       " 'A',\n",
       " 'Ca',\n",
       " 'Bin',\n",
       " 'O',\n",
       " 'Un']"
      ]
     },
     "execution_count": 11,
     "metadata": {},
     "output_type": "execute_result"
    }
   ],
   "source": [
    "df.columns.to_list()"
   ]
  },
  {
   "cell_type": "markdown",
   "metadata": {
    "editable": true,
    "slideshow": {
     "slide_type": ""
    },
    "tags": []
   },
   "source": [
    "* What is the other axis of a DataFrame? Print these values."
   ]
  },
  {
   "cell_type": "code",
   "execution_count": 12,
   "metadata": {
    "editable": true,
    "slideshow": {
     "slide_type": ""
    },
    "tags": []
   },
   "outputs": [
    {
     "data": {
      "text/plain": [
       "RangeIndex(start=0, stop=21344, step=1)"
      ]
     },
     "execution_count": 12,
     "metadata": {},
     "output_type": "execute_result"
    }
   ],
   "source": [
    "# The other dimension of a DataFrame is the index. In this case, this is a range index: an int for every row\n",
    "\n",
    "df.index"
   ]
  },
  {
   "cell_type": "markdown",
   "metadata": {
    "editable": true,
    "slideshow": {
     "slide_type": ""
    },
    "tags": []
   },
   "source": [
    "* Use the `df.shape()` method to get information about the shape of your DataFrame. What does this output mean? What is the data type returned?\n",
    "* How can we access these values directly?"
   ]
  },
  {
   "cell_type": "code",
   "execution_count": 13,
   "metadata": {
    "editable": true,
    "slideshow": {
     "slide_type": ""
    },
    "tags": []
   },
   "outputs": [
    {
     "data": {
      "text/plain": [
       "(21344, 105)"
      ]
     },
     "execution_count": 13,
     "metadata": {},
     "output_type": "execute_result"
    }
   ],
   "source": [
    "# 1. This shows us the number of rows in our DataFrame, and the number of columns.\n",
    "# 2. A tuple of ints is returned by df.shape\n",
    "\n",
    "df.shape"
   ]
  },
  {
   "cell_type": "code",
   "execution_count": 14,
   "metadata": {
    "editable": true,
    "slideshow": {
     "slide_type": ""
    },
    "tags": []
   },
   "outputs": [],
   "source": [
    "# 3. We can access the values using regular indexing: df.shape[0]\n",
    "# 3a. We can also get the row number using the len() function\n",
    "\n",
    "max_rows = df.shape[0]\n",
    "max_rows_2 = len(df)\n",
    "\n",
    "assert max_rows == max_rows_2"
   ]
  },
  {
   "cell_type": "markdown",
   "metadata": {
    "editable": true,
    "slideshow": {
     "slide_type": ""
    },
    "tags": []
   },
   "source": [
    "* Read about the `df.head()` and `df.tail()` methods in the Pandas documentation. What do they do?\n",
    "* Use these methods with `n=10` on your DataFrame. What is `n`?\n",
    "* In separate cells, try different values of `n`."
   ]
  },
  {
   "cell_type": "code",
   "execution_count": 15,
   "metadata": {
    "editable": true,
    "slideshow": {
     "slide_type": ""
    },
    "tags": []
   },
   "outputs": [
    {
     "data": {
      "text/html": [
       "<div>\n",
       "<style scoped>\n",
       "    .dataframe tbody tr th:only-of-type {\n",
       "        vertical-align: middle;\n",
       "    }\n",
       "\n",
       "    .dataframe tbody tr th {\n",
       "        vertical-align: top;\n",
       "    }\n",
       "\n",
       "    .dataframe thead th {\n",
       "        text-align: right;\n",
       "    }\n",
       "</style>\n",
       "<table border=\"1\" class=\"dataframe\">\n",
       "  <thead>\n",
       "    <tr style=\"text-align: right;\">\n",
       "      <th></th>\n",
       "      <th>Number</th>\n",
       "      <th>Name</th>\n",
       "      <th>Parent (SMC)</th>\n",
       "      <th>Parent name (SMC)</th>\n",
       "      <th>Section</th>\n",
       "      <th>Region</th>\n",
       "      <th>Area</th>\n",
       "      <th>Island</th>\n",
       "      <th>Topo Section</th>\n",
       "      <th>County</th>\n",
       "      <th>...</th>\n",
       "      <th>xG</th>\n",
       "      <th>xN</th>\n",
       "      <th>xDT</th>\n",
       "      <th>Dil</th>\n",
       "      <th>VL</th>\n",
       "      <th>A</th>\n",
       "      <th>Ca</th>\n",
       "      <th>Bin</th>\n",
       "      <th>O</th>\n",
       "      <th>Un</th>\n",
       "    </tr>\n",
       "  </thead>\n",
       "  <tbody>\n",
       "    <tr>\n",
       "      <th>0</th>\n",
       "      <td>1</td>\n",
       "      <td>Ben Chonzie</td>\n",
       "      <td>NaN</td>\n",
       "      <td>NaN</td>\n",
       "      <td>01A</td>\n",
       "      <td>01A: Loch Tay to Perth</td>\n",
       "      <td>NaN</td>\n",
       "      <td>NaN</td>\n",
       "      <td>N04:Lochearnhead to Strath Tay</td>\n",
       "      <td>Perth and Kinross</td>\n",
       "      <td>...</td>\n",
       "      <td>0</td>\n",
       "      <td>0</td>\n",
       "      <td>0</td>\n",
       "      <td>0</td>\n",
       "      <td>0</td>\n",
       "      <td>0</td>\n",
       "      <td>0</td>\n",
       "      <td>0</td>\n",
       "      <td>0</td>\n",
       "      <td>0</td>\n",
       "    </tr>\n",
       "    <tr>\n",
       "      <th>1</th>\n",
       "      <td>2</td>\n",
       "      <td>Creagan na Beinne</td>\n",
       "      <td>NaN</td>\n",
       "      <td>NaN</td>\n",
       "      <td>01A</td>\n",
       "      <td>01A: Loch Tay to Perth</td>\n",
       "      <td>NaN</td>\n",
       "      <td>NaN</td>\n",
       "      <td>N04:Lochearnhead to Strath Tay</td>\n",
       "      <td>Perth and Kinross</td>\n",
       "      <td>...</td>\n",
       "      <td>0</td>\n",
       "      <td>0</td>\n",
       "      <td>0</td>\n",
       "      <td>0</td>\n",
       "      <td>0</td>\n",
       "      <td>0</td>\n",
       "      <td>0</td>\n",
       "      <td>0</td>\n",
       "      <td>0</td>\n",
       "      <td>0</td>\n",
       "    </tr>\n",
       "    <tr>\n",
       "      <th>2</th>\n",
       "      <td>3</td>\n",
       "      <td>Creag Uchdag</td>\n",
       "      <td>NaN</td>\n",
       "      <td>NaN</td>\n",
       "      <td>01A</td>\n",
       "      <td>01A: Loch Tay to Perth</td>\n",
       "      <td>NaN</td>\n",
       "      <td>NaN</td>\n",
       "      <td>N04:Lochearnhead to Strath Tay</td>\n",
       "      <td>Perth and Kinross/Stirling</td>\n",
       "      <td>...</td>\n",
       "      <td>0</td>\n",
       "      <td>0</td>\n",
       "      <td>0</td>\n",
       "      <td>0</td>\n",
       "      <td>0</td>\n",
       "      <td>0</td>\n",
       "      <td>0</td>\n",
       "      <td>0</td>\n",
       "      <td>0</td>\n",
       "      <td>0</td>\n",
       "    </tr>\n",
       "    <tr>\n",
       "      <th>3</th>\n",
       "      <td>4</td>\n",
       "      <td>Auchnafree Hill</td>\n",
       "      <td>NaN</td>\n",
       "      <td>NaN</td>\n",
       "      <td>01A</td>\n",
       "      <td>01A: Loch Tay to Perth</td>\n",
       "      <td>NaN</td>\n",
       "      <td>NaN</td>\n",
       "      <td>N04:Lochearnhead to Strath Tay</td>\n",
       "      <td>Perth and Kinross</td>\n",
       "      <td>...</td>\n",
       "      <td>0</td>\n",
       "      <td>0</td>\n",
       "      <td>0</td>\n",
       "      <td>0</td>\n",
       "      <td>0</td>\n",
       "      <td>0</td>\n",
       "      <td>0</td>\n",
       "      <td>0</td>\n",
       "      <td>0</td>\n",
       "      <td>0</td>\n",
       "    </tr>\n",
       "    <tr>\n",
       "      <th>4</th>\n",
       "      <td>5</td>\n",
       "      <td>Shee of Ardtalnaig [Ciste Buide a' Claidheimh]</td>\n",
       "      <td>NaN</td>\n",
       "      <td>NaN</td>\n",
       "      <td>01A</td>\n",
       "      <td>01A: Loch Tay to Perth</td>\n",
       "      <td>NaN</td>\n",
       "      <td>NaN</td>\n",
       "      <td>N04:Lochearnhead to Strath Tay</td>\n",
       "      <td>Perth and Kinross</td>\n",
       "      <td>...</td>\n",
       "      <td>0</td>\n",
       "      <td>0</td>\n",
       "      <td>0</td>\n",
       "      <td>0</td>\n",
       "      <td>0</td>\n",
       "      <td>0</td>\n",
       "      <td>0</td>\n",
       "      <td>0</td>\n",
       "      <td>0</td>\n",
       "      <td>0</td>\n",
       "    </tr>\n",
       "  </tbody>\n",
       "</table>\n",
       "<p>5 rows × 105 columns</p>\n",
       "</div>"
      ],
      "text/plain": [
       "   Number                                            Name  Parent (SMC)  \\\n",
       "0       1                                     Ben Chonzie           NaN   \n",
       "1       2                               Creagan na Beinne           NaN   \n",
       "2       3                                    Creag Uchdag           NaN   \n",
       "3       4                                 Auchnafree Hill           NaN   \n",
       "4       5  Shee of Ardtalnaig [Ciste Buide a' Claidheimh]           NaN   \n",
       "\n",
       "  Parent name (SMC) Section                  Region Area Island  \\\n",
       "0               NaN     01A  01A: Loch Tay to Perth  NaN    NaN   \n",
       "1               NaN     01A  01A: Loch Tay to Perth  NaN    NaN   \n",
       "2               NaN     01A  01A: Loch Tay to Perth  NaN    NaN   \n",
       "3               NaN     01A  01A: Loch Tay to Perth  NaN    NaN   \n",
       "4               NaN     01A  01A: Loch Tay to Perth  NaN    NaN   \n",
       "\n",
       "                     Topo Section                      County  ... xG xN xDT  \\\n",
       "0  N04:Lochearnhead to Strath Tay           Perth and Kinross  ...  0  0   0   \n",
       "1  N04:Lochearnhead to Strath Tay           Perth and Kinross  ...  0  0   0   \n",
       "2  N04:Lochearnhead to Strath Tay  Perth and Kinross/Stirling  ...  0  0   0   \n",
       "3  N04:Lochearnhead to Strath Tay           Perth and Kinross  ...  0  0   0   \n",
       "4  N04:Lochearnhead to Strath Tay           Perth and Kinross  ...  0  0   0   \n",
       "\n",
       "   Dil  VL  A Ca  Bin  O  Un  \n",
       "0    0   0  0  0    0  0   0  \n",
       "1    0   0  0  0    0  0   0  \n",
       "2    0   0  0  0    0  0   0  \n",
       "3    0   0  0  0    0  0   0  \n",
       "4    0   0  0  0    0  0   0  \n",
       "\n",
       "[5 rows x 105 columns]"
      ]
     },
     "execution_count": 15,
     "metadata": {},
     "output_type": "execute_result"
    }
   ],
   "source": [
    "# Calling df.head() with no n parameter displays the first 5 rows of the DataFrame, as well as the column names/index\n",
    "\n",
    "df.head()"
   ]
  },
  {
   "cell_type": "code",
   "execution_count": 16,
   "metadata": {
    "editable": true,
    "slideshow": {
     "slide_type": ""
    },
    "tags": []
   },
   "outputs": [
    {
     "data": {
      "text/html": [
       "<div>\n",
       "<style scoped>\n",
       "    .dataframe tbody tr th:only-of-type {\n",
       "        vertical-align: middle;\n",
       "    }\n",
       "\n",
       "    .dataframe tbody tr th {\n",
       "        vertical-align: top;\n",
       "    }\n",
       "\n",
       "    .dataframe thead th {\n",
       "        text-align: right;\n",
       "    }\n",
       "</style>\n",
       "<table border=\"1\" class=\"dataframe\">\n",
       "  <thead>\n",
       "    <tr style=\"text-align: right;\">\n",
       "      <th></th>\n",
       "      <th>Number</th>\n",
       "      <th>Name</th>\n",
       "      <th>Parent (SMC)</th>\n",
       "      <th>Parent name (SMC)</th>\n",
       "      <th>Section</th>\n",
       "      <th>Region</th>\n",
       "      <th>Area</th>\n",
       "      <th>Island</th>\n",
       "      <th>Topo Section</th>\n",
       "      <th>County</th>\n",
       "      <th>...</th>\n",
       "      <th>xG</th>\n",
       "      <th>xN</th>\n",
       "      <th>xDT</th>\n",
       "      <th>Dil</th>\n",
       "      <th>VL</th>\n",
       "      <th>A</th>\n",
       "      <th>Ca</th>\n",
       "      <th>Bin</th>\n",
       "      <th>O</th>\n",
       "      <th>Un</th>\n",
       "    </tr>\n",
       "  </thead>\n",
       "  <tbody>\n",
       "    <tr>\n",
       "      <th>21339</th>\n",
       "      <td>21459</td>\n",
       "      <td>Bencorr North Top [Binn an tSaighdiura]</td>\n",
       "      <td>NaN</td>\n",
       "      <td>NaN</td>\n",
       "      <td>47B</td>\n",
       "      <td>47B: The Twelve Bens</td>\n",
       "      <td>Twelve Bens</td>\n",
       "      <td>NaN</td>\n",
       "      <td>NaN</td>\n",
       "      <td>Galway</td>\n",
       "      <td>...</td>\n",
       "      <td>0</td>\n",
       "      <td>0</td>\n",
       "      <td>0</td>\n",
       "      <td>0</td>\n",
       "      <td>0</td>\n",
       "      <td>0</td>\n",
       "      <td>0</td>\n",
       "      <td>0</td>\n",
       "      <td>0</td>\n",
       "      <td>0</td>\n",
       "    </tr>\n",
       "    <tr>\n",
       "      <th>21340</th>\n",
       "      <td>21460</td>\n",
       "      <td>Scrabo Hill</td>\n",
       "      <td>NaN</td>\n",
       "      <td>NaN</td>\n",
       "      <td>43B</td>\n",
       "      <td>43B: Mourne Mountains</td>\n",
       "      <td>Belfast Hills</td>\n",
       "      <td>NaN</td>\n",
       "      <td>NaN</td>\n",
       "      <td>North Down and Ards</td>\n",
       "      <td>...</td>\n",
       "      <td>0</td>\n",
       "      <td>0</td>\n",
       "      <td>0</td>\n",
       "      <td>0</td>\n",
       "      <td>0</td>\n",
       "      <td>0</td>\n",
       "      <td>0</td>\n",
       "      <td>0</td>\n",
       "      <td>0</td>\n",
       "      <td>0</td>\n",
       "    </tr>\n",
       "    <tr>\n",
       "      <th>21341</th>\n",
       "      <td>21461</td>\n",
       "      <td>Derryreel</td>\n",
       "      <td>NaN</td>\n",
       "      <td>NaN</td>\n",
       "      <td>45B</td>\n",
       "      <td>45B: Derryveagh, Glendowan</td>\n",
       "      <td>Donegal NW</td>\n",
       "      <td>NaN</td>\n",
       "      <td>NaN</td>\n",
       "      <td>Donegal</td>\n",
       "      <td>...</td>\n",
       "      <td>0</td>\n",
       "      <td>0</td>\n",
       "      <td>0</td>\n",
       "      <td>0</td>\n",
       "      <td>0</td>\n",
       "      <td>0</td>\n",
       "      <td>0</td>\n",
       "      <td>0</td>\n",
       "      <td>0</td>\n",
       "      <td>0</td>\n",
       "    </tr>\n",
       "    <tr>\n",
       "      <th>21342</th>\n",
       "      <td>21462</td>\n",
       "      <td>Great Island</td>\n",
       "      <td>NaN</td>\n",
       "      <td>NaN</td>\n",
       "      <td>54A</td>\n",
       "      <td>54A: Knockmealdown, Comeragh and Monavullagh M...</td>\n",
       "      <td>South Cork</td>\n",
       "      <td>NaN</td>\n",
       "      <td>NaN</td>\n",
       "      <td>Cork</td>\n",
       "      <td>...</td>\n",
       "      <td>0</td>\n",
       "      <td>0</td>\n",
       "      <td>0</td>\n",
       "      <td>0</td>\n",
       "      <td>0</td>\n",
       "      <td>0</td>\n",
       "      <td>0</td>\n",
       "      <td>0</td>\n",
       "      <td>0</td>\n",
       "      <td>0</td>\n",
       "    </tr>\n",
       "    <tr>\n",
       "      <th>21343</th>\n",
       "      <td>21463</td>\n",
       "      <td>Kealanine</td>\n",
       "      <td>NaN</td>\n",
       "      <td>NaN</td>\n",
       "      <td>52B</td>\n",
       "      <td>52B: South Cork</td>\n",
       "      <td>Shehy/Knockboy</td>\n",
       "      <td>NaN</td>\n",
       "      <td>NaN</td>\n",
       "      <td>Cork</td>\n",
       "      <td>...</td>\n",
       "      <td>0</td>\n",
       "      <td>0</td>\n",
       "      <td>0</td>\n",
       "      <td>0</td>\n",
       "      <td>0</td>\n",
       "      <td>0</td>\n",
       "      <td>0</td>\n",
       "      <td>0</td>\n",
       "      <td>0</td>\n",
       "      <td>0</td>\n",
       "    </tr>\n",
       "  </tbody>\n",
       "</table>\n",
       "<p>5 rows × 105 columns</p>\n",
       "</div>"
      ],
      "text/plain": [
       "       Number                                     Name  Parent (SMC)  \\\n",
       "21339   21459  Bencorr North Top [Binn an tSaighdiura]           NaN   \n",
       "21340   21460                              Scrabo Hill           NaN   \n",
       "21341   21461                                Derryreel           NaN   \n",
       "21342   21462                             Great Island           NaN   \n",
       "21343   21463                                Kealanine           NaN   \n",
       "\n",
       "      Parent name (SMC) Section  \\\n",
       "21339               NaN     47B   \n",
       "21340               NaN     43B   \n",
       "21341               NaN     45B   \n",
       "21342               NaN     54A   \n",
       "21343               NaN     52B   \n",
       "\n",
       "                                                  Region            Area  \\\n",
       "21339                               47B: The Twelve Bens     Twelve Bens   \n",
       "21340                              43B: Mourne Mountains   Belfast Hills   \n",
       "21341                         45B: Derryveagh, Glendowan      Donegal NW   \n",
       "21342  54A: Knockmealdown, Comeragh and Monavullagh M...      South Cork   \n",
       "21343                                    52B: South Cork  Shehy/Knockboy   \n",
       "\n",
       "      Island Topo Section               County  ... xG xN xDT  Dil  VL  A Ca  \\\n",
       "21339    NaN          NaN               Galway  ...  0  0   0    0   0  0  0   \n",
       "21340    NaN          NaN  North Down and Ards  ...  0  0   0    0   0  0  0   \n",
       "21341    NaN          NaN              Donegal  ...  0  0   0    0   0  0  0   \n",
       "21342    NaN          NaN                 Cork  ...  0  0   0    0   0  0  0   \n",
       "21343    NaN          NaN                 Cork  ...  0  0   0    0   0  0  0   \n",
       "\n",
       "       Bin  O  Un  \n",
       "21339    0  0   0  \n",
       "21340    0  0   0  \n",
       "21341    0  0   0  \n",
       "21342    0  0   0  \n",
       "21343    0  0   0  \n",
       "\n",
       "[5 rows x 105 columns]"
      ]
     },
     "execution_count": 16,
     "metadata": {},
     "output_type": "execute_result"
    }
   ],
   "source": [
    "# df.tail() does the same for the last 5 rows\n",
    "\n",
    "df.tail()"
   ]
  },
  {
   "cell_type": "code",
   "execution_count": 17,
   "metadata": {
    "editable": true,
    "slideshow": {
     "slide_type": ""
    },
    "tags": []
   },
   "outputs": [
    {
     "data": {
      "text/html": [
       "<div>\n",
       "<style scoped>\n",
       "    .dataframe tbody tr th:only-of-type {\n",
       "        vertical-align: middle;\n",
       "    }\n",
       "\n",
       "    .dataframe tbody tr th {\n",
       "        vertical-align: top;\n",
       "    }\n",
       "\n",
       "    .dataframe thead th {\n",
       "        text-align: right;\n",
       "    }\n",
       "</style>\n",
       "<table border=\"1\" class=\"dataframe\">\n",
       "  <thead>\n",
       "    <tr style=\"text-align: right;\">\n",
       "      <th></th>\n",
       "      <th>Number</th>\n",
       "      <th>Name</th>\n",
       "      <th>Parent (SMC)</th>\n",
       "      <th>Parent name (SMC)</th>\n",
       "      <th>Section</th>\n",
       "      <th>Region</th>\n",
       "      <th>Area</th>\n",
       "      <th>Island</th>\n",
       "      <th>Topo Section</th>\n",
       "      <th>County</th>\n",
       "      <th>...</th>\n",
       "      <th>xG</th>\n",
       "      <th>xN</th>\n",
       "      <th>xDT</th>\n",
       "      <th>Dil</th>\n",
       "      <th>VL</th>\n",
       "      <th>A</th>\n",
       "      <th>Ca</th>\n",
       "      <th>Bin</th>\n",
       "      <th>O</th>\n",
       "      <th>Un</th>\n",
       "    </tr>\n",
       "  </thead>\n",
       "  <tbody>\n",
       "    <tr>\n",
       "      <th>0</th>\n",
       "      <td>1</td>\n",
       "      <td>Ben Chonzie</td>\n",
       "      <td>NaN</td>\n",
       "      <td>NaN</td>\n",
       "      <td>01A</td>\n",
       "      <td>01A: Loch Tay to Perth</td>\n",
       "      <td>NaN</td>\n",
       "      <td>NaN</td>\n",
       "      <td>N04:Lochearnhead to Strath Tay</td>\n",
       "      <td>Perth and Kinross</td>\n",
       "      <td>...</td>\n",
       "      <td>0</td>\n",
       "      <td>0</td>\n",
       "      <td>0</td>\n",
       "      <td>0</td>\n",
       "      <td>0</td>\n",
       "      <td>0</td>\n",
       "      <td>0</td>\n",
       "      <td>0</td>\n",
       "      <td>0</td>\n",
       "      <td>0</td>\n",
       "    </tr>\n",
       "    <tr>\n",
       "      <th>1</th>\n",
       "      <td>2</td>\n",
       "      <td>Creagan na Beinne</td>\n",
       "      <td>NaN</td>\n",
       "      <td>NaN</td>\n",
       "      <td>01A</td>\n",
       "      <td>01A: Loch Tay to Perth</td>\n",
       "      <td>NaN</td>\n",
       "      <td>NaN</td>\n",
       "      <td>N04:Lochearnhead to Strath Tay</td>\n",
       "      <td>Perth and Kinross</td>\n",
       "      <td>...</td>\n",
       "      <td>0</td>\n",
       "      <td>0</td>\n",
       "      <td>0</td>\n",
       "      <td>0</td>\n",
       "      <td>0</td>\n",
       "      <td>0</td>\n",
       "      <td>0</td>\n",
       "      <td>0</td>\n",
       "      <td>0</td>\n",
       "      <td>0</td>\n",
       "    </tr>\n",
       "    <tr>\n",
       "      <th>2</th>\n",
       "      <td>3</td>\n",
       "      <td>Creag Uchdag</td>\n",
       "      <td>NaN</td>\n",
       "      <td>NaN</td>\n",
       "      <td>01A</td>\n",
       "      <td>01A: Loch Tay to Perth</td>\n",
       "      <td>NaN</td>\n",
       "      <td>NaN</td>\n",
       "      <td>N04:Lochearnhead to Strath Tay</td>\n",
       "      <td>Perth and Kinross/Stirling</td>\n",
       "      <td>...</td>\n",
       "      <td>0</td>\n",
       "      <td>0</td>\n",
       "      <td>0</td>\n",
       "      <td>0</td>\n",
       "      <td>0</td>\n",
       "      <td>0</td>\n",
       "      <td>0</td>\n",
       "      <td>0</td>\n",
       "      <td>0</td>\n",
       "      <td>0</td>\n",
       "    </tr>\n",
       "    <tr>\n",
       "      <th>3</th>\n",
       "      <td>4</td>\n",
       "      <td>Auchnafree Hill</td>\n",
       "      <td>NaN</td>\n",
       "      <td>NaN</td>\n",
       "      <td>01A</td>\n",
       "      <td>01A: Loch Tay to Perth</td>\n",
       "      <td>NaN</td>\n",
       "      <td>NaN</td>\n",
       "      <td>N04:Lochearnhead to Strath Tay</td>\n",
       "      <td>Perth and Kinross</td>\n",
       "      <td>...</td>\n",
       "      <td>0</td>\n",
       "      <td>0</td>\n",
       "      <td>0</td>\n",
       "      <td>0</td>\n",
       "      <td>0</td>\n",
       "      <td>0</td>\n",
       "      <td>0</td>\n",
       "      <td>0</td>\n",
       "      <td>0</td>\n",
       "      <td>0</td>\n",
       "    </tr>\n",
       "    <tr>\n",
       "      <th>4</th>\n",
       "      <td>5</td>\n",
       "      <td>Shee of Ardtalnaig [Ciste Buide a' Claidheimh]</td>\n",
       "      <td>NaN</td>\n",
       "      <td>NaN</td>\n",
       "      <td>01A</td>\n",
       "      <td>01A: Loch Tay to Perth</td>\n",
       "      <td>NaN</td>\n",
       "      <td>NaN</td>\n",
       "      <td>N04:Lochearnhead to Strath Tay</td>\n",
       "      <td>Perth and Kinross</td>\n",
       "      <td>...</td>\n",
       "      <td>0</td>\n",
       "      <td>0</td>\n",
       "      <td>0</td>\n",
       "      <td>0</td>\n",
       "      <td>0</td>\n",
       "      <td>0</td>\n",
       "      <td>0</td>\n",
       "      <td>0</td>\n",
       "      <td>0</td>\n",
       "      <td>0</td>\n",
       "    </tr>\n",
       "    <tr>\n",
       "      <th>5</th>\n",
       "      <td>6</td>\n",
       "      <td>Beinn na Gainimh</td>\n",
       "      <td>NaN</td>\n",
       "      <td>NaN</td>\n",
       "      <td>01A</td>\n",
       "      <td>01A: Loch Tay to Perth</td>\n",
       "      <td>NaN</td>\n",
       "      <td>NaN</td>\n",
       "      <td>N04:Lochearnhead to Strath Tay</td>\n",
       "      <td>Perth and Kinross</td>\n",
       "      <td>...</td>\n",
       "      <td>0</td>\n",
       "      <td>0</td>\n",
       "      <td>0</td>\n",
       "      <td>0</td>\n",
       "      <td>0</td>\n",
       "      <td>0</td>\n",
       "      <td>0</td>\n",
       "      <td>0</td>\n",
       "      <td>0</td>\n",
       "      <td>0</td>\n",
       "    </tr>\n",
       "    <tr>\n",
       "      <th>6</th>\n",
       "      <td>7</td>\n",
       "      <td>Meall Buidhe</td>\n",
       "      <td>NaN</td>\n",
       "      <td>NaN</td>\n",
       "      <td>01A</td>\n",
       "      <td>01A: Loch Tay to Perth</td>\n",
       "      <td>NaN</td>\n",
       "      <td>NaN</td>\n",
       "      <td>N04:Lochearnhead to Strath Tay</td>\n",
       "      <td>Stirling</td>\n",
       "      <td>...</td>\n",
       "      <td>0</td>\n",
       "      <td>0</td>\n",
       "      <td>0</td>\n",
       "      <td>0</td>\n",
       "      <td>0</td>\n",
       "      <td>0</td>\n",
       "      <td>0</td>\n",
       "      <td>0</td>\n",
       "      <td>0</td>\n",
       "      <td>0</td>\n",
       "    </tr>\n",
       "    <tr>\n",
       "      <th>7</th>\n",
       "      <td>8</td>\n",
       "      <td>Creag Ruadh</td>\n",
       "      <td>NaN</td>\n",
       "      <td>NaN</td>\n",
       "      <td>01A</td>\n",
       "      <td>01A: Loch Tay to Perth</td>\n",
       "      <td>NaN</td>\n",
       "      <td>NaN</td>\n",
       "      <td>N04:Lochearnhead to Strath Tay</td>\n",
       "      <td>Perth and Kinross</td>\n",
       "      <td>...</td>\n",
       "      <td>0</td>\n",
       "      <td>0</td>\n",
       "      <td>0</td>\n",
       "      <td>0</td>\n",
       "      <td>0</td>\n",
       "      <td>0</td>\n",
       "      <td>0</td>\n",
       "      <td>0</td>\n",
       "      <td>0</td>\n",
       "      <td>0</td>\n",
       "    </tr>\n",
       "    <tr>\n",
       "      <th>8</th>\n",
       "      <td>9</td>\n",
       "      <td>Meall Dearg</td>\n",
       "      <td>NaN</td>\n",
       "      <td>NaN</td>\n",
       "      <td>01A</td>\n",
       "      <td>01A: Loch Tay to Perth</td>\n",
       "      <td>NaN</td>\n",
       "      <td>NaN</td>\n",
       "      <td>N04:Lochearnhead to Strath Tay</td>\n",
       "      <td>Perth and Kinross</td>\n",
       "      <td>...</td>\n",
       "      <td>0</td>\n",
       "      <td>0</td>\n",
       "      <td>0</td>\n",
       "      <td>0</td>\n",
       "      <td>0</td>\n",
       "      <td>0</td>\n",
       "      <td>0</td>\n",
       "      <td>0</td>\n",
       "      <td>0</td>\n",
       "      <td>0</td>\n",
       "    </tr>\n",
       "    <tr>\n",
       "      <th>9</th>\n",
       "      <td>10</td>\n",
       "      <td>Creag Each</td>\n",
       "      <td>NaN</td>\n",
       "      <td>NaN</td>\n",
       "      <td>01A</td>\n",
       "      <td>01A: Loch Tay to Perth</td>\n",
       "      <td>NaN</td>\n",
       "      <td>NaN</td>\n",
       "      <td>N04:Lochearnhead to Strath Tay</td>\n",
       "      <td>Perth and Kinross</td>\n",
       "      <td>...</td>\n",
       "      <td>0</td>\n",
       "      <td>0</td>\n",
       "      <td>0</td>\n",
       "      <td>0</td>\n",
       "      <td>0</td>\n",
       "      <td>0</td>\n",
       "      <td>0</td>\n",
       "      <td>0</td>\n",
       "      <td>0</td>\n",
       "      <td>0</td>\n",
       "    </tr>\n",
       "  </tbody>\n",
       "</table>\n",
       "<p>10 rows × 105 columns</p>\n",
       "</div>"
      ],
      "text/plain": [
       "   Number                                            Name  Parent (SMC)  \\\n",
       "0       1                                     Ben Chonzie           NaN   \n",
       "1       2                               Creagan na Beinne           NaN   \n",
       "2       3                                    Creag Uchdag           NaN   \n",
       "3       4                                 Auchnafree Hill           NaN   \n",
       "4       5  Shee of Ardtalnaig [Ciste Buide a' Claidheimh]           NaN   \n",
       "5       6                                Beinn na Gainimh           NaN   \n",
       "6       7                                    Meall Buidhe           NaN   \n",
       "7       8                                     Creag Ruadh           NaN   \n",
       "8       9                                     Meall Dearg           NaN   \n",
       "9      10                                      Creag Each           NaN   \n",
       "\n",
       "  Parent name (SMC) Section                  Region Area Island  \\\n",
       "0               NaN     01A  01A: Loch Tay to Perth  NaN    NaN   \n",
       "1               NaN     01A  01A: Loch Tay to Perth  NaN    NaN   \n",
       "2               NaN     01A  01A: Loch Tay to Perth  NaN    NaN   \n",
       "3               NaN     01A  01A: Loch Tay to Perth  NaN    NaN   \n",
       "4               NaN     01A  01A: Loch Tay to Perth  NaN    NaN   \n",
       "5               NaN     01A  01A: Loch Tay to Perth  NaN    NaN   \n",
       "6               NaN     01A  01A: Loch Tay to Perth  NaN    NaN   \n",
       "7               NaN     01A  01A: Loch Tay to Perth  NaN    NaN   \n",
       "8               NaN     01A  01A: Loch Tay to Perth  NaN    NaN   \n",
       "9               NaN     01A  01A: Loch Tay to Perth  NaN    NaN   \n",
       "\n",
       "                     Topo Section                      County  ... xG xN xDT  \\\n",
       "0  N04:Lochearnhead to Strath Tay           Perth and Kinross  ...  0  0   0   \n",
       "1  N04:Lochearnhead to Strath Tay           Perth and Kinross  ...  0  0   0   \n",
       "2  N04:Lochearnhead to Strath Tay  Perth and Kinross/Stirling  ...  0  0   0   \n",
       "3  N04:Lochearnhead to Strath Tay           Perth and Kinross  ...  0  0   0   \n",
       "4  N04:Lochearnhead to Strath Tay           Perth and Kinross  ...  0  0   0   \n",
       "5  N04:Lochearnhead to Strath Tay           Perth and Kinross  ...  0  0   0   \n",
       "6  N04:Lochearnhead to Strath Tay                    Stirling  ...  0  0   0   \n",
       "7  N04:Lochearnhead to Strath Tay           Perth and Kinross  ...  0  0   0   \n",
       "8  N04:Lochearnhead to Strath Tay           Perth and Kinross  ...  0  0   0   \n",
       "9  N04:Lochearnhead to Strath Tay           Perth and Kinross  ...  0  0   0   \n",
       "\n",
       "   Dil  VL  A Ca  Bin  O  Un  \n",
       "0    0   0  0  0    0  0   0  \n",
       "1    0   0  0  0    0  0   0  \n",
       "2    0   0  0  0    0  0   0  \n",
       "3    0   0  0  0    0  0   0  \n",
       "4    0   0  0  0    0  0   0  \n",
       "5    0   0  0  0    0  0   0  \n",
       "6    0   0  0  0    0  0   0  \n",
       "7    0   0  0  0    0  0   0  \n",
       "8    0   0  0  0    0  0   0  \n",
       "9    0   0  0  0    0  0   0  \n",
       "\n",
       "[10 rows x 105 columns]"
      ]
     },
     "execution_count": 17,
     "metadata": {},
     "output_type": "execute_result"
    }
   ],
   "source": [
    "# n is an optional parameter, indicating the number of rows to show\n",
    "\n",
    "df.head(10)"
   ]
  },
  {
   "cell_type": "markdown",
   "metadata": {
    "editable": true,
    "slideshow": {
     "slide_type": ""
    },
    "tags": []
   },
   "source": [
    "* Explore the DataFrame columns. This will look different for each of you. Do not perform any boolean indexing/filtering yet."
   ]
  },
  {
   "cell_type": "code",
   "execution_count": null,
   "metadata": {
    "editable": true,
    "slideshow": {
     "slide_type": ""
    },
    "tags": []
   },
   "outputs": [],
   "source": []
  },
  {
   "cell_type": "markdown",
   "metadata": {
    "editable": true,
    "slideshow": {
     "slide_type": ""
    },
    "tags": []
   },
   "source": [
    "* In the hills data set example:\n",
    "    - Identify the unique countries that the hills belong to in the DataFrame\n",
    "    - Identify the regions of hills in the DataFrame\n",
    "    - Identify the min, max, and mean height of all hills"
   ]
  },
  {
   "cell_type": "code",
   "execution_count": 18,
   "metadata": {
    "editable": true,
    "slideshow": {
     "slide_type": ""
    },
    "tags": []
   },
   "outputs": [
    {
     "name": "stdout",
     "output_type": "stream",
     "text": [
      "The hills are located in 7 unique countries: ['S', 'ES', 'M', 'W', 'E', 'C', 'I']\n",
      "They are found in 139 regions\n"
     ]
    }
   ],
   "source": [
    "# Identify unique countries and regions of hills\n",
    "\n",
    "unique_countries = df[\"Country\"].unique().tolist()\n",
    "hill_regions = df[\"Region\"].unique().tolist()\n",
    "\n",
    "print(f\"The hills are located in {len(unique_countries)} unique countries: {unique_countries}\")\n",
    "print(f\"They are found in {len(hill_regions)} regions\")\n"
   ]
  },
  {
   "cell_type": "markdown",
   "metadata": {
    "editable": true,
    "slideshow": {
     "slide_type": ""
    },
    "tags": []
   },
   "source": [
    "* This is strange: why are there 7 countries in the `Country` column? Lets investigate this later."
   ]
  },
  {
   "cell_type": "code",
   "execution_count": 19,
   "metadata": {
    "editable": true,
    "slideshow": {
     "slide_type": ""
    },
    "tags": []
   },
   "outputs": [
    {
     "name": "stdout",
     "output_type": "stream",
     "text": [
      "The min height is 0.0, the max height is 1276.0, and the mean height is 302.16\n"
     ]
    }
   ],
   "source": [
    "# min, max, and mean height of hills\n",
    "\n",
    "min_height = df[\"Col height\"].min()\n",
    "max_height = df[\"Col height\"].max()\n",
    "mean_height = df[\"Col height\"].mean()\n",
    "\n",
    "print(f\"The min height is {min_height}, the max height is {max_height}, and the mean height is {mean_height:.2f}\")"
   ]
  },
  {
   "cell_type": "markdown",
   "metadata": {
    "editable": true,
    "slideshow": {
     "slide_type": ""
    },
    "tags": []
   },
   "source": [
    "## Step 4: Simplify your DataFrame\n",
    "\n",
    "It is common to drop columns from a DataFrame that are not useful to you.\n",
    "\n",
    "* Drop a column that looks unimportant in your DataFrame. Dont worry, this can be retrieved by reloading the data from the .csv file."
   ]
  },
  {
   "cell_type": "code",
   "execution_count": 20,
   "metadata": {
    "editable": true,
    "slideshow": {
     "slide_type": ""
    },
    "tags": []
   },
   "outputs": [
    {
     "data": {
      "text/html": [
       "<div>\n",
       "<style scoped>\n",
       "    .dataframe tbody tr th:only-of-type {\n",
       "        vertical-align: middle;\n",
       "    }\n",
       "\n",
       "    .dataframe tbody tr th {\n",
       "        vertical-align: top;\n",
       "    }\n",
       "\n",
       "    .dataframe thead th {\n",
       "        text-align: right;\n",
       "    }\n",
       "</style>\n",
       "<table border=\"1\" class=\"dataframe\">\n",
       "  <thead>\n",
       "    <tr style=\"text-align: right;\">\n",
       "      <th></th>\n",
       "      <th>Number</th>\n",
       "      <th>Name</th>\n",
       "      <th>Parent (SMC)</th>\n",
       "      <th>Parent name (SMC)</th>\n",
       "      <th>Section</th>\n",
       "      <th>Region</th>\n",
       "      <th>Area</th>\n",
       "      <th>Island</th>\n",
       "      <th>Topo Section</th>\n",
       "      <th>County</th>\n",
       "      <th>...</th>\n",
       "      <th>xC</th>\n",
       "      <th>xG</th>\n",
       "      <th>xN</th>\n",
       "      <th>xDT</th>\n",
       "      <th>Dil</th>\n",
       "      <th>VL</th>\n",
       "      <th>A</th>\n",
       "      <th>Bin</th>\n",
       "      <th>O</th>\n",
       "      <th>Un</th>\n",
       "    </tr>\n",
       "  </thead>\n",
       "  <tbody>\n",
       "    <tr>\n",
       "      <th>0</th>\n",
       "      <td>1</td>\n",
       "      <td>Ben Chonzie</td>\n",
       "      <td>NaN</td>\n",
       "      <td>NaN</td>\n",
       "      <td>01A</td>\n",
       "      <td>01A: Loch Tay to Perth</td>\n",
       "      <td>NaN</td>\n",
       "      <td>NaN</td>\n",
       "      <td>N04:Lochearnhead to Strath Tay</td>\n",
       "      <td>Perth and Kinross</td>\n",
       "      <td>...</td>\n",
       "      <td>0</td>\n",
       "      <td>0</td>\n",
       "      <td>0</td>\n",
       "      <td>0</td>\n",
       "      <td>0</td>\n",
       "      <td>0</td>\n",
       "      <td>0</td>\n",
       "      <td>0</td>\n",
       "      <td>0</td>\n",
       "      <td>0</td>\n",
       "    </tr>\n",
       "  </tbody>\n",
       "</table>\n",
       "<p>1 rows × 104 columns</p>\n",
       "</div>"
      ],
      "text/plain": [
       "   Number         Name  Parent (SMC) Parent name (SMC) Section  \\\n",
       "0       1  Ben Chonzie           NaN               NaN     01A   \n",
       "\n",
       "                   Region Area Island                    Topo Section  \\\n",
       "0  01A: Loch Tay to Perth  NaN    NaN  N04:Lochearnhead to Strath Tay   \n",
       "\n",
       "              County  ... xC xG xN  xDT  Dil VL  A  Bin  O  Un  \n",
       "0  Perth and Kinross  ...  0  0  0    0    0  0  0    0  0   0  \n",
       "\n",
       "[1 rows x 104 columns]"
      ]
     },
     "execution_count": 20,
     "metadata": {},
     "output_type": "execute_result"
    }
   ],
   "source": [
    "# With a destructive action like this, do it in two parts. Define the columns to drop, and drop them, without reassigning the variable df\n",
    "# Check the cell output is correct\n",
    "\n",
    "columns_to_drop = [\"Ca\"]\n",
    "df.drop(columns_to_drop, axis=1, inplace=False).head(1)"
   ]
  },
  {
   "cell_type": "code",
   "execution_count": 21,
   "metadata": {
    "editable": true,
    "slideshow": {
     "slide_type": ""
    },
    "tags": []
   },
   "outputs": [
    {
     "data": {
      "text/html": [
       "<div>\n",
       "<style scoped>\n",
       "    .dataframe tbody tr th:only-of-type {\n",
       "        vertical-align: middle;\n",
       "    }\n",
       "\n",
       "    .dataframe tbody tr th {\n",
       "        vertical-align: top;\n",
       "    }\n",
       "\n",
       "    .dataframe thead th {\n",
       "        text-align: right;\n",
       "    }\n",
       "</style>\n",
       "<table border=\"1\" class=\"dataframe\">\n",
       "  <thead>\n",
       "    <tr style=\"text-align: right;\">\n",
       "      <th></th>\n",
       "      <th>Name</th>\n",
       "      <th>Metres</th>\n",
       "      <th>County</th>\n",
       "      <th>Country</th>\n",
       "      <th>Region</th>\n",
       "      <th>Latitude</th>\n",
       "      <th>Longitude</th>\n",
       "    </tr>\n",
       "  </thead>\n",
       "  <tbody>\n",
       "    <tr>\n",
       "      <th>0</th>\n",
       "      <td>Ben Chonzie</td>\n",
       "      <td>930.4</td>\n",
       "      <td>Perth and Kinross</td>\n",
       "      <td>S</td>\n",
       "      <td>01A: Loch Tay to Perth</td>\n",
       "      <td>56.453851</td>\n",
       "      <td>-3.992057</td>\n",
       "    </tr>\n",
       "    <tr>\n",
       "      <th>1</th>\n",
       "      <td>Creagan na Beinne</td>\n",
       "      <td>889.1</td>\n",
       "      <td>Perth and Kinross</td>\n",
       "      <td>S</td>\n",
       "      <td>01A: Loch Tay to Perth</td>\n",
       "      <td>56.506927</td>\n",
       "      <td>-4.041708</td>\n",
       "    </tr>\n",
       "    <tr>\n",
       "      <th>2</th>\n",
       "      <td>Creag Uchdag</td>\n",
       "      <td>878.8</td>\n",
       "      <td>Perth and Kinross/Stirling</td>\n",
       "      <td>S</td>\n",
       "      <td>01A: Loch Tay to Perth</td>\n",
       "      <td>56.465278</td>\n",
       "      <td>-4.098123</td>\n",
       "    </tr>\n",
       "    <tr>\n",
       "      <th>3</th>\n",
       "      <td>Auchnafree Hill</td>\n",
       "      <td>787.4</td>\n",
       "      <td>Perth and Kinross</td>\n",
       "      <td>S</td>\n",
       "      <td>01A: Loch Tay to Perth</td>\n",
       "      <td>56.454355</td>\n",
       "      <td>-3.934667</td>\n",
       "    </tr>\n",
       "    <tr>\n",
       "      <th>4</th>\n",
       "      <td>Shee of Ardtalnaig [Ciste Buide a' Claidheimh]</td>\n",
       "      <td>758.2</td>\n",
       "      <td>Perth and Kinross</td>\n",
       "      <td>S</td>\n",
       "      <td>01A: Loch Tay to Perth</td>\n",
       "      <td>56.491453</td>\n",
       "      <td>-4.065032</td>\n",
       "    </tr>\n",
       "    <tr>\n",
       "      <th>...</th>\n",
       "      <td>...</td>\n",
       "      <td>...</td>\n",
       "      <td>...</td>\n",
       "      <td>...</td>\n",
       "      <td>...</td>\n",
       "      <td>...</td>\n",
       "      <td>...</td>\n",
       "    </tr>\n",
       "    <tr>\n",
       "      <th>21339</th>\n",
       "      <td>Bencorr North Top [Binn an tSaighdiura]</td>\n",
       "      <td>654.0</td>\n",
       "      <td>Galway</td>\n",
       "      <td>I</td>\n",
       "      <td>47B: The Twelve Bens</td>\n",
       "      <td>53.511928</td>\n",
       "      <td>-9.793034</td>\n",
       "    </tr>\n",
       "    <tr>\n",
       "      <th>21340</th>\n",
       "      <td>Scrabo Hill</td>\n",
       "      <td>161.0</td>\n",
       "      <td>North Down and Ards</td>\n",
       "      <td>I</td>\n",
       "      <td>43B: Mourne Mountains</td>\n",
       "      <td>54.580091</td>\n",
       "      <td>-5.716397</td>\n",
       "    </tr>\n",
       "    <tr>\n",
       "      <th>21341</th>\n",
       "      <td>Derryreel</td>\n",
       "      <td>232.0</td>\n",
       "      <td>Donegal</td>\n",
       "      <td>I</td>\n",
       "      <td>45B: Derryveagh, Glendowan</td>\n",
       "      <td>55.133418</td>\n",
       "      <td>-8.016426</td>\n",
       "    </tr>\n",
       "    <tr>\n",
       "      <th>21342</th>\n",
       "      <td>Great Island</td>\n",
       "      <td>95.0</td>\n",
       "      <td>Cork</td>\n",
       "      <td>I</td>\n",
       "      <td>54A: Knockmealdown, Comeragh and Monavullagh M...</td>\n",
       "      <td>51.875175</td>\n",
       "      <td>-8.295474</td>\n",
       "    </tr>\n",
       "    <tr>\n",
       "      <th>21343</th>\n",
       "      <td>Kealanine</td>\n",
       "      <td>305.0</td>\n",
       "      <td>Cork</td>\n",
       "      <td>I</td>\n",
       "      <td>52B: South Cork</td>\n",
       "      <td>51.675583</td>\n",
       "      <td>-9.339370</td>\n",
       "    </tr>\n",
       "  </tbody>\n",
       "</table>\n",
       "<p>21344 rows × 7 columns</p>\n",
       "</div>"
      ],
      "text/plain": [
       "                                                 Name  Metres  \\\n",
       "0                                         Ben Chonzie   930.4   \n",
       "1                                   Creagan na Beinne   889.1   \n",
       "2                                        Creag Uchdag   878.8   \n",
       "3                                     Auchnafree Hill   787.4   \n",
       "4      Shee of Ardtalnaig [Ciste Buide a' Claidheimh]   758.2   \n",
       "...                                               ...     ...   \n",
       "21339         Bencorr North Top [Binn an tSaighdiura]   654.0   \n",
       "21340                                     Scrabo Hill   161.0   \n",
       "21341                                       Derryreel   232.0   \n",
       "21342                                    Great Island    95.0   \n",
       "21343                                       Kealanine   305.0   \n",
       "\n",
       "                           County Country  \\\n",
       "0               Perth and Kinross       S   \n",
       "1               Perth and Kinross       S   \n",
       "2      Perth and Kinross/Stirling       S   \n",
       "3               Perth and Kinross       S   \n",
       "4               Perth and Kinross       S   \n",
       "...                           ...     ...   \n",
       "21339                      Galway       I   \n",
       "21340         North Down and Ards       I   \n",
       "21341                     Donegal       I   \n",
       "21342                        Cork       I   \n",
       "21343                        Cork       I   \n",
       "\n",
       "                                                  Region   Latitude  Longitude  \n",
       "0                                 01A: Loch Tay to Perth  56.453851  -3.992057  \n",
       "1                                 01A: Loch Tay to Perth  56.506927  -4.041708  \n",
       "2                                 01A: Loch Tay to Perth  56.465278  -4.098123  \n",
       "3                                 01A: Loch Tay to Perth  56.454355  -3.934667  \n",
       "4                                 01A: Loch Tay to Perth  56.491453  -4.065032  \n",
       "...                                                  ...        ...        ...  \n",
       "21339                               47B: The Twelve Bens  53.511928  -9.793034  \n",
       "21340                              43B: Mourne Mountains  54.580091  -5.716397  \n",
       "21341                         45B: Derryveagh, Glendowan  55.133418  -8.016426  \n",
       "21342  54A: Knockmealdown, Comeragh and Monavullagh M...  51.875175  -8.295474  \n",
       "21343                                    52B: South Cork  51.675583  -9.339370  \n",
       "\n",
       "[21344 rows x 7 columns]"
      ]
     },
     "execution_count": 21,
     "metadata": {},
     "output_type": "execute_result"
    }
   ],
   "source": [
    "# Its a bit easier to keep the columns we want, and get the reverse mask\n",
    "columns_to_keep = [\"Name\", \"Metres\", \"County\", \"Country\", \"Region\", \"Latitude\", \"Longitude\"]\n",
    "df[columns_to_keep]"
   ]
  },
  {
   "cell_type": "code",
   "execution_count": 22,
   "metadata": {
    "editable": true,
    "slideshow": {
     "slide_type": ""
    },
    "tags": []
   },
   "outputs": [
    {
     "data": {
      "text/html": [
       "<div>\n",
       "<style scoped>\n",
       "    .dataframe tbody tr th:only-of-type {\n",
       "        vertical-align: middle;\n",
       "    }\n",
       "\n",
       "    .dataframe tbody tr th {\n",
       "        vertical-align: top;\n",
       "    }\n",
       "\n",
       "    .dataframe thead th {\n",
       "        text-align: right;\n",
       "    }\n",
       "</style>\n",
       "<table border=\"1\" class=\"dataframe\">\n",
       "  <thead>\n",
       "    <tr style=\"text-align: right;\">\n",
       "      <th></th>\n",
       "      <th>Number</th>\n",
       "      <th>Name</th>\n",
       "      <th>Parent (SMC)</th>\n",
       "      <th>Parent name (SMC)</th>\n",
       "      <th>Section</th>\n",
       "      <th>Region</th>\n",
       "      <th>Area</th>\n",
       "      <th>Island</th>\n",
       "      <th>Topo Section</th>\n",
       "      <th>County</th>\n",
       "      <th>...</th>\n",
       "      <th>xG</th>\n",
       "      <th>xN</th>\n",
       "      <th>xDT</th>\n",
       "      <th>Dil</th>\n",
       "      <th>VL</th>\n",
       "      <th>A</th>\n",
       "      <th>Ca</th>\n",
       "      <th>Bin</th>\n",
       "      <th>O</th>\n",
       "      <th>Un</th>\n",
       "    </tr>\n",
       "  </thead>\n",
       "  <tbody>\n",
       "    <tr>\n",
       "      <th>0</th>\n",
       "      <td>1</td>\n",
       "      <td>Ben Chonzie</td>\n",
       "      <td>NaN</td>\n",
       "      <td>NaN</td>\n",
       "      <td>01A</td>\n",
       "      <td>01A: Loch Tay to Perth</td>\n",
       "      <td>NaN</td>\n",
       "      <td>NaN</td>\n",
       "      <td>N04:Lochearnhead to Strath Tay</td>\n",
       "      <td>Perth and Kinross</td>\n",
       "      <td>...</td>\n",
       "      <td>0</td>\n",
       "      <td>0</td>\n",
       "      <td>0</td>\n",
       "      <td>0</td>\n",
       "      <td>0</td>\n",
       "      <td>0</td>\n",
       "      <td>0</td>\n",
       "      <td>0</td>\n",
       "      <td>0</td>\n",
       "      <td>0</td>\n",
       "    </tr>\n",
       "  </tbody>\n",
       "</table>\n",
       "<p>1 rows × 105 columns</p>\n",
       "</div>"
      ],
      "text/plain": [
       "   Number         Name  Parent (SMC) Parent name (SMC) Section  \\\n",
       "0       1  Ben Chonzie           NaN               NaN     01A   \n",
       "\n",
       "                   Region Area Island                    Topo Section  \\\n",
       "0  01A: Loch Tay to Perth  NaN    NaN  N04:Lochearnhead to Strath Tay   \n",
       "\n",
       "              County  ... xG xN xDT  Dil  VL  A Ca  Bin  O  Un  \n",
       "0  Perth and Kinross  ...  0  0   0    0   0  0  0    0  0   0  \n",
       "\n",
       "[1 rows x 105 columns]"
      ]
     },
     "execution_count": 22,
     "metadata": {},
     "output_type": "execute_result"
    }
   ],
   "source": [
    "# See how df hasnt changed\n",
    "\n",
    "df.head(1)"
   ]
  },
  {
   "cell_type": "code",
   "execution_count": 23,
   "metadata": {
    "editable": true,
    "slideshow": {
     "slide_type": ""
    },
    "tags": []
   },
   "outputs": [
    {
     "data": {
      "text/html": [
       "<div>\n",
       "<style scoped>\n",
       "    .dataframe tbody tr th:only-of-type {\n",
       "        vertical-align: middle;\n",
       "    }\n",
       "\n",
       "    .dataframe tbody tr th {\n",
       "        vertical-align: top;\n",
       "    }\n",
       "\n",
       "    .dataframe thead th {\n",
       "        text-align: right;\n",
       "    }\n",
       "</style>\n",
       "<table border=\"1\" class=\"dataframe\">\n",
       "  <thead>\n",
       "    <tr style=\"text-align: right;\">\n",
       "      <th></th>\n",
       "      <th>Name</th>\n",
       "      <th>Metres</th>\n",
       "      <th>County</th>\n",
       "      <th>Country</th>\n",
       "      <th>Region</th>\n",
       "      <th>Latitude</th>\n",
       "      <th>Longitude</th>\n",
       "    </tr>\n",
       "  </thead>\n",
       "  <tbody>\n",
       "    <tr>\n",
       "      <th>0</th>\n",
       "      <td>Ben Chonzie</td>\n",
       "      <td>930.4</td>\n",
       "      <td>Perth and Kinross</td>\n",
       "      <td>S</td>\n",
       "      <td>01A: Loch Tay to Perth</td>\n",
       "      <td>56.453851</td>\n",
       "      <td>-3.992057</td>\n",
       "    </tr>\n",
       "  </tbody>\n",
       "</table>\n",
       "</div>"
      ],
      "text/plain": [
       "          Name  Metres             County Country                  Region  \\\n",
       "0  Ben Chonzie   930.4  Perth and Kinross       S  01A: Loch Tay to Perth   \n",
       "\n",
       "    Latitude  Longitude  \n",
       "0  56.453851  -3.992057  "
      ]
     },
     "execution_count": 23,
     "metadata": {},
     "output_type": "execute_result"
    }
   ],
   "source": [
    "# Reassign the variable df to the DataFrame with the columns we want\n",
    "\n",
    "df = df[columns_to_keep]\n",
    "df.head(1)"
   ]
  },
  {
   "cell_type": "markdown",
   "metadata": {
    "editable": true,
    "slideshow": {
     "slide_type": ""
    },
    "tags": []
   },
   "source": [
    "* It is in this step that you would perform any data cleaning required: this broad term might include deciding how to handle NaN values, filtering out any rows with other corrupted data, or applying some transformations."
   ]
  },
  {
   "cell_type": "markdown",
   "metadata": {
    "editable": true,
    "slideshow": {
     "slide_type": ""
    },
    "tags": []
   },
   "source": [
    "## Step 5: Selecting slices of data\n",
    "\n",
    "* Select all rows with a particular categorical variable"
   ]
  },
  {
   "cell_type": "code",
   "execution_count": null,
   "metadata": {
    "editable": true,
    "slideshow": {
     "slide_type": ""
    },
    "tags": []
   },
   "outputs": [],
   "source": []
  },
  {
   "cell_type": "markdown",
   "metadata": {
    "editable": true,
    "slideshow": {
     "slide_type": ""
    },
    "tags": []
   },
   "source": [
    "* In the hills data set example, we will select all hills from Scotland"
   ]
  },
  {
   "cell_type": "code",
   "execution_count": 24,
   "metadata": {
    "editable": true,
    "slideshow": {
     "slide_type": ""
    },
    "tags": []
   },
   "outputs": [
    {
     "data": {
      "text/html": [
       "<div>\n",
       "<style scoped>\n",
       "    .dataframe tbody tr th:only-of-type {\n",
       "        vertical-align: middle;\n",
       "    }\n",
       "\n",
       "    .dataframe tbody tr th {\n",
       "        vertical-align: top;\n",
       "    }\n",
       "\n",
       "    .dataframe thead th {\n",
       "        text-align: right;\n",
       "    }\n",
       "</style>\n",
       "<table border=\"1\" class=\"dataframe\">\n",
       "  <thead>\n",
       "    <tr style=\"text-align: right;\">\n",
       "      <th></th>\n",
       "      <th>Name</th>\n",
       "      <th>Metres</th>\n",
       "      <th>County</th>\n",
       "      <th>Country</th>\n",
       "      <th>Region</th>\n",
       "      <th>Latitude</th>\n",
       "      <th>Longitude</th>\n",
       "    </tr>\n",
       "  </thead>\n",
       "  <tbody>\n",
       "    <tr>\n",
       "      <th>0</th>\n",
       "      <td>Ben Chonzie</td>\n",
       "      <td>930.4</td>\n",
       "      <td>Perth and Kinross</td>\n",
       "      <td>S</td>\n",
       "      <td>01A: Loch Tay to Perth</td>\n",
       "      <td>56.453851</td>\n",
       "      <td>-3.992057</td>\n",
       "    </tr>\n",
       "    <tr>\n",
       "      <th>1</th>\n",
       "      <td>Creagan na Beinne</td>\n",
       "      <td>889.1</td>\n",
       "      <td>Perth and Kinross</td>\n",
       "      <td>S</td>\n",
       "      <td>01A: Loch Tay to Perth</td>\n",
       "      <td>56.506927</td>\n",
       "      <td>-4.041708</td>\n",
       "    </tr>\n",
       "    <tr>\n",
       "      <th>2</th>\n",
       "      <td>Creag Uchdag</td>\n",
       "      <td>878.8</td>\n",
       "      <td>Perth and Kinross/Stirling</td>\n",
       "      <td>S</td>\n",
       "      <td>01A: Loch Tay to Perth</td>\n",
       "      <td>56.465278</td>\n",
       "      <td>-4.098123</td>\n",
       "    </tr>\n",
       "    <tr>\n",
       "      <th>3</th>\n",
       "      <td>Auchnafree Hill</td>\n",
       "      <td>787.4</td>\n",
       "      <td>Perth and Kinross</td>\n",
       "      <td>S</td>\n",
       "      <td>01A: Loch Tay to Perth</td>\n",
       "      <td>56.454355</td>\n",
       "      <td>-3.934667</td>\n",
       "    </tr>\n",
       "    <tr>\n",
       "      <th>4</th>\n",
       "      <td>Shee of Ardtalnaig [Ciste Buide a' Claidheimh]</td>\n",
       "      <td>758.2</td>\n",
       "      <td>Perth and Kinross</td>\n",
       "      <td>S</td>\n",
       "      <td>01A: Loch Tay to Perth</td>\n",
       "      <td>56.491453</td>\n",
       "      <td>-4.065032</td>\n",
       "    </tr>\n",
       "  </tbody>\n",
       "</table>\n",
       "</div>"
      ],
      "text/plain": [
       "                                             Name  Metres  \\\n",
       "0                                     Ben Chonzie   930.4   \n",
       "1                               Creagan na Beinne   889.1   \n",
       "2                                    Creag Uchdag   878.8   \n",
       "3                                 Auchnafree Hill   787.4   \n",
       "4  Shee of Ardtalnaig [Ciste Buide a' Claidheimh]   758.2   \n",
       "\n",
       "                       County Country                  Region   Latitude  \\\n",
       "0           Perth and Kinross       S  01A: Loch Tay to Perth  56.453851   \n",
       "1           Perth and Kinross       S  01A: Loch Tay to Perth  56.506927   \n",
       "2  Perth and Kinross/Stirling       S  01A: Loch Tay to Perth  56.465278   \n",
       "3           Perth and Kinross       S  01A: Loch Tay to Perth  56.454355   \n",
       "4           Perth and Kinross       S  01A: Loch Tay to Perth  56.491453   \n",
       "\n",
       "   Longitude  \n",
       "0  -3.992057  \n",
       "1  -4.041708  \n",
       "2  -4.098123  \n",
       "3  -3.934667  \n",
       "4  -4.065032  "
      ]
     },
     "execution_count": 24,
     "metadata": {},
     "output_type": "execute_result"
    }
   ],
   "source": [
    "# First create a boolean mask\n",
    "scottish_mask = df[\"Country\"] == \"S\"\n",
    "\n",
    "# Then apply it to the DataFrame\n",
    "scottish_rows = df[scottish_mask]\n",
    "scottish_rows.head(5)"
   ]
  },
  {
   "cell_type": "code",
   "execution_count": 25,
   "metadata": {
    "editable": true,
    "slideshow": {
     "slide_type": ""
    },
    "tags": []
   },
   "outputs": [],
   "source": [
    "# Check this has worked correctly\n",
    "assert len(scottish_rows[\"Country\"].unique()) == 1"
   ]
  },
  {
   "cell_type": "code",
   "execution_count": 26,
   "metadata": {
    "editable": true,
    "slideshow": {
     "slide_type": ""
    },
    "tags": []
   },
   "outputs": [],
   "source": [
    "# Note that it is more correct to use the DataFrame loc operator, and not break out the boolean_mask, leading to the following\n",
    "scottish_rows = df.loc[df[\"Country\"] == \"S\"]"
   ]
  },
  {
   "cell_type": "markdown",
   "metadata": {
    "editable": true,
    "slideshow": {
     "slide_type": ""
    },
    "tags": []
   },
   "source": [
    "* Now select based on two categorical variables, and create a statistic\n",
    "* In the hills data set example, answer the question: `\"What is the median hill height of hills not in Scotland and Wales?\"`"
   ]
  },
  {
   "cell_type": "code",
   "execution_count": 27,
   "metadata": {
    "editable": true,
    "slideshow": {
     "slide_type": ""
    },
    "tags": []
   },
   "outputs": [
    {
     "data": {
      "text/html": [
       "<div>\n",
       "<style scoped>\n",
       "    .dataframe tbody tr th:only-of-type {\n",
       "        vertical-align: middle;\n",
       "    }\n",
       "\n",
       "    .dataframe tbody tr th {\n",
       "        vertical-align: top;\n",
       "    }\n",
       "\n",
       "    .dataframe thead th {\n",
       "        text-align: right;\n",
       "    }\n",
       "</style>\n",
       "<table border=\"1\" class=\"dataframe\">\n",
       "  <thead>\n",
       "    <tr style=\"text-align: right;\">\n",
       "      <th></th>\n",
       "      <th>Name</th>\n",
       "      <th>Metres</th>\n",
       "      <th>County</th>\n",
       "      <th>Country</th>\n",
       "      <th>Region</th>\n",
       "      <th>Latitude</th>\n",
       "      <th>Longitude</th>\n",
       "    </tr>\n",
       "  </thead>\n",
       "  <tbody>\n",
       "    <tr>\n",
       "      <th>0</th>\n",
       "      <td>Ben Chonzie</td>\n",
       "      <td>930.4</td>\n",
       "      <td>Perth and Kinross</td>\n",
       "      <td>S</td>\n",
       "      <td>01A: Loch Tay to Perth</td>\n",
       "      <td>56.453851</td>\n",
       "      <td>-3.992057</td>\n",
       "    </tr>\n",
       "    <tr>\n",
       "      <th>1</th>\n",
       "      <td>Creagan na Beinne</td>\n",
       "      <td>889.1</td>\n",
       "      <td>Perth and Kinross</td>\n",
       "      <td>S</td>\n",
       "      <td>01A: Loch Tay to Perth</td>\n",
       "      <td>56.506927</td>\n",
       "      <td>-4.041708</td>\n",
       "    </tr>\n",
       "    <tr>\n",
       "      <th>2</th>\n",
       "      <td>Creag Uchdag</td>\n",
       "      <td>878.8</td>\n",
       "      <td>Perth and Kinross/Stirling</td>\n",
       "      <td>S</td>\n",
       "      <td>01A: Loch Tay to Perth</td>\n",
       "      <td>56.465278</td>\n",
       "      <td>-4.098123</td>\n",
       "    </tr>\n",
       "    <tr>\n",
       "      <th>3</th>\n",
       "      <td>Auchnafree Hill</td>\n",
       "      <td>787.4</td>\n",
       "      <td>Perth and Kinross</td>\n",
       "      <td>S</td>\n",
       "      <td>01A: Loch Tay to Perth</td>\n",
       "      <td>56.454355</td>\n",
       "      <td>-3.934667</td>\n",
       "    </tr>\n",
       "    <tr>\n",
       "      <th>4</th>\n",
       "      <td>Shee of Ardtalnaig [Ciste Buide a' Claidheimh]</td>\n",
       "      <td>758.2</td>\n",
       "      <td>Perth and Kinross</td>\n",
       "      <td>S</td>\n",
       "      <td>01A: Loch Tay to Perth</td>\n",
       "      <td>56.491453</td>\n",
       "      <td>-4.065032</td>\n",
       "    </tr>\n",
       "  </tbody>\n",
       "</table>\n",
       "</div>"
      ],
      "text/plain": [
       "                                             Name  Metres  \\\n",
       "0                                     Ben Chonzie   930.4   \n",
       "1                               Creagan na Beinne   889.1   \n",
       "2                                    Creag Uchdag   878.8   \n",
       "3                                 Auchnafree Hill   787.4   \n",
       "4  Shee of Ardtalnaig [Ciste Buide a' Claidheimh]   758.2   \n",
       "\n",
       "                       County Country                  Region   Latitude  \\\n",
       "0           Perth and Kinross       S  01A: Loch Tay to Perth  56.453851   \n",
       "1           Perth and Kinross       S  01A: Loch Tay to Perth  56.506927   \n",
       "2  Perth and Kinross/Stirling       S  01A: Loch Tay to Perth  56.465278   \n",
       "3           Perth and Kinross       S  01A: Loch Tay to Perth  56.454355   \n",
       "4           Perth and Kinross       S  01A: Loch Tay to Perth  56.491453   \n",
       "\n",
       "   Longitude  \n",
       "0  -3.992057  \n",
       "1  -4.041708  \n",
       "2  -4.098123  \n",
       "3  -3.934667  \n",
       "4  -4.065032  "
      ]
     },
     "execution_count": 27,
     "metadata": {},
     "output_type": "execute_result"
    }
   ],
   "source": [
    "# Define the countries to keep\n",
    "countries_to_keep = [\"S\", \"W\"]\n",
    "\n",
    "# Get DataFrame slice\n",
    "scottish_welsh_hills = df.loc[df[\"Country\"].isin(countries_to_keep)]\n",
    "scottish_welsh_hills.head()"
   ]
  },
  {
   "cell_type": "code",
   "execution_count": 28,
   "metadata": {
    "editable": true,
    "slideshow": {
     "slide_type": ""
    },
    "tags": []
   },
   "outputs": [
    {
     "name": "stdout",
     "output_type": "stream",
     "text": [
      "The median hill height of hills in Scotland and Wales is: 362.0 meters\n"
     ]
    }
   ],
   "source": [
    "median_value = scottish_welsh_hills[\"Metres\"].median()\n",
    "\n",
    "print(f\"The median hill height of hills in Scotland and Wales is: {median_value} meters\")"
   ]
  },
  {
   "cell_type": "markdown",
   "metadata": {
    "editable": true,
    "slideshow": {
     "slide_type": ""
    },
    "tags": []
   },
   "source": [
    "* Lets answer another question:\n",
    "\n",
    "* `\"Which country has the highest mean hill height?\"`"
   ]
  },
  {
   "cell_type": "code",
   "execution_count": 29,
   "metadata": {
    "editable": true,
    "slideshow": {
     "slide_type": ""
    },
    "tags": []
   },
   "outputs": [
    {
     "name": "stdout",
     "output_type": "stream",
     "text": [
      "Processing S...\n",
      "Processing ES...\n",
      "Processing M...\n",
      "Processing W...\n",
      "Processing E...\n",
      "Processing C...\n",
      "Processing I...\n",
      "Analysis complete.\n",
      "\n",
      "{'S': 407.3291295938104, 'ES': 562.7571428571429, 'M': 275.38518518518515, 'W': 359.3369909502262, 'E': 283.90421369689284, 'C': 56.86363636363637, 'I': 439.5388926862612}\n"
     ]
    }
   ],
   "source": [
    "mean_height_dict = {}\n",
    "\n",
    "# Get the unique countries to loop through\n",
    "unique_countries = df[\"Country\"].unique()\n",
    "\n",
    "for country in unique_countries:\n",
    "    print(f\"Processing {country}...\")\n",
    "\n",
    "    # Get slice, isolate Height column, get mean\n",
    "    country_mean_height = df.loc[df[\"Country\"] == country, \"Metres\"].mean()\n",
    "\n",
    "    # Store result in a dict\n",
    "    mean_height_dict[country] = country_mean_height\n",
    "\n",
    "print(\"Analysis complete.\\n\")\n",
    "\n",
    "print(mean_height_dict)"
   ]
  },
  {
   "cell_type": "code",
   "execution_count": 30,
   "metadata": {
    "editable": true,
    "slideshow": {
     "slide_type": ""
    },
    "tags": []
   },
   "outputs": [
    {
     "name": "stdout",
     "output_type": "stream",
     "text": [
      "\n",
      "The country with the greatest mean hill height is ES\n"
     ]
    }
   ],
   "source": [
    "print(f\"\\nThe country with the greatest mean hill height is {max(mean_height_dict, key=mean_height_dict.get)}\")"
   ]
  },
  {
   "cell_type": "markdown",
   "metadata": {
    "editable": true,
    "slideshow": {
     "slide_type": ""
    },
    "tags": []
   },
   "source": [
    "* However, we can do this in a better way, using the Pandas built in functions"
   ]
  },
  {
   "cell_type": "code",
   "execution_count": 31,
   "metadata": {
    "editable": true,
    "slideshow": {
     "slide_type": ""
    },
    "tags": []
   },
   "outputs": [
    {
     "data": {
      "text/plain": [
       "Country\n",
       "ES    562.757143\n",
       "Name: Metres, dtype: float64"
      ]
     },
     "execution_count": 31,
     "metadata": {},
     "output_type": "execute_result"
    }
   ],
   "source": [
    "df.groupby(\"Country\")[\"Metres\"].mean().nlargest(1)"
   ]
  },
  {
   "cell_type": "markdown",
   "metadata": {
    "editable": true,
    "slideshow": {
     "slide_type": ""
    },
    "tags": []
   },
   "source": [
    "* A final question:\n",
    "\n",
    "* `\"What percentage of hills in the data set are above 1000 meters in height?\"`\n",
    "* `\"What are the names of the tallest 5 hills?\"`"
   ]
  },
  {
   "cell_type": "code",
   "execution_count": 32,
   "metadata": {
    "editable": true,
    "slideshow": {
     "slide_type": ""
    },
    "tags": []
   },
   "outputs": [
    {
     "name": "stdout",
     "output_type": "stream",
     "text": [
      "1.29% of hills in the data set are above 1000 meters\n"
     ]
    }
   ],
   "source": [
    "# Filter DataFrame by 1000 meters in height, count rows, compare to total rows\n",
    "\n",
    "tall_hill_height = 1000\n",
    "tall_hills_rows = df.loc[df[\"Metres\"] > tall_hill_height]\n",
    "tall_hills_pc = 100 * len(tall_hills_rows) / len(df)\n",
    "\n",
    "print(f\"{tall_hills_pc:.2f}% of hills in the data set are above {tall_hill_height} meters\")"
   ]
  },
  {
   "cell_type": "code",
   "execution_count": 33,
   "metadata": {
    "editable": true,
    "slideshow": {
     "slide_type": ""
    },
    "tags": []
   },
   "outputs": [
    {
     "name": "stdout",
     "output_type": "stream",
     "text": [
      "['Ben Chonzie', 'Creagan na Beinne', 'Creag Uchdag', 'Auchnafree Hill', \"Shee of Ardtalnaig [Ciste Buide a' Claidheimh]\"]\n"
     ]
    }
   ],
   "source": [
    "# Get the names of the tallest hills\n",
    "wrong_tallest_hill_names = df.head(5)[\"Name\"].tolist()\n",
    "print(wrong_tallest_hill_names)\n",
    "\n",
    "# This is wrong. Why so?"
   ]
  },
  {
   "cell_type": "code",
   "execution_count": 34,
   "metadata": {
    "editable": true,
    "slideshow": {
     "slide_type": ""
    },
    "tags": []
   },
   "outputs": [
    {
     "data": {
      "text/html": [
       "<div>\n",
       "<style scoped>\n",
       "    .dataframe tbody tr th:only-of-type {\n",
       "        vertical-align: middle;\n",
       "    }\n",
       "\n",
       "    .dataframe tbody tr th {\n",
       "        vertical-align: top;\n",
       "    }\n",
       "\n",
       "    .dataframe thead th {\n",
       "        text-align: right;\n",
       "    }\n",
       "</style>\n",
       "<table border=\"1\" class=\"dataframe\">\n",
       "  <thead>\n",
       "    <tr style=\"text-align: right;\">\n",
       "      <th></th>\n",
       "      <th>Name</th>\n",
       "      <th>Metres</th>\n",
       "      <th>County</th>\n",
       "      <th>Country</th>\n",
       "      <th>Region</th>\n",
       "      <th>Latitude</th>\n",
       "      <th>Longitude</th>\n",
       "    </tr>\n",
       "  </thead>\n",
       "  <tbody>\n",
       "    <tr>\n",
       "      <th>277</th>\n",
       "      <td>Ben Nevis [Beinn Nibheis]</td>\n",
       "      <td>1344.53</td>\n",
       "      <td>Highland</td>\n",
       "      <td>S</td>\n",
       "      <td>04A: Fort William to Loch Treig &amp; Loch Leven</td>\n",
       "      <td>56.796891</td>\n",
       "      <td>-5.003675</td>\n",
       "    </tr>\n",
       "    <tr>\n",
       "      <th>517</th>\n",
       "      <td>Ben Macdui [Beinn Macduibh]</td>\n",
       "      <td>1309.00</td>\n",
       "      <td>Aberdeenshire/Moray</td>\n",
       "      <td>S</td>\n",
       "      <td>08A: Cairngorms</td>\n",
       "      <td>57.070368</td>\n",
       "      <td>-3.669099</td>\n",
       "    </tr>\n",
       "    <tr>\n",
       "      <th>518</th>\n",
       "      <td>Braeriach</td>\n",
       "      <td>1296.00</td>\n",
       "      <td>Aberdeenshire/Highland</td>\n",
       "      <td>S</td>\n",
       "      <td>08A: Cairngorms</td>\n",
       "      <td>57.078307</td>\n",
       "      <td>-3.728390</td>\n",
       "    </tr>\n",
       "    <tr>\n",
       "      <th>519</th>\n",
       "      <td>Ben Macdui North Top</td>\n",
       "      <td>1295.00</td>\n",
       "      <td>Aberdeenshire/Moray</td>\n",
       "      <td>S</td>\n",
       "      <td>08A: Cairngorms</td>\n",
       "      <td>57.076003</td>\n",
       "      <td>-3.665623</td>\n",
       "    </tr>\n",
       "    <tr>\n",
       "      <th>520</th>\n",
       "      <td>Cairn Toul</td>\n",
       "      <td>1291.00</td>\n",
       "      <td>Aberdeenshire</td>\n",
       "      <td>S</td>\n",
       "      <td>08A: Cairngorms</td>\n",
       "      <td>57.054406</td>\n",
       "      <td>-3.710757</td>\n",
       "    </tr>\n",
       "  </tbody>\n",
       "</table>\n",
       "</div>"
      ],
      "text/plain": [
       "                            Name   Metres                  County Country  \\\n",
       "277    Ben Nevis [Beinn Nibheis]  1344.53                Highland       S   \n",
       "517  Ben Macdui [Beinn Macduibh]  1309.00     Aberdeenshire/Moray       S   \n",
       "518                    Braeriach  1296.00  Aberdeenshire/Highland       S   \n",
       "519         Ben Macdui North Top  1295.00     Aberdeenshire/Moray       S   \n",
       "520                   Cairn Toul  1291.00           Aberdeenshire       S   \n",
       "\n",
       "                                           Region   Latitude  Longitude  \n",
       "277  04A: Fort William to Loch Treig & Loch Leven  56.796891  -5.003675  \n",
       "517                               08A: Cairngorms  57.070368  -3.669099  \n",
       "518                               08A: Cairngorms  57.078307  -3.728390  \n",
       "519                               08A: Cairngorms  57.076003  -3.665623  \n",
       "520                               08A: Cairngorms  57.054406  -3.710757  "
      ]
     },
     "execution_count": 34,
     "metadata": {},
     "output_type": "execute_result"
    }
   ],
   "source": [
    "# We need to sort the DataFrame first\n",
    "tall_hills_rows.sort_values(\"Metres\", ascending=False).head(5)"
   ]
  },
  {
   "cell_type": "code",
   "execution_count": 35,
   "metadata": {
    "editable": true,
    "slideshow": {
     "slide_type": ""
    },
    "tags": []
   },
   "outputs": [
    {
     "data": {
      "text/html": [
       "<div>\n",
       "<style scoped>\n",
       "    .dataframe tbody tr th:only-of-type {\n",
       "        vertical-align: middle;\n",
       "    }\n",
       "\n",
       "    .dataframe tbody tr th {\n",
       "        vertical-align: top;\n",
       "    }\n",
       "\n",
       "    .dataframe thead th {\n",
       "        text-align: right;\n",
       "    }\n",
       "</style>\n",
       "<table border=\"1\" class=\"dataframe\">\n",
       "  <thead>\n",
       "    <tr style=\"text-align: right;\">\n",
       "      <th></th>\n",
       "      <th>Name</th>\n",
       "      <th>Metres</th>\n",
       "      <th>County</th>\n",
       "      <th>Country</th>\n",
       "      <th>Region</th>\n",
       "      <th>Latitude</th>\n",
       "      <th>Longitude</th>\n",
       "    </tr>\n",
       "  </thead>\n",
       "  <tbody>\n",
       "    <tr>\n",
       "      <th>277</th>\n",
       "      <td>Ben Nevis [Beinn Nibheis]</td>\n",
       "      <td>1344.53</td>\n",
       "      <td>Highland</td>\n",
       "      <td>S</td>\n",
       "      <td>04A: Fort William to Loch Treig &amp; Loch Leven</td>\n",
       "      <td>56.796891</td>\n",
       "      <td>-5.003675</td>\n",
       "    </tr>\n",
       "    <tr>\n",
       "      <th>517</th>\n",
       "      <td>Ben Macdui [Beinn Macduibh]</td>\n",
       "      <td>1309.00</td>\n",
       "      <td>Aberdeenshire/Moray</td>\n",
       "      <td>S</td>\n",
       "      <td>08A: Cairngorms</td>\n",
       "      <td>57.070368</td>\n",
       "      <td>-3.669099</td>\n",
       "    </tr>\n",
       "    <tr>\n",
       "      <th>518</th>\n",
       "      <td>Braeriach</td>\n",
       "      <td>1296.00</td>\n",
       "      <td>Aberdeenshire/Highland</td>\n",
       "      <td>S</td>\n",
       "      <td>08A: Cairngorms</td>\n",
       "      <td>57.078307</td>\n",
       "      <td>-3.728390</td>\n",
       "    </tr>\n",
       "    <tr>\n",
       "      <th>519</th>\n",
       "      <td>Ben Macdui North Top</td>\n",
       "      <td>1295.00</td>\n",
       "      <td>Aberdeenshire/Moray</td>\n",
       "      <td>S</td>\n",
       "      <td>08A: Cairngorms</td>\n",
       "      <td>57.076003</td>\n",
       "      <td>-3.665623</td>\n",
       "    </tr>\n",
       "    <tr>\n",
       "      <th>520</th>\n",
       "      <td>Cairn Toul</td>\n",
       "      <td>1291.00</td>\n",
       "      <td>Aberdeenshire</td>\n",
       "      <td>S</td>\n",
       "      <td>08A: Cairngorms</td>\n",
       "      <td>57.054406</td>\n",
       "      <td>-3.710757</td>\n",
       "    </tr>\n",
       "  </tbody>\n",
       "</table>\n",
       "</div>"
      ],
      "text/plain": [
       "                            Name   Metres                  County Country  \\\n",
       "277    Ben Nevis [Beinn Nibheis]  1344.53                Highland       S   \n",
       "517  Ben Macdui [Beinn Macduibh]  1309.00     Aberdeenshire/Moray       S   \n",
       "518                    Braeriach  1296.00  Aberdeenshire/Highland       S   \n",
       "519         Ben Macdui North Top  1295.00     Aberdeenshire/Moray       S   \n",
       "520                   Cairn Toul  1291.00           Aberdeenshire       S   \n",
       "\n",
       "                                           Region   Latitude  Longitude  \n",
       "277  04A: Fort William to Loch Treig & Loch Leven  56.796891  -5.003675  \n",
       "517                               08A: Cairngorms  57.070368  -3.669099  \n",
       "518                               08A: Cairngorms  57.078307  -3.728390  \n",
       "519                               08A: Cairngorms  57.076003  -3.665623  \n",
       "520                               08A: Cairngorms  57.054406  -3.710757  "
      ]
     },
     "execution_count": 35,
     "metadata": {},
     "output_type": "execute_result"
    }
   ],
   "source": [
    "# Or get them with the df.nlargest() function\n",
    "tall_hills_rows.nlargest(5, \"Metres\")"
   ]
  },
  {
   "cell_type": "markdown",
   "metadata": {
    "editable": true,
    "slideshow": {
     "slide_type": ""
    },
    "tags": []
   },
   "source": [
    "* Most of the difficulty is knowing which Pandas functions to use! With small data sets aspects like computational speed do not matter as much as with large data sets. For larger data sets, using Pandas built in methods as much as possible is an easy way to ensure your code runs quickly."
   ]
  },
  {
   "cell_type": "markdown",
   "metadata": {
    "editable": true,
    "slideshow": {
     "slide_type": ""
    },
    "tags": []
   },
   "source": [
    "## Step 6: Plotting with Pandas matplotlib\n",
    "\n",
    "* Use the built in Pandas plotting functions to plot an aspect of your data\n",
    "* Pandas plotting functions are based on the matplotlib API. These are mostly a 1:1 mapping, but there are some differences.\n",
    "* In general, Pandas plotting functions can be useful for quickly creating plots. For detailed customisation, plotting with matplotlib directly might save time.\n",
    "\n",
    "Tips:\n",
    "* First install matplotlib in your virtual environment: Pandas needs access to this.\n",
    "* In the hills example, lets plot the number of hills in our data set.\n"
   ]
  },
  {
   "cell_type": "code",
   "execution_count": 36,
   "metadata": {
    "editable": true,
    "slideshow": {
     "slide_type": ""
    },
    "tags": []
   },
   "outputs": [
    {
     "data": {
      "image/png": "[encoded data removed]",
      "text/plain": [
       "<Figure size 640x480 with 1 Axes>"
      ]
     },
     "metadata": {},
     "output_type": "display_data"
    }
   ],
   "source": [
    "df.groupby(\"Country\").size().plot.barh(title=\"Number of hills in each country\", xlabel=\"Count\");"
   ]
  },
  {
   "cell_type": "code",
   "execution_count": 37,
   "metadata": {
    "editable": true,
    "slideshow": {
     "slide_type": ""
    },
    "tags": []
   },
   "outputs": [
    {
     "data": {
      "image/png": "[encoded data removed]",
      "text/plain": [
       "<Figure size 640x480 with 1 Axes>"
      ]
     },
     "metadata": {},
     "output_type": "display_data"
    }
   ],
   "source": [
    "# We can do better: lets sort the values before plotting them\n",
    "\n",
    "df.groupby(\"Country\").size().sort_values().plot.barh(title=\"Number of hills in each country\", xlabel=\"Count\");"
   ]
  },
  {
   "cell_type": "markdown",
   "metadata": {
    "editable": true,
    "slideshow": {
     "slide_type": ""
    },
    "tags": []
   },
   "source": [
    "* In the hills example, lets plot the number of hills above or equal to a threshold height"
   ]
  },
  {
   "cell_type": "code",
   "execution_count": 38,
   "metadata": {
    "editable": true,
    "slideshow": {
     "slide_type": ""
    },
    "tags": []
   },
   "outputs": [
    {
     "data": {
      "image/png": "[encoded data removed]",
      "text/plain": [
       "<Figure size 640x480 with 1 Axes>"
      ]
     },
     "metadata": {},
     "output_type": "display_data"
    }
   ],
   "source": [
    "threshold_height = 950\n",
    "title = f\"Number of hills in each country above or equal to {threshold_height} metres\"\n",
    "\n",
    "df.loc[df[\"Metres\"] >= threshold_height].groupby(\"Country\").size().sort_values().plot.barh(title=title, xlabel=\"Count\");"
   ]
  },
  {
   "cell_type": "markdown",
   "metadata": {
    "editable": true,
    "slideshow": {
     "slide_type": ""
    },
    "tags": []
   },
   "source": [
    "* In the hills example, we have some lat, lon data. Lets plot this using a scatter plot."
   ]
  },
  {
   "cell_type": "code",
   "execution_count": 39,
   "metadata": {
    "editable": true,
    "slideshow": {
     "slide_type": ""
    },
    "tags": []
   },
   "outputs": [
    {
     "data": {
      "image/png": "[encoded data removed]",
      "text/plain": [
       "<Figure size 640x480 with 1 Axes>"
      ]
     },
     "metadata": {},
     "output_type": "display_data"
    }
   ],
   "source": [
    "title = \"Location of hills in Great Britain\"\n",
    "df.plot.scatter(x=\"Longitude\", y=\"Latitude\", marker=\"^\", s=1, title=title);"
   ]
  },
  {
   "cell_type": "markdown",
   "metadata": {
    "editable": true,
    "slideshow": {
     "slide_type": ""
    },
    "tags": []
   },
   "source": [
    "* In the hills example, lets colour the points by country."
   ]
  },
  {
   "cell_type": "code",
   "execution_count": 40,
   "metadata": {
    "editable": true,
    "slideshow": {
     "slide_type": ""
    },
    "tags": []
   },
   "outputs": [
    {
     "name": "stderr",
     "output_type": "stream",
     "text": [
      "No artists with labels found to put in legend.  Note that artists whose label start with an underscore are ignored when legend() is called with no argument.\n"
     ]
    },
    {
     "data": {
      "image/png": "[encoded data removed]",
      "text/plain": [
       "<Figure size 640x480 with 1 Axes>"
      ]
     },
     "metadata": {},
     "output_type": "display_data"
    }
   ],
   "source": [
    "# We can import a list of colours from matplotlib, and restructure it to create a country to colour map\n",
    "\n",
    "import matplotlib.colors as mcolors\n",
    "\n",
    "color_list = list(mcolors.TABLEAU_COLORS.values())\n",
    "country_list = list(df[\"Country\"].unique())\n",
    "color_map = dict(zip(country_list, color_list))\n",
    "\n",
    "# We can then create a lambda function that gets a colour from the map based on the country seen in the row (x)d\n",
    "df.plot.scatter(x=\"Longitude\", y=\"Latitude\", c=df[\"Country\"].apply(lambda x: color_map[x]), marker=\"^\", s=1, title=title).legend();"
   ]
  },
  {
   "cell_type": "markdown",
   "metadata": {
    "editable": true,
    "slideshow": {
     "slide_type": ""
    },
    "tags": []
   },
   "source": [
    "* To add a legend, things are getting sufficiently complicated that moving to a more verbose matplotlib plotting structure is helpful.\n",
    "* In the hills example, we will plot in a loop."
   ]
  },
  {
   "cell_type": "code",
   "execution_count": 41,
   "metadata": {
    "editable": true,
    "slideshow": {
     "slide_type": ""
    },
    "tags": []
   },
   "outputs": [
    {
     "data": {
      "image/png": "[encoded data removed]",
      "text/plain": [
       "<Figure size 640x480 with 1 Axes>"
      ]
     },
     "metadata": {},
     "output_type": "display_data"
    }
   ],
   "source": [
    "# First import matplotlib, and set up a plot\n",
    "import matplotlib.pyplot as plt\n",
    "\n",
    "fig, ax = plt.subplots()\n",
    "\n",
    "# Create a groupby object, grouping by country\n",
    "country_groups = df.groupby(\"Country\")\n",
    "\n",
    "# Loop through country groups, adding scatter data for hills\n",
    "for label, group in country_groups:\n",
    "    ax.scatter(group[\"Longitude\"], group[\"Latitude\"], s=1, marker=\"^\", c=color_map[label], label=label)\n",
    "\n",
    "# Format the plot axes and add a legend\n",
    "ax.set_title(title)\n",
    "ax.set_xlabel(\"Longitude\")\n",
    "ax.set_ylabel(\"Latitude\")\n",
    "ax.legend(markerscale=6.);\n",
    "    "
   ]
  }
 ],
 "metadata": {
  "kernelspec": {
   "display_name": "Python 3 (ipykernel)",
   "language": "python",
   "name": "python3"
  },
  "language_info": {
   "codemirror_mode": {
    "name": "ipython",
    "version": 3
   },
   "file_extension": ".py",
   "mimetype": "text/x-python",
   "name": "python",
   "nbconvert_exporter": "python",
   "pygments_lexer": "ipython3",
   "version": "3.9.19"
  }
 },
 "nbformat": 4,
 "nbformat_minor": 4
}
