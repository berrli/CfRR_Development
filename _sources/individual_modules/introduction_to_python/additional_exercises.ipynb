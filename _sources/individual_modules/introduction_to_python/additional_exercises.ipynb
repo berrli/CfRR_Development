{
 "cells": [
  {
   "cell_type": "markdown",
   "id": "6ceab7e0-0176-4311-80e8-d2950974025c",
   "metadata": {
    "editable": true,
    "slideshow": {
     "slide_type": ""
    },
    "tags": []
   },
   "source": [
    "# Additional Session 1 Exercises\n",
    "\n",
    "## Swapping the contents of variables\n",
    "\n",
    "Explain what the overall effect of this code is:"
   ]
  },
  {
   "cell_type": "code",
   "execution_count": 1,
   "id": "89bd4a3a-a081-41ea-9fe9-8a5a30fa2295",
   "metadata": {},
   "outputs": [],
   "source": [
    "left = 'L'\n",
    "right = 'R'\n",
    "\n",
    "temp = left\n",
    "left = right\n",
    "right = temp"
   ]
  },
  {
   "cell_type": "markdown",
   "id": "e97b9a10-83c2-450a-8b2b-28761f9eff6a",
   "metadata": {},
   "source": [
    "Compare it to:"
   ]
  },
  {
   "cell_type": "code",
   "execution_count": 2,
   "id": "7207e412-6f9a-44ab-ab0e-147f4da3be50",
   "metadata": {},
   "outputs": [],
   "source": [
    "left, right = right, left"
   ]
  },
  {
   "cell_type": "markdown",
   "id": "689ebbc7-f827-4d1c-8fe5-6ec21736db3f",
   "metadata": {
    "editable": true,
    "slideshow": {
     "slide_type": ""
    },
    "tags": []
   },
   "source": [
    "Do they always do the same thing? Which do you find easier to read?"
   ]
  },
  {
   "cell_type": "markdown",
   "id": "c6c80595-4203-4ad6-b56f-eba87909d71c",
   "metadata": {},
   "source": [
    "```{admonition} Solution\n",
    ":class: dropdown\n",
    "Both examples exchange the values of `left` and `right`. In the first case we used a temporary variable `temp` to keep the value of `left` before we overwrite it with the value of `right`. In the second case, `right` and `left` are packed into a tuple and then unpacked into `left` and `right`.\n",
    "```"
   ]
  },
  {
   "cell_type": "markdown",
   "id": "10beed77-f0c7-4f94-b285-69abb9011fc9",
   "metadata": {},
   "source": [
    "## In-Place Operators\n",
    "Python (and most other languages in the C family) provides in-place operators that work like this:"
   ]
  },
  {
   "cell_type": "code",
   "execution_count": 4,
   "id": "ea6ea05c-26a4-4e39-83fe-154c938fffa3",
   "metadata": {},
   "outputs": [
    {
     "name": "stdout",
     "output_type": "stream",
     "text": [
      "6\n"
     ]
    }
   ],
   "source": [
    "x = 1  # original value\n",
    "x += 1 # add one to x, assigning result back to x\n",
    "x *= 3 # multiply x by 3\n",
    "print(x)"
   ]
  },
  {
   "cell_type": "markdown",
   "id": "00a5e526-9b1a-41e2-aad1-047a8b1117b7",
   "metadata": {},
   "source": [
    "Write some code that sums the positive and negative numbers in a list separately, using in-place operators. Do you think the result is more or less readable than writing the same without in-place operators?"
   ]
  },
  {
   "cell_type": "markdown",
   "id": "55fc5845-9ac5-4af9-a672-4816d44cbdcd",
   "metadata": {
    "editable": true,
    "slideshow": {
     "slide_type": ""
    },
    "tags": []
   },
   "source": [
    "```{admonition} Solution\n",
    ":class: dropdown\n",
    "```python\n",
    "positive_sum = 0\n",
    "negative_sum = 0\n",
    "test_list = [3, 4, 6, 1, -1, -5, 0, 7, -8]\n",
    "for num in test_list:\n",
    "if num > 0:\n",
    "    positive_sum += num\n",
    "elif num == 0:\n",
    "    pass\n",
    "else:\n",
    "    negative_sum += num\n",
    "print(positive_sum, negative_sum)\n",
    "```\n",
    "\n",
    "Here `pass` means \"don't do anything\". In this particular case, it's not actually needed, since if `num == 0` neither sum needs to change, but it illustrates the use of `elif` and `pass`.\n",
    "```"
   ]
  },
  {
   "cell_type": "markdown",
   "id": "5bf35486-d07b-4202-a7e3-d44ee9378868",
   "metadata": {},
   "source": [
    "## Turn a String into a List\n",
    "\n",
    "Use a for-loop to convert the string \"hello\" into a list of letters: \n",
    "[\"h\", \"e\", \"l\", \"l\", \"o\"]\n"
   ]
  },
  {
   "cell_type": "markdown",
   "id": "842c2040-a33d-4938-a611-671f6d0b7579",
   "metadata": {},
   "source": [
    "```{admonition} Solution\n",
    ":class: dropdown\n",
    "```python\n",
    "my_list = []\n",
    "for char in \"hello\":\n",
    "    my_list.append(char)\n",
    "print(my_list)\n",
    "```\n",
    "```\n",
    "\n"
   ]
  },
  {
   "cell_type": "markdown",
   "id": "ed06f8de-22ca-4018-962d-a6c0dc94fc78",
   "metadata": {},
   "source": [
    "## Reverse a String\n",
    "Knowing that two strings can be concatenated using the `+` operator, write a loop that takes a string and produces a new string with the characters in reverse order, so `'Newton'` becomes `'notweN'`."
   ]
  },
  {
   "cell_type": "markdown",
   "id": "6e16c171-296f-48fb-bfe0-71764d641c6a",
   "metadata": {},
   "source": [
    "```{admonition} Solution\n",
    ":class: dropdown\n",
    "```python\n",
    "newstring = ''\n",
    "oldstring = 'Newton'\n",
    "for char in oldstring:\n",
    "    newstring = char + newstring\n",
    "print(newstring)\n",
    "```\n",
    "```\n",
    "\n"
   ]
  }
 ],
 "metadata": {
  "kernelspec": {
   "display_name": "Python 3 (ipykernel)",
   "language": "python",
   "name": "python3"
  },
  "language_info": {
   "codemirror_mode": {
    "name": "ipython",
    "version": 3
   },
   "file_extension": ".py",
   "mimetype": "text/x-python",
   "name": "python",
   "nbconvert_exporter": "python",
   "pygments_lexer": "ipython3",
   "version": "3.12.2"
  }
 },
 "nbformat": 4,
 "nbformat_minor": 5
}
