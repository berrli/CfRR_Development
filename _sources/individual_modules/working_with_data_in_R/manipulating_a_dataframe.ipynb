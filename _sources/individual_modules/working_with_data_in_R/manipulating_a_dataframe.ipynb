{
 "cells": [
  {
   "cell_type": "markdown",
   "id": "bf6c5fe2-7b14-49bd-870c-5054eba21b6d",
   "metadata": {
    "editable": true,
    "slideshow": {
     "slide_type": ""
    },
    "tags": []
   },
   "source": [
    "# Manipulating A Dataframe\n",
    "\n",
    "## Learning Objectives\n",
    "- Learn how to subset data by selecting specific columns and filtering rows based on conditions using the `dplyr` package\n",
    "- Understand how to create new variables and rename existing ones within a dataframe\n",
    "- Understand sorting data based on one or more variables\n",
    "- Learn how to summarise and aggregate data, including calculating summary statistics for the entire dataset and for grouped data\n",
    "- Develop techniques for identifying and filtering out missing values in a dataset\n",
    "\n",
    "\n",
    "## Introduction\n",
    "\n",
    "The package `dplyr` from the Tidyverse contains functions for manipulating\n",
    "dataframes. We will use the `penguins` dataset contained in the `palmerpenguins`\n",
    "package. Note that this data is already in tidy format."
   ]
  },
  {
   "cell_type": "code",
   "execution_count": 1,
   "id": "f1771f85-781c-433b-9dc0-1a6d23aa42cf",
   "metadata": {
    "editable": true,
    "slideshow": {
     "slide_type": ""
    },
    "tags": [
     "remove-input"
    ]
   },
   "outputs": [],
   "source": [
    "%load_ext rpy2.ipython"
   ]
  },
  {
   "cell_type": "code",
   "execution_count": 2,
   "id": "60931db4-28ae-423a-a3b6-3c21e6d1f8b1",
   "metadata": {
    "editable": true,
    "slideshow": {
     "slide_type": ""
    },
    "tags": []
   },
   "outputs": [
    {
     "name": "stdout",
     "output_type": "stream",
     "text": [
      "# A tibble: 6 × 8\n",
      "  species island    bill_length_mm bill_depth_mm flipper_length_mm body_mass_g\n",
      "  <fct>   <fct>              <dbl>         <dbl>             <int>       <int>\n",
      "1 Adelie  Torgersen           39.1          18.7               181        3750\n",
      "2 Adelie  Torgersen           39.5          17.4               186        3800\n",
      "3 Adelie  Torgersen           40.3          18                 195        3250\n",
      "4 Adelie  Torgersen           NA            NA                  NA          NA\n",
      "5 Adelie  Torgersen           36.7          19.3               193        3450\n",
      "6 Adelie  Torgersen           39.3          20.6               190        3650\n",
      "# ℹ 2 more variables: sex <fct>, year <int>\n"
     ]
    }
   ],
   "source": [
    "%%R\n",
    "library(palmerpenguins)  # loads `penguins` data\n",
    "head(penguins)"
   ]
  },
  {
   "cell_type": "markdown",
   "id": "3e64ebff-29f1-45ba-8c45-57c91848f550",
   "metadata": {},
   "source": [
    "## Sub-setting data\n",
    "\n",
    "For taking subsets of data, we can use the functions `select` and\n",
    "`filter` from `dplyr`:\n",
    "\n",
    "- `dplyr::select` is used to keep only specified **columns** of the dataframe,\n",
    "  i.e. to 'select' certain variables from the data.\n",
    "- `dplyr::filter` is used to keep **rows** that meet some specified condition,\n",
    "  i.e. to 'filter' the observations in the data.\n",
    "\n",
    "\n",
    "### Selecting columns\n",
    "\n",
    "To use `select`, name the columns to keep after supplying the dataframe\n",
    "(or tibble), like so:"
   ]
  },
  {
   "cell_type": "markdown",
   "id": "e9f42dca-d035-4693-b2f4-3f8911cd3cea",
   "metadata": {},
   "source": [
    "```R\n",
    "dplyr::select(data, column1, column2, ...)\n",
    "```"
   ]
  },
  {
   "cell_type": "markdown",
   "id": "dccea3d4-a2b1-428d-992e-d2bbd88cfa92",
   "metadata": {},
   "source": [
    "**Note**: We _don't_ use strings to specify the columns! Instead, we write them\n",
    "as if they were variables e.g. `dplyr::select(data, column1)` instead of\n",
    "`dplyr::select(data, \"column1\")`.\n",
    "\n",
    "Let's first check the column names in our tibble:"
   ]
  },
  {
   "cell_type": "code",
   "execution_count": 3,
   "id": "41f9b522-a64d-4773-9942-4496fa431829",
   "metadata": {},
   "outputs": [
    {
     "name": "stdout",
     "output_type": "stream",
     "text": [
      "[1] \"species\"           \"island\"            \"bill_length_mm\"   \n",
      "[4] \"bill_depth_mm\"     \"flipper_length_mm\" \"body_mass_g\"      \n",
      "[7] \"sex\"               \"year\"             \n"
     ]
    }
   ],
   "source": [
    "%%R\n",
    "colnames(penguins)"
   ]
  },
  {
   "cell_type": "markdown",
   "id": "9c3a3acf-cb36-46bf-9478-60da1ca772c7",
   "metadata": {},
   "source": [
    "Now let's select the 'species', 'year', 'sex', and 'body mass' columns:"
   ]
  },
  {
   "cell_type": "code",
   "execution_count": 4,
   "id": "3a6c7b88-1670-4817-883e-9c9072d785a9",
   "metadata": {},
   "outputs": [
    {
     "name": "stdout",
     "output_type": "stream",
     "text": [
      "# A tibble: 6 × 4\n",
      "  species  year sex    body_mass_g\n",
      "  <fct>   <int> <fct>        <int>\n",
      "1 Adelie   2007 male          3750\n",
      "2 Adelie   2007 female        3800\n",
      "3 Adelie   2007 female        3250\n",
      "4 Adelie   2007 <NA>            NA\n",
      "5 Adelie   2007 female        3450\n",
      "6 Adelie   2007 male          3650\n"
     ]
    }
   ],
   "source": [
    "%%R\n",
    "# Select species, year, sex, and body mass\n",
    "penguins_selected <- dplyr::select(penguins, species, year, sex, body_mass_g)\n",
    "\n",
    "head(penguins_selected)"
   ]
  },
  {
   "cell_type": "markdown",
   "id": "f3dcb268-28b4-402d-95a4-e4fded1bc81f",
   "metadata": {},
   "source": [
    "The `select` function can also be used to _remove_ columns by using the `-`\n",
    "operator. For example, we may want to remove only two columns, 'island' and\n",
    "'year':"
   ]
  },
  {
   "cell_type": "code",
   "execution_count": 5,
   "id": "2da60733-d7ec-49c1-9db3-ae0a03df5e64",
   "metadata": {},
   "outputs": [
    {
     "name": "stdout",
     "output_type": "stream",
     "text": [
      "[1] \"species\"           \"bill_length_mm\"    \"bill_depth_mm\"    \n",
      "[4] \"flipper_length_mm\" \"body_mass_g\"       \"sex\"              \n"
     ]
    }
   ],
   "source": [
    "%%R\n",
    "# Remove the island and year columns by using `-`.\n",
    "penguins_deselected <- dplyr::select(penguins, -island, -year)\n",
    "\n",
    "# Take a look at the columns\n",
    "colnames(penguins_deselected)"
   ]
  },
  {
   "cell_type": "markdown",
   "id": "46a09905-983a-44b7-8b84-25ac7454b941",
   "metadata": {},
   "source": [
    "### Filtering rows\n",
    "\n",
    "The `filter` function from `dplyr` is used to keep rows from a dataframe/tibble\n",
    "that meet a _predicate condition_ in terms of the column values, i.e. a\n",
    "statement that is either `TRUE` or `FALSE`.\n",
    "\n",
    "\n",
    "#### Comparitive operators\n",
    "\n",
    "One way to create predicate conditions is to use the\n",
    "[comparative operators](https://www.w3schools.com/r/r_operators.asp), which\n",
    "should be familiar:\n",
    "\n",
    "```\n",
    "x == y   : equal\n",
    "x != y   : not equal\n",
    "x > y    : greater than\n",
    "x < y    : less than\n",
    "x >= y   : greater than or equal\n",
    "x <= y   : less than or equal\n",
    "```\n",
    "\n",
    "For example, suppose we want to keep all penguin data only from the year\n",
    "2008. In base R, we could accomplish this by indexing on a boolean vector\n",
    "created using the `==` operator:"
   ]
  },
  {
   "cell_type": "code",
   "execution_count": 6,
   "id": "03e7919c-808e-4a57-b042-f0b8388d22a2",
   "metadata": {},
   "outputs": [
    {
     "name": "stdout",
     "output_type": "stream",
     "text": [
      " [1] FALSE FALSE FALSE FALSE FALSE FALSE FALSE FALSE FALSE FALSE FALSE FALSE\n",
      "[13] FALSE FALSE FALSE FALSE FALSE FALSE FALSE FALSE FALSE FALSE FALSE FALSE\n",
      "[25] FALSE FALSE FALSE FALSE FALSE FALSE FALSE FALSE FALSE FALSE FALSE FALSE\n",
      "[37] FALSE FALSE FALSE FALSE FALSE FALSE FALSE FALSE FALSE FALSE FALSE FALSE\n",
      "[49] FALSE FALSE  TRUE  TRUE  TRUE  TRUE  TRUE  TRUE  TRUE  TRUE  TRUE  TRUE\n",
      "[61]  TRUE  TRUE  TRUE  TRUE  TRUE  TRUE  TRUE  TRUE  TRUE  TRUE  TRUE  TRUE\n",
      "[73]  TRUE  TRUE  TRUE\n"
     ]
    }
   ],
   "source": [
    "%%R\n",
    "# Create boolean vector indicating where year = 2008\n",
    "is_year_2008 <- penguins$year == 2008\n",
    "head(is_year_2008, n = 75)"
   ]
  },
  {
   "cell_type": "code",
   "execution_count": 7,
   "id": "06b9c0da-1d74-4de0-aead-67925634ee2b",
   "metadata": {},
   "outputs": [
    {
     "name": "stdout",
     "output_type": "stream",
     "text": [
      "# A tibble: 6 × 8\n",
      "  species island bill_length_mm bill_depth_mm flipper_length_mm body_mass_g\n",
      "  <fct>   <fct>           <dbl>         <dbl>             <int>       <int>\n",
      "1 Adelie  Biscoe           39.6          17.7               186        3500\n",
      "2 Adelie  Biscoe           40.1          18.9               188        4300\n",
      "3 Adelie  Biscoe           35            17.9               190        3450\n",
      "4 Adelie  Biscoe           42            19.5               200        4050\n",
      "5 Adelie  Biscoe           34.5          18.1               187        2900\n",
      "6 Adelie  Biscoe           41.4          18.6               191        3700\n",
      "# ℹ 2 more variables: sex <fct>, year <int>\n"
     ]
    }
   ],
   "source": [
    "%%R\n",
    "# Index on this vector\n",
    "head(penguins[is_year_2008,])"
   ]
  },
  {
   "cell_type": "markdown",
   "id": "69b569fd-20eb-433a-98f4-16c917abd7f4",
   "metadata": {},
   "source": [
    "The `filter` function works by specifying the predicate condition for filtering\n",
    "in terms of the column names, like so:"
   ]
  },
  {
   "cell_type": "markdown",
   "id": "127a099c-c6bb-4c4a-b1b2-663d5b3f98ed",
   "metadata": {},
   "source": [
    "```R\n",
    "dplyr::filter(data, condition)  # keep rows satisfying 'condition'\n",
    "```"
   ]
  },
  {
   "cell_type": "markdown",
   "id": "af302f98-2125-4778-9a54-6cba8f8974af",
   "metadata": {},
   "source": [
    "So to filter the penguins data to keep only the 2008 observations:"
   ]
  },
  {
   "cell_type": "code",
   "execution_count": 8,
   "id": "900bf414-74dc-4b24-a466-3958104d83e8",
   "metadata": {},
   "outputs": [
    {
     "name": "stdout",
     "output_type": "stream",
     "text": [
      "# A tibble: 6 × 8\n",
      "  species island bill_length_mm bill_depth_mm flipper_length_mm body_mass_g\n",
      "  <fct>   <fct>           <dbl>         <dbl>             <int>       <int>\n",
      "1 Adelie  Biscoe           39.6          17.7               186        3500\n",
      "2 Adelie  Biscoe           40.1          18.9               188        4300\n",
      "3 Adelie  Biscoe           35            17.9               190        3450\n",
      "4 Adelie  Biscoe           42            19.5               200        4050\n",
      "5 Adelie  Biscoe           34.5          18.1               187        2900\n",
      "6 Adelie  Biscoe           41.4          18.6               191        3700\n",
      "# ℹ 2 more variables: sex <fct>, year <int>\n"
     ]
    }
   ],
   "source": [
    "%%R\n",
    "penguins_2008 <- dplyr::filter(penguins, year == 2008)\n",
    "head(penguins_2008)"
   ]
  },
  {
   "cell_type": "markdown",
   "id": "c19e1107-a863-4ce3-93f8-72c0d4c27248",
   "metadata": {},
   "source": [
    "#### Logical operators\n",
    "\n",
    "We can build more complicated predicate conditions by using the\n",
    "[logical operators](https://www.w3schools.com/r/r_operators.asp) on columns:\n",
    "\n",
    "```\n",
    "A & B   : A AND B   e.g. col1 == 2 & col2 == 10\n",
    "A | B   : A OR B    e.g. col1 > 2 | col2 != 10\n",
    "!A      : NOT A     e.g. !(col1 < 2)\n",
    "```\n",
    "\n",
    "In addition, `filter` allows us to specify multiple AND operations by listing\n",
    "out multiple predicate conditions:\n",
    "\n",
    "```\n",
    "dplyr::filter(data, condition1, condition2, ...)  # keep rows satisfying\n",
    "                                                  # 'condition1' AND 'condition2' AND ...\n",
    "```\n",
    "\n",
    "Some examples on the penguin data:"
   ]
  },
  {
   "cell_type": "code",
   "execution_count": 9,
   "id": "26ff5dd6-53bc-408a-898c-6f35d28c0d2b",
   "metadata": {},
   "outputs": [
    {
     "name": "stdout",
     "output_type": "stream",
     "text": [
      "# A tibble: 256 × 8\n",
      "   species island    bill_length_mm bill_depth_mm flipper_length_mm body_mass_g\n",
      "   <fct>   <fct>              <dbl>         <dbl>             <int>       <int>\n",
      " 1 Adelie  Torgersen           39.1          18.7               181        3750\n",
      " 2 Adelie  Torgersen           39.5          17.4               186        3800\n",
      " 3 Adelie  Torgersen           40.3          18                 195        3250\n",
      " 4 Adelie  Torgersen           NA            NA                  NA          NA\n",
      " 5 Adelie  Torgersen           36.7          19.3               193        3450\n",
      " 6 Adelie  Torgersen           39.3          20.6               190        3650\n",
      " 7 Adelie  Torgersen           38.9          17.8               181        3625\n",
      " 8 Adelie  Torgersen           39.2          19.6               195        4675\n",
      " 9 Adelie  Torgersen           34.1          18.1               193        3475\n",
      "10 Adelie  Torgersen           42            20.2               190        4250\n",
      "# ℹ 246 more rows\n",
      "# ℹ 2 more variables: sex <fct>, year <int>\n",
      "# ℹ Use `print(n = ...)` to see more rows\n"
     ]
    }
   ],
   "source": [
    "%%R\n",
    "# Observations of male penguins from the year 2008:\n",
    "dplyr::filter(penguins, sex == \"male\" & year == 2008)  # using &\n",
    "dplyr::filter(penguins, sex == \"male\", year == 2008)  # listing multiple conditions in filter\n",
    "\n",
    "# Observations of penguins with bill length > 40mm or bill depth < 20mm \n",
    "dplyr::filter(penguins, bill_length_mm > 40 | bill_depth_mm < 20)\n",
    "\n",
    "# Observations except those of male penguins on the island of Biscoe\n",
    "dplyr::filter(penguins, !(sex == \"male\" & island == \"Biscoe\"))"
   ]
  },
  {
   "cell_type": "markdown",
   "id": "ad30a928-55ab-4887-92c4-96e83014b4b2",
   "metadata": {},
   "source": [
    "#### Filtering missing values\n",
    "\n",
    "There are other functions we can use to evaluate columns and get a true/false\n",
    "output. An important one is `is.na()`. This function evaluates a column and\n",
    "reports back a `TRUE` value when there is an `NA` in that column's row. For\n",
    "example, we can use the `head()` function to look at the top 6 values of the\n",
    "`sex` column, and see that there is an NA in the fourth row."
   ]
  },
  {
   "cell_type": "code",
   "execution_count": 10,
   "id": "6aa601d3-7802-42bf-9b50-469a49e9c9f1",
   "metadata": {},
   "outputs": [
    {
     "name": "stdout",
     "output_type": "stream",
     "text": [
      "[1] male   female female <NA>   female male  \n",
      "Levels: female male\n"
     ]
    }
   ],
   "source": [
    "%%R\n",
    "head(penguins$sex)"
   ]
  },
  {
   "cell_type": "markdown",
   "id": "2ec8bcea-3a6e-482b-a0ff-092462d6d64e",
   "metadata": {},
   "source": [
    "The `is.na` function evaluates the whole column and gives us `TRUE`s whenever it\n",
    "sees an NA. Not surprisingly, we see a `TRUE` in the fourth observation.  "
   ]
  },
  {
   "cell_type": "code",
   "execution_count": 11,
   "id": "5586f7db-681b-4ec9-84f7-1f9ba6bdd4de",
   "metadata": {},
   "outputs": [
    {
     "name": "stdout",
     "output_type": "stream",
     "text": [
      "[1] FALSE FALSE FALSE  TRUE FALSE FALSE\n"
     ]
    }
   ],
   "source": [
    "%%R\n",
    "head(is.na(penguins$sex))"
   ]
  },
  {
   "cell_type": "markdown",
   "id": "d18bec31-ef92-4ddf-9dc0-5960c2a997b1",
   "metadata": {},
   "source": [
    "Since `is.na()` gives us a `TRUE`/`FALSE` vector, we can use it with `filter`.\n",
    "The following gives us all rows where the sex column has missing data (i.e. is\n",
    "set to `NA`):"
   ]
  },
  {
   "cell_type": "code",
   "execution_count": 12,
   "id": "90eab98c-f24d-4371-ac86-f7ba8ea20236",
   "metadata": {},
   "outputs": [
    {
     "name": "stdout",
     "output_type": "stream",
     "text": [
      "# A tibble: 11 × 8\n",
      "   species island    bill_length_mm bill_depth_mm flipper_length_mm body_mass_g\n",
      "   <fct>   <fct>              <dbl>         <dbl>             <int>       <int>\n",
      " 1 Adelie  Torgersen           NA            NA                  NA          NA\n",
      " 2 Adelie  Torgersen           34.1          18.1               193        3475\n",
      " 3 Adelie  Torgersen           42            20.2               190        4250\n",
      " 4 Adelie  Torgersen           37.8          17.1               186        3300\n",
      " 5 Adelie  Torgersen           37.8          17.3               180        3700\n",
      " 6 Adelie  Dream               37.5          18.9               179        2975\n",
      " 7 Gentoo  Biscoe              44.5          14.3               216        4100\n",
      " 8 Gentoo  Biscoe              46.2          14.4               214        4650\n",
      " 9 Gentoo  Biscoe              47.3          13.8               216        4725\n",
      "10 Gentoo  Biscoe              44.5          15.7               217        4875\n",
      "11 Gentoo  Biscoe              NA            NA                  NA          NA\n",
      "# ℹ 2 more variables: sex <fct>, year <int>\n"
     ]
    }
   ],
   "source": [
    "%%R\n",
    "dplyr::filter(penguins, is.na(sex))"
   ]
  },
  {
   "cell_type": "markdown",
   "id": "2fd0e184-6bd8-4918-a18f-ed9a38784a85",
   "metadata": {},
   "source": [
    "To do the reverse, i.e. keep only the observations where the sex value is not\n",
    "missing, combine `is.na` with the NOT operator:"
   ]
  },
  {
   "cell_type": "code",
   "execution_count": 13,
   "id": "11a7c88f-cd19-41da-9d11-df19c3ccd795",
   "metadata": {},
   "outputs": [
    {
     "name": "stdout",
     "output_type": "stream",
     "text": [
      "# A tibble: 333 × 8\n",
      "   species island    bill_length_mm bill_depth_mm flipper_length_mm body_mass_g\n",
      "   <fct>   <fct>              <dbl>         <dbl>             <int>       <int>\n",
      " 1 Adelie  Torgersen           39.1          18.7               181        3750\n",
      " 2 Adelie  Torgersen           39.5          17.4               186        3800\n",
      " 3 Adelie  Torgersen           40.3          18                 195        3250\n",
      " 4 Adelie  Torgersen           36.7          19.3               193        3450\n",
      " 5 Adelie  Torgersen           39.3          20.6               190        3650\n",
      " 6 Adelie  Torgersen           38.9          17.8               181        3625\n",
      " 7 Adelie  Torgersen           39.2          19.6               195        4675\n",
      " 8 Adelie  Torgersen           41.1          17.6               182        3200\n",
      " 9 Adelie  Torgersen           38.6          21.2               191        3800\n",
      "10 Adelie  Torgersen           34.6          21.1               198        4400\n",
      "# ℹ 323 more rows\n",
      "# ℹ 2 more variables: sex <fct>, year <int>\n",
      "# ℹ Use `print(n = ...)` to see more rows\n"
     ]
    }
   ],
   "source": [
    "%%R\n",
    "dplyr::filter(penguins, !is.na(sex))"
   ]
  },
  {
   "cell_type": "markdown",
   "id": "f9510c9d-a0e6-4e8f-a0c2-67e4cdf39a94",
   "metadata": {},
   "source": [
    "### Exercise: subsetting data\n",
    "\n",
    "Write code to extract data for Gentoo penguins with weight between 4.8kg and\n",
    "5.2kg (inclusive). Only keep the species, sex and body mass columns in the\n",
    "output. Give the numbers of resulting observations for male penguins, female\n",
    "penguins and penguins with unknown sex."
   ]
  },
  {
   "cell_type": "markdown",
   "id": "1d54aa4e-1607-48ea-9dac-a264e9401085",
   "metadata": {
    "editable": true,
    "slideshow": {
     "slide_type": ""
    },
    "tags": []
   },
   "source": [
    "\n",
    "\n",
    "\n",
    "\n",
    "```{admonition} Solution\n",
    ":class: dropdown\n",
    "``` R\n",
    "%%R\n",
    "penguins_subset <- dplyr::filter(penguins,\n",
    "                                 species == \"Gentoo\",\n",
    "                                 4800 <= body_mass_g & body_mass_g <= 5200)\n",
    "penguins_subset <- dplyr::select(penguins_subset, species, sex, body_mass_g)\n",
    "penguins_subset\n",
    "\n",
    "cat(\"Number of male penguins:\", nrow(dplyr::filter(penguins_subset, sex == \"male\")), \"\\n\")\n",
    "cat(\"Number of female penguins:\", nrow(dplyr::filter(penguins_subset, sex == \"female\")), \"\\n\")\n",
    "cat(\"Number of penguins of unknown sex:\", nrow(dplyr::filter(penguins_subset, is.na(sex))), \"\\n\")\n",
    "```\n",
    "\n",
    "\n"
   ]
  },
  {
   "cell_type": "markdown",
   "id": "f31655c2-4b53-40db-8c68-c0667ea5f60e",
   "metadata": {
    "editable": true,
    "slideshow": {
     "slide_type": ""
    },
    "tags": []
   },
   "source": [
    "## Creating new variables and renaming variables\n",
    "\n",
    "We often want to make a new column with some updated or transformed value. We\n",
    "can use the `mutate` function in `dplyr` for this:\n",
    "\n",
    "```\n",
    "# value1, value2,... are expressions, possibly involving column names\n",
    "\n",
    "dplyr::mutate(data, new_column1 = value1, new_column2 = value2, ...)\n",
    "```\n",
    "\n",
    "For example, to add a column of IDs for identifying each row in the data:\n"
   ]
  },
  {
   "cell_type": "code",
   "execution_count": 14,
   "id": "b510a4d4-4927-47e6-b157-55af4101e65d",
   "metadata": {},
   "outputs": [
    {
     "name": "stdout",
     "output_type": "stream",
     "text": [
      "# A tibble: 6 × 9\n",
      "     id species island    bill_length_mm bill_depth_mm flipper_length_mm\n",
      "  <int> <fct>   <fct>              <dbl>         <dbl>             <int>\n",
      "1     1 Adelie  Torgersen           39.1          18.7               181\n",
      "2     2 Adelie  Torgersen           39.5          17.4               186\n",
      "3     3 Adelie  Torgersen           40.3          18                 195\n",
      "4     4 Adelie  Torgersen           NA            NA                  NA\n",
      "5     5 Adelie  Torgersen           36.7          19.3               193\n",
      "6     6 Adelie  Torgersen           39.3          20.6               190\n",
      "# ℹ 3 more variables: body_mass_g <int>, sex <fct>, year <int>\n"
     ]
    }
   ],
   "source": [
    "%%R\n",
    "# Add column of ID numbers\n",
    "penguins_with_ids <- dplyr::mutate(penguins, id = 1:nrow(penguins))\n",
    "\n",
    "# Optional: Put the ID column at the beginning of the dataframe\n",
    "penguins_with_ids <- dplyr::relocate(penguins_with_ids, id, .before = 1)\n",
    "\n",
    "head(penguins_with_ids)"
   ]
  },
  {
   "cell_type": "markdown",
   "id": "36261a05-7535-4ce6-b98a-49e4267d430e",
   "metadata": {},
   "source": [
    "Another example: if we wanted to calculate a new value, the ratio of bill length\n",
    "to bill depth, we could do the following"
   ]
  },
  {
   "cell_type": "code",
   "execution_count": 15,
   "id": "8bc7e936-9f1e-48f0-af20-0d828841f65d",
   "metadata": {},
   "outputs": [
    {
     "name": "stdout",
     "output_type": "stream",
     "text": [
      "# A tibble: 344 × 9\n",
      "   species island    bill_length_mm bill_depth_mm flipper_length_mm body_mass_g\n",
      "   <fct>   <fct>              <dbl>         <dbl>             <int>       <int>\n",
      " 1 Adelie  Torgersen           39.1          18.7               181        3750\n",
      " 2 Adelie  Torgersen           39.5          17.4               186        3800\n",
      " 3 Adelie  Torgersen           40.3          18                 195        3250\n",
      " 4 Adelie  Torgersen           NA            NA                  NA          NA\n",
      " 5 Adelie  Torgersen           36.7          19.3               193        3450\n",
      " 6 Adelie  Torgersen           39.3          20.6               190        3650\n",
      " 7 Adelie  Torgersen           38.9          17.8               181        3625\n",
      " 8 Adelie  Torgersen           39.2          19.6               195        4675\n",
      " 9 Adelie  Torgersen           34.1          18.1               193        3475\n",
      "10 Adelie  Torgersen           42            20.2               190        4250\n",
      "# ℹ 334 more rows\n",
      "# ℹ 3 more variables: sex <fct>, year <int>, bill_ratio <dbl>\n",
      "# ℹ Use `print(n = ...)` to see more rows\n"
     ]
    }
   ],
   "source": [
    "%%R\n",
    "dplyr::mutate(penguins, bill_ratio = bill_length_mm / bill_depth_mm)"
   ]
  },
  {
   "cell_type": "markdown",
   "id": "9549ed37-6f87-4d26-9997-6b829e0e03b8",
   "metadata": {},
   "source": [
    "**Note**: the output of mutate is not just a new column on its own,\n",
    "but the whole dataframe with the new column appended. To update `penguins` to\n",
    "have the new column, we need to overwrite it:"
   ]
  },
  {
   "cell_type": "code",
   "execution_count": 16,
   "id": "a75fe9a0-e532-4037-8448-50be1316199d",
   "metadata": {},
   "outputs": [
    {
     "name": "stdout",
     "output_type": "stream",
     "text": [
      "[1] \"species\"           \"island\"            \"bill_length_mm\"   \n",
      "[4] \"bill_depth_mm\"     \"flipper_length_mm\" \"body_mass_g\"      \n",
      "[7] \"sex\"               \"year\"              \"bill_ratio\"       \n"
     ]
    }
   ],
   "source": [
    "%%R\n",
    "penguins <- dplyr::mutate(penguins, bill_ratio = bill_length_mm / bill_depth_mm)\n",
    "colnames(penguins)"
   ]
  },
  {
   "cell_type": "markdown",
   "id": "e722b59f-d492-41f1-a46b-b682ef7d5f4c",
   "metadata": {},
   "source": [
    "When we just want to change the name of a column, we can use the `rename`\n",
    "function in `dplyr`:"
   ]
  },
  {
   "cell_type": "markdown",
   "id": "82c2a871-3c96-4dc3-b22e-c8eeb0f8e4c3",
   "metadata": {},
   "source": [
    "```R\n",
    "dplyr::rename(data, New_column_name1 = Old_column_name1, New_column_name2 = Old_column_name2, ...)\n",
    "```"
   ]
  },
  {
   "cell_type": "markdown",
   "id": "7f8ad4a6-1804-44ce-9590-068423674256",
   "metadata": {},
   "source": [
    "For example, we could change the name of some variables to remove the units\n",
    "(probably not recommended in general, but it serves as an example):"
   ]
  },
  {
   "cell_type": "code",
   "execution_count": 17,
   "id": "fdc49b5c-ea51-43ac-9657-70f1bb4dab8f",
   "metadata": {},
   "outputs": [
    {
     "name": "stdout",
     "output_type": "stream",
     "text": [
      "[1] \"species\"        \"island\"         \"bill_length\"    \"bill_depth\"    \n",
      "[5] \"flipper_length\" \"body_mass\"      \"sex\"            \"year\"          \n",
      "[9] \"bill_ratio\"    \n"
     ]
    }
   ],
   "source": [
    "%%R\n",
    "penguins_renamed <- dplyr::rename(penguins,\n",
    "                                  bill_length = bill_length_mm,\n",
    "                                  bill_depth = bill_depth_mm,\n",
    "                                  flipper_length = flipper_length_mm,\n",
    "                                  body_mass = body_mass_g\n",
    "                                  )\n",
    "colnames(penguins_renamed)"
   ]
  },
  {
   "cell_type": "markdown",
   "id": "819f97c8-778b-4bf2-8823-7c58b23942c2",
   "metadata": {},
   "source": [
    "### Exercise: creating variables\n",
    "\n",
    "Update the `penguins` dataframe so that it contains an ID column\n",
    "_with IDs represented as strings_."
   ]
  },
  {
   "cell_type": "markdown",
   "id": "e525219e-5f54-4513-8db9-cedbcd5d0851",
   "metadata": {
    "editable": true,
    "slideshow": {
     "slide_type": ""
    },
    "tags": []
   },
   "source": [
    "\n",
    "\n",
    "\n",
    "\n",
    "```{admonition} Solution\n",
    ":class: dropdown\n",
    "``` R\n",
    "%%R\n",
    "# Solution 1\n",
    "penguins <- dplyr::mutate(penguins, id = as.character(1:nrow(penguins)))\n",
    "\n",
    "# Solution 2\n",
    "penguins <- dplyr::mutate(penguins, id = 1:nrow(penguins))  # int IDs\n",
    "penguins <- dplyr::mutate(penguins, id = as.character(id))  # update column to strings\n",
    "```\n",
    "\n",
    "\n",
    "\n",
    "\n"
   ]
  },
  {
   "cell_type": "markdown",
   "id": "9bf7d750-a0df-4788-a259-8e7776c3b243",
   "metadata": {
    "editable": true,
    "slideshow": {
     "slide_type": ""
    },
    "tags": []
   },
   "source": [
    "## Sorting observations\n",
    "\n",
    "We can sort the rows of data by the value of a particular column using the\n",
    "`arrange` function in `dplyr`. By default, the sorting is performed in increasing\n",
    "order, although we can use the `desc()` function on the column to sort in\n",
    "descending order:"
   ]
  },
  {
   "cell_type": "markdown",
   "id": "6b041931-bce6-4d63-8961-73f6f736f816",
   "metadata": {
    "editable": true,
    "slideshow": {
     "slide_type": ""
    },
    "tags": []
   },
   "source": [
    "```R\n",
    "dplyr::arrange(data, col)  # sort rows by ascending order of values from column\n",
    "                           # `col`\n",
    "\n",
    "dplyr::arrange(data, dplyr::desc(col))  # sort rows by descending order of\n",
    "                                        # values from column `col`\n",
    "```"
   ]
  },
  {
   "cell_type": "markdown",
   "id": "6cc46b28-1a78-401d-92df-91b0013bc3a8",
   "metadata": {
    "editable": true,
    "slideshow": {
     "slide_type": ""
    },
    "tags": []
   },
   "source": [
    "For example, to sort the `penguins` data by descending value of flipper length:"
   ]
  },
  {
   "cell_type": "code",
   "execution_count": 19,
   "id": "b27cbbce-aba2-48e8-ad90-04e7ed3ffd5f",
   "metadata": {
    "editable": true,
    "slideshow": {
     "slide_type": ""
    },
    "tags": []
   },
   "outputs": [
    {
     "name": "stdout",
     "output_type": "stream",
     "text": [
      "# A tibble: 344 × 9\n",
      "   species island bill_length_mm bill_depth_mm flipper_length_mm body_mass_g\n",
      "   <fct>   <fct>           <dbl>         <dbl>             <int>       <int>\n",
      " 1 Gentoo  Biscoe           54.3          15.7               231        5650\n",
      " 2 Gentoo  Biscoe           50            16.3               230        5700\n",
      " 3 Gentoo  Biscoe           59.6          17                 230        6050\n",
      " 4 Gentoo  Biscoe           49.8          16.8               230        5700\n",
      " 5 Gentoo  Biscoe           48.6          16                 230        5800\n",
      " 6 Gentoo  Biscoe           52.1          17                 230        5550\n",
      " 7 Gentoo  Biscoe           51.5          16.3               230        5500\n",
      " 8 Gentoo  Biscoe           55.1          16                 230        5850\n",
      " 9 Gentoo  Biscoe           49.5          16.2               229        5800\n",
      "10 Gentoo  Biscoe           49.8          15.9               229        5950\n",
      "# ℹ 334 more rows\n",
      "# ℹ 3 more variables: sex <fct>, year <int>, bill_ratio <dbl>\n",
      "# ℹ Use `print(n = ...)` to see more rows\n"
     ]
    }
   ],
   "source": [
    "%%R\n",
    "penguins_sorted_flipper <- dplyr::arrange(penguins, dplyr::desc(flipper_length_mm))\n",
    "penguins_sorted_flipper"
   ]
  },
  {
   "cell_type": "markdown",
   "id": "2a706ee1-79cf-4469-a5c7-15608885854f",
   "metadata": {
    "editable": true,
    "slideshow": {
     "slide_type": ""
    },
    "tags": []
   },
   "source": [
    "### Exercise: sorting\n",
    "\n",
    "Sort the `penguins` data by the id column we created in the previous exercise.\n",
    "Explain the resulting order on the id column."
   ]
  },
  {
   "cell_type": "markdown",
   "id": "31898bcb-6cb3-4734-bef2-43228dcd0d0e",
   "metadata": {
    "editable": true,
    "slideshow": {
     "slide_type": ""
    },
    "tags": []
   },
   "source": [
    "```{admonition} Solution\n",
    ":class: dropdown\n",
    "``` R\n",
    "%%R\n",
    "penguins_sorted_id <- dplyr::arrange(penguins, id)\n",
    "head(dplyr::select(penguins_sorted_id, id, species, year, bill_length_mm))\n",
    "```"
   ]
  },
  {
   "cell_type": "markdown",
   "id": "1124d2d5-df85-44d3-9818-6e17d4005412",
   "metadata": {
    "editable": true,
    "slideshow": {
     "slide_type": ""
    },
    "tags": []
   },
   "source": [
    "## Summarising / aggregating data\n",
    "\n",
    "Often we want to aggregate data at certain levels to better understand\n",
    "differences across groups. For instance, does flipper length differ by species?\n",
    "Does body mass change between years?\n",
    "\n",
    "\n",
    "### Summarising all the data\n",
    "\n",
    "First, we can use `summarise` on its own, without any grouping, to get a single\n",
    "summary from all the rows in the dataframe. Here are some examples using the\n",
    "flipper length variable:"
   ]
  },
  {
   "cell_type": "code",
   "execution_count": 21,
   "id": "9eb85465-916c-4b9b-8752-342f58d403ec",
   "metadata": {
    "editable": true,
    "slideshow": {
     "slide_type": ""
    },
    "tags": []
   },
   "outputs": [
    {
     "name": "stdout",
     "output_type": "stream",
     "text": [
      "# A tibble: 1 × 1\n",
      "  sum_flipper_length_mm\n",
      "                  <int>\n",
      "1                    NA\n"
     ]
    }
   ],
   "source": [
    "%%R\n",
    "# Count number of observations\n",
    "dplyr::summarise(penguins, num_rows = dplyr::n())\n",
    "\n",
    "# Count number of different years in the data\n",
    "dplyr::summarise(penguins, num_years = dplyr::n_distinct(year))\n",
    "\n",
    "# Get the min and max year\n",
    "dplyr::summarise(penguins, min_year = min(year), max_year = max(year))\n",
    "\n",
    "# calculate the sum of flipper lengths for the whole data frame\n",
    "dplyr::summarise(penguins, sum_flipper_length_mm = sum(flipper_length_mm))"
   ]
  },
  {
   "cell_type": "markdown",
   "id": "123cf57b-e09f-41f3-a220-f1a9cf30c11b",
   "metadata": {
    "editable": true,
    "slideshow": {
     "slide_type": ""
    },
    "tags": []
   },
   "source": [
    "If the result is `NA`, it's likely because the column contained missing values.\n",
    "We include the `na.rm = TRUE` optional argument to tell `summarise` to remove\n",
    "`NA`s before calculating:"
   ]
  },
  {
   "cell_type": "code",
   "execution_count": 22,
   "id": "77848119-2405-475c-afb3-1b6d56b64f6a",
   "metadata": {
    "editable": true,
    "slideshow": {
     "slide_type": ""
    },
    "tags": []
   },
   "outputs": [
    {
     "name": "stdout",
     "output_type": "stream",
     "text": [
      "# A tibble: 1 × 1\n",
      "  sum_flipper_length_mm\n",
      "                  <int>\n",
      "1                 68713\n"
     ]
    }
   ],
   "source": [
    "%%R\n",
    "# With missing values removed\n",
    "dplyr::summarise(penguins, sum_flipper_length_mm = sum(flipper_length_mm, na.rm = TRUE))"
   ]
  },
  {
   "cell_type": "markdown",
   "id": "4232e389-ef15-4fa2-a59b-d6ce12daf9e0",
   "metadata": {
    "editable": true,
    "slideshow": {
     "slide_type": ""
    },
    "tags": []
   },
   "source": [
    "### Summarising grouped data\n",
    "\n",
    "More generally, we can compute summaries for subgroups of the data by combining\n",
    "the `group_by` and `summarise` (or `summarize`) functions in `dplyr`. The steps\n",
    "to do this are:\n",
    "\n",
    "1. First use `group_by` to declare the column (or columns) that you want to\n",
    "   group the data by.\n",
    "2. Then use `summarise` to actually do the summarising on each of the subgroups\n",
    "   from step 1. The resulting dataframe will have one summary per subgroup.\n",
    "\n",
    "For example, to get the average flipper length of each sex:"
   ]
  },
  {
   "cell_type": "code",
   "execution_count": 23,
   "id": "6b2ba223-c641-4a05-8c9c-3a4ecaa8abd5",
   "metadata": {
    "editable": true,
    "slideshow": {
     "slide_type": ""
    },
    "tags": []
   },
   "outputs": [
    {
     "name": "stdout",
     "output_type": "stream",
     "text": [
      "# A tibble: 3 × 2\n",
      "  sex    mean_flipper_length_mm\n",
      "  <fct>                   <dbl>\n",
      "1 female                   197.\n",
      "2 male                     205.\n",
      "3 <NA>                     199 \n"
     ]
    }
   ],
   "source": [
    "%%R\n",
    "# First group the data by sex\n",
    "penguins_grouped_by_sex <- dplyr::group_by(penguins, sex)\n",
    "\n",
    "# Then find the mean flipper length for each sex\n",
    "dplyr::summarise(penguins_grouped_by_sex, mean_flipper_length_mm = mean(flipper_length_mm, na.rm = TRUE))"
   ]
  },
  {
   "cell_type": "markdown",
   "id": "33d9644b-13be-4199-80d9-3ef564b71b48",
   "metadata": {
    "editable": true,
    "slideshow": {
     "slide_type": ""
    },
    "tags": []
   },
   "source": [
    "These functions are powerful. We can group by multiple columns at once to create\n",
    "pairwise groups. As we saw above, we can also create several summary variables\n",
    "at the same time:\n",
    "\n",
    "```\n",
    "dplyr::group_by(data, col1, col2, ...)  # group by combinations of values in\n",
    "                                        # col1, col2, ...\n",
    "\n",
    "# Compute multiple summaries on the same data\n",
    "dplyr::summarise(grouped_data, summary1 = <...>, summary2 = <...>, ...)\n",
    "```\n",
    "\n",
    "\n",
    "### Exercise: grouping and summarising\n",
    "\n",
    "Create a summary dataframe that gives the mean, range (i.e. `max - min`)\n",
    "and standard deviation of the body mass for each species / sex combination, as\n",
    "well as the number of observations in each group."
   ]
  },
  {
   "cell_type": "markdown",
   "id": "3911bc68-4a47-4290-b1f1-78b4f3f99cd6",
   "metadata": {
    "editable": true,
    "slideshow": {
     "slide_type": ""
    },
    "tags": []
   },
   "source": [
    "```{admonition} Solution\n",
    ":class: dropdown\n",
    "``` R\n",
    "%%R\n",
    "penguins_grouped <- dplyr::group_by(penguins, species, sex)\n",
    "dplyr::summarise(penguins_grouped,\n",
    "                 mean_body_mass_g = mean(body_mass_g, na.rm = TRUE),\n",
    "                 sd_body_mass_g = sd(body_mass_g, na.rm = TRUE),\n",
    "                 range_body_mass_g = max(body_mass_g, na.rm = TRUE) - min(body_mass_g, na.rm = TRUE),\n",
    "                 Group_count = dplyr::n())\n",
    "```\n",
    "\n",
    "\n",
    "\n"
   ]
  },
  {
   "cell_type": "markdown",
   "id": "831c1c58-1f0b-4d3b-8b10-8e87a38a76f7",
   "metadata": {
    "editable": true,
    "slideshow": {
     "slide_type": ""
    },
    "tags": []
   },
   "source": [
    "### An unimportant detail: grouped dataframes\n",
    "\n",
    "`dplyr::group_by` returns a 'grouped dataframe' (`dplyr::grouped_df`). These\n",
    "behave just like tibbles/dataframes except they have some extra information\n",
    "about the grouping attached to them.\n",
    "\n",
    "When you group by multiple columns, the result of `summarise` will typically\n",
    "also be a grouped dataframe. Usually, the groups are given by all columns except\n",
    "the last one in the grouped dataframe supplied to `summarise`. By default, you\n",
    "get a console message telling you on which columns the output is grouped by (see\n",
    "the result of the exercise above).\n",
    "\n",
    "The upshot of this is that it allows us to do successive summaries without\n",
    "having to keep regrouping the data. For example, the code below will produce a\n",
    "'max of averages':"
   ]
  },
  {
   "cell_type": "code",
   "execution_count": 25,
   "id": "870c8a79-84ac-4c35-8890-a4ee0c2f4086",
   "metadata": {
    "editable": true,
    "slideshow": {
     "slide_type": ""
    },
    "tags": []
   },
   "outputs": [
    {
     "name": "stdout",
     "output_type": "stream",
     "text": [
      "`summarise()` has grouped output by 'sex'. You can override using the `.groups`\n",
      "argument.\n",
      "# A tibble: 8 × 3\n",
      "# Groups:   sex [3]\n",
      "  sex    species   mean_body_mass_g\n",
      "  <fct>  <fct>                <dbl>\n",
      "1 female Adelie               3369.\n",
      "2 female Chinstrap            3527.\n",
      "3 female Gentoo               4680.\n",
      "4 male   Adelie               4043.\n",
      "5 male   Chinstrap            3939.\n",
      "6 male   Gentoo               5485.\n",
      "7 <NA>   Adelie               3540 \n",
      "8 <NA>   Gentoo               4588.\n",
      "# A tibble: 3 × 2\n",
      "  sex    max_species_avg_body_mass_g\n",
      "  <fct>                        <dbl>\n",
      "1 female                       4680.\n",
      "2 male                         5485.\n",
      "3 <NA>                         4588.\n"
     ]
    }
   ],
   "source": [
    "%%R\n",
    "# Group by sex and species\n",
    "penguins_grouped <- dplyr::group_by(penguins, sex, species)\n",
    "\n",
    "# Average mass for each species / sex combination\n",
    "# Result is grouped by sex (see console output)\n",
    "penguins_grouped_mass <- dplyr::summarise(penguins_grouped,\n",
    "                                          mean_body_mass_g = mean(body_mass_g, na.rm = TRUE))\n",
    "print(penguins_grouped_mass)\n",
    "\n",
    "# Max of the average mass over species, for each sex\n",
    "penguins_max_species_avg_mass <- dplyr::summarise(\n",
    "  penguins_grouped_mass,\n",
    "  max_species_avg_body_mass_g = max(mean_body_mass_g, na.rm = TRUE)\n",
    "  )\n",
    "print(penguins_max_species_avg_mass)"
   ]
  },
  {
   "cell_type": "markdown",
   "id": "66e7487f-046d-4827-b3ba-78a879983862",
   "metadata": {
    "editable": true,
    "slideshow": {
     "slide_type": ""
    },
    "tags": []
   },
   "source": [
    "In practice, you don't have to worry about this detail. If you want to get back\n",
    "to a plain old tibble/dataframe, use the `dplyr::ungroup` function on a grouped\n",
    "dataframe.\n",
    "\n",
    "\n",
    "## Acknowledgement\n",
    "\n",
    "The material in this notebook is adapted from Eliza Wood's [Tidyverse: Data\n",
    "wrangling & visualization](https://liza-wood.github.io/tidyverse_intro/) course,\n",
    "which is licensed under [Creative Commons BY-NC-SA\n",
    "4.0](https://creativecommons.org/licenses/by-nc-sa/4.0/). This in itself is\n",
    "based on material from [UC Davis's R-DAVIS\n",
    "course](https://gge-ucd.github.io/R-DAVIS/index.html), which draws heavily on\n",
    "[Carpentries](https://datacarpentry.org/R-ecology-lesson/) R lessons."
   ]
  },
  {
   "cell_type": "markdown",
   "id": "be273911-4149-46b4-97f9-8ca2f207b3e3",
   "metadata": {
    "editable": true,
    "slideshow": {
     "slide_type": ""
    },
    "tags": []
   },
   "source": [
    "## Summary Quiz"
   ]
  },
  {
   "cell_type": "code",
   "execution_count": 1,
   "id": "45139c4f-b809-4575-849a-af869baddf4e",
   "metadata": {
    "editable": true,
    "slideshow": {
     "slide_type": ""
    },
    "tags": [
     "remove-input"
    ]
   },
   "outputs": [
    {
     "data": {
      "text/html": [
       "<div id=\"lkTMwzTkFLtQ\" data-shufflequestions=\"False\"\n",
       "               data-shuffleanswers=\"True\"\n",
       "               data-preserveresponses=\"false\"\n",
       "               data-numquestions=\"1000000\"\n",
       "               data-maxwidth=\"600\"\n",
       "               style=\"border-radius: 10px; text-align: left\"> <style>\n",
       "#lkTMwzTkFLtQ {\n",
       "   --jq-multiple-choice-bg: #6f78ffff;\n",
       "   --jq-mc-button-bg: #fafafa;\n",
       "   --jq-mc-button-border: #e0e0e0e0;\n",
       "   --jq-mc-button-inset-shadow: #555555;\n",
       "   --jq-many-choice-bg: #f75c03ff;\n",
       "   --jq-numeric-bg: #392061ff;\n",
       "   --jq-numeric-input-bg: #c0c0c0;\n",
       "   --jq-numeric-input-label: #101010;\n",
       "   --jq-numeric-input-shadow: #999999;\n",
       "   --jq-incorrect-color: #c80202;\n",
       "   --jq-correct-color: #009113;\n",
       "   --jq-text-color: #fafafa;\n",
       "}\n",
       "\n",
       ".Quiz {\n",
       "    max-width: 600px;\n",
       "    margin-top: 15px;\n",
       "    margin-left: auto;\n",
       "    margin-right: auto;\n",
       "    margin-bottom: 15px;\n",
       "    padding-bottom: 4px;\n",
       "    padding-top: 4px;\n",
       "    line-height: 1.1;\n",
       "    font-size: 16pt;\n",
       "    border-radius: inherit;\n",
       "}\n",
       "\n",
       ".QuizCode {\n",
       "    font-size: 14pt;\n",
       "    margin-top: 10px;\n",
       "    margin-left: 20px;\n",
       "    margin-right: 20px;\n",
       "}\n",
       "\n",
       ".QuizCode>pre {\n",
       "    padding: 4px;\n",
       "}\n",
       "\n",
       ".Answer {\n",
       "    margin: 10px 0;\n",
       "    display: grid;\n",
       "    grid-template-columns: 1fr 1fr;\n",
       "    grid-gap: 10px;\n",
       "    border-radius: inherit;\n",
       "}\n",
       "\n",
       ".Feedback {\n",
       "    font-size: 16pt;\n",
       "    text-align: center;\n",
       "    min-height: 2em;\n",
       "}\n",
       "\n",
       ".Input {\n",
       "    align: left;\n",
       "    font-size: 20pt;\n",
       "}\n",
       "\n",
       ".Input-text {\n",
       "    display: block;\n",
       "    margin: 10px;\n",
       "    color: inherit;\n",
       "    width: 140px;\n",
       "    background-color: var(--jq-numeric-input-bg);\n",
       "    color: var(--jq-text-color);\n",
       "    padding: 5px;\n",
       "    padding-left: 10px;\n",
       "    font-family: inherit;\n",
       "    font-size: 20px;\n",
       "    font-weight: inherit;\n",
       "    line-height: 20pt;\n",
       "    border: none;\n",
       "    border-radius: 0.2rem;\n",
       "    transition: box-shadow 0.1s);\n",
       "}\n",
       "\n",
       ".Input-text:focus {\n",
       "    outline: none;\n",
       "    background-color: var(--jq-numeric-input-bg);\n",
       "    box-shadow: 0.6rem 0.8rem 1.4rem -0.5rem var(--jq-numeric-input-shadow);\n",
       "}\n",
       "\n",
       ".MCButton {\n",
       "    background: var(--jq-mc-button-bg);\n",
       "    border: 1px solid var(--jq-mc-button-border);\n",
       "    border-radius: inherit;\n",
       "    padding: 10px;\n",
       "    font-size: 16px;\n",
       "    cursor: pointer;\n",
       "    text-align: center;\n",
       "    display: flex;\n",
       "    align-items: center;\n",
       "    justify-content: center;\n",
       "}\n",
       "\n",
       ".MCButton p {\n",
       "    color: inherit;\n",
       "}\n",
       "\n",
       ".MultipleChoiceQn {\n",
       "    padding: 10px;\n",
       "    background: var(--jq-multiple-choice-bg);\n",
       "    color: var(--jq-text-color);\n",
       "    border-radius: inherit;\n",
       "}\n",
       "\n",
       ".ManyChoiceQn {\n",
       "    padding: 10px;\n",
       "    background: var(--jq-many-choice-bg);\n",
       "    color: var(--jq-text-color);\n",
       "    border-radius: inherit;\n",
       "}\n",
       "\n",
       ".NumericQn {\n",
       "    padding: 10px;\n",
       "    background: var(--jq-numeric-bg);\n",
       "    color: var(--jq-text-color);\n",
       "    border-radius: inherit;\n",
       "}\n",
       "\n",
       ".NumericQn p {\n",
       "    color: inherit;\n",
       "}\n",
       "\n",
       ".InpLabel {\n",
       "    line-height: 34px;\n",
       "    float: left;\n",
       "    margin-right: 10px;\n",
       "    color: var(--jq-numeric-input-label);\n",
       "    font-size: 15pt;\n",
       "}\n",
       "\n",
       ".incorrect {\n",
       "    color: var(--jq-incorrect-color);\n",
       "}\n",
       "\n",
       ".correct {\n",
       "    color: var(--jq-correct-color);\n",
       "}\n",
       "\n",
       ".correctButton {\n",
       "    /*\n",
       "    background: var(--jq-correct-color);\n",
       "   */\n",
       "    animation: correct-anim 0.6s ease;\n",
       "    animation-fill-mode: forwards;\n",
       "    color: var(--jq-text-color);\n",
       "    box-shadow: inset 0px 0px 5px var(--jq-mc-button-inset-shadow);\n",
       "    outline: none;\n",
       "}\n",
       "\n",
       ".incorrectButton {\n",
       "    animation: incorrect-anim 0.8s ease;\n",
       "    animation-fill-mode: forwards;\n",
       "    color: var(--jq-text-color);\n",
       "    box-shadow: inset 0px 0px 5px var(--jq-mc-button-inset-shadow);\n",
       "    outline: none;\n",
       "}\n",
       "\n",
       "@keyframes incorrect-anim {\n",
       "    100% {\n",
       "        background-color: var(--jq-incorrect-color);\n",
       "    }\n",
       "}\n",
       "\n",
       "@keyframes correct-anim {\n",
       "    100% {\n",
       "        background-color: var(--jq-correct-color);\n",
       "    }\n",
       "}\n",
       "</style>"
      ],
      "text/plain": [
       "<IPython.core.display.HTML object>"
      ]
     },
     "metadata": {},
     "output_type": "display_data"
    },
    {
     "data": {
      "application/javascript": [
       "var questionslkTMwzTkFLtQ=[\n",
       "    {\n",
       "        \"question\": \"Which function is used to read CSV files into R using the `readr` package?\",\n",
       "        \"type\": \"many_choice\",\n",
       "        \"answers\": [\n",
       "            {\n",
       "                \"answer\": \"read.table()\",\n",
       "                \"correct\": false,\n",
       "                \"feedback\": \"Incorrect\"\n",
       "            },\n",
       "            {\n",
       "                \"answer\": \"read.csv()\",\n",
       "                \"correct\": false,\n",
       "                \"feedback\": \"Incorrect\"\n",
       "            },\n",
       "            {\n",
       "                \"answer\": \"read_csv()\",\n",
       "                \"correct\": true,\n",
       "                \"feedback\": \"Correct\"\n",
       "            },\n",
       "            {\n",
       "                \"answer\": \"readLines()\",\n",
       "                \"correct\": false,\n",
       "                \"feedback\": \"Incorrect\"\n",
       "            }\n",
       "        ]\n",
       "    },\n",
       "    {\n",
       "        \"question\": \"What is the advantage of using the `readr` package over base R functions for reading data?\",\n",
       "        \"type\": \"many_choice\",\n",
       "        \"answers\": [\n",
       "            {\n",
       "                \"answer\": \"It is slower but more reliable\",\n",
       "                \"correct\": false,\n",
       "                \"feedback\": \"Incorrect\"\n",
       "            },\n",
       "            {\n",
       "                \"answer\": \"It provides better default interpretations and is more explicit about assumptions\",\n",
       "                \"correct\": true,\n",
       "                \"feedback\": \"Correct\"\n",
       "            },\n",
       "            {\n",
       "                \"answer\": \"It does not require specifying data types\",\n",
       "                \"correct\": false,\n",
       "                \"feedback\": \"Incorrect\"\n",
       "            },\n",
       "            {\n",
       "                \"answer\": \"It automatically corrects data errors\",\n",
       "                \"correct\": false,\n",
       "                \"feedback\": \"Incorrect\"\n",
       "            }\n",
       "        ]\n",
       "    },\n",
       "    {\n",
       "        \"question\": \"Which arguement in the `read_csv` function is used to specify the data types of column explicitly?\",\n",
       "        \"type\": \"many_choice\",\n",
       "        \"answers\": [\n",
       "            {\n",
       "                \"answer\": \"col_classes\",\n",
       "                \"correct\": false,\n",
       "                \"feedback\": \"Incorrect\"\n",
       "            },\n",
       "            {\n",
       "                \"answer\": \"col_types\",\n",
       "                \"correct\": true,\n",
       "                \"feedback\": \"Correct\"\n",
       "            },\n",
       "            {\n",
       "                \"answer\": \"column_types\",\n",
       "                \"correct\": false,\n",
       "                \"feedback\": \"Incorrect\"\n",
       "            },\n",
       "            {\n",
       "                \"answer\": \"types\",\n",
       "                \"correct\": false,\n",
       "                \"feedback\": \"Incorrect\"\n",
       "            }\n",
       "        ]\n",
       "    }\n",
       "];\n",
       "    // Make a random ID\n",
       "function makeid(length) {\n",
       "    var result = [];\n",
       "    var characters = 'ABCDEFGHIJKLMNOPQRSTUVWXYZabcdefghijklmnopqrstuvwxyz';\n",
       "    var charactersLength = characters.length;\n",
       "    for (var i = 0; i < length; i++) {\n",
       "        result.push(characters.charAt(Math.floor(Math.random() * charactersLength)));\n",
       "    }\n",
       "    return result.join('');\n",
       "}\n",
       "\n",
       "// Choose a random subset of an array. Can also be used to shuffle the array\n",
       "function getRandomSubarray(arr, size) {\n",
       "    var shuffled = arr.slice(0), i = arr.length, temp, index;\n",
       "    while (i--) {\n",
       "        index = Math.floor((i + 1) * Math.random());\n",
       "        temp = shuffled[index];\n",
       "        shuffled[index] = shuffled[i];\n",
       "        shuffled[i] = temp;\n",
       "    }\n",
       "    return shuffled.slice(0, size);\n",
       "}\n",
       "\n",
       "function printResponses(responsesContainer) {\n",
       "    var responses=JSON.parse(responsesContainer.dataset.responses);\n",
       "    var stringResponses='<B>IMPORTANT!</B>To preserve this answer sequence for submission, when you have finalized your answers: <ol> <li> Copy the text in this cell below \"Answer String\"</li> <li> Double click on the cell directly below the Answer String, labeled \"Replace Me\"</li> <li> Select the whole \"Replace Me\" text</li> <li> Paste in your answer string and press shift-Enter.</li><li>Save the notebook using the save icon or File->Save Notebook menu item</li></ul><br><br><br><b>Answer String:</b><br> ';\n",
       "    console.log(responses);\n",
       "    responses.forEach((response, index) => {\n",
       "        if (response) {\n",
       "            console.log(index + ': ' + response);\n",
       "            stringResponses+= index + ': ' + response +\"<BR>\";\n",
       "        }\n",
       "    });\n",
       "    responsesContainer.innerHTML=stringResponses;\n",
       "}\n",
       "function check_mc() {\n",
       "    var id = this.id.split('-')[0];\n",
       "    //var response = this.id.split('-')[1];\n",
       "    //console.log(response);\n",
       "    //console.log(\"In check_mc(), id=\"+id);\n",
       "    //console.log(event.srcElement.id)           \n",
       "    //console.log(event.srcElement.dataset.correct)   \n",
       "    //console.log(event.srcElement.dataset.feedback)\n",
       "\n",
       "    var label = event.srcElement;\n",
       "    //console.log(label, label.nodeName);\n",
       "    var depth = 0;\n",
       "    while ((label.nodeName != \"LABEL\") && (depth < 20)) {\n",
       "        label = label.parentElement;\n",
       "        console.log(depth, label);\n",
       "        depth++;\n",
       "    }\n",
       "\n",
       "\n",
       "\n",
       "    var answers = label.parentElement.children;\n",
       "\n",
       "    //console.log(answers);\n",
       "\n",
       "\n",
       "    // Split behavior based on multiple choice vs many choice:\n",
       "    var fb = document.getElementById(\"fb\" + id);\n",
       "\n",
       "\n",
       "\n",
       "\n",
       "    if (fb.dataset.numcorrect == 1) {\n",
       "        // What follows is for the saved responses stuff\n",
       "        var outerContainer = fb.parentElement.parentElement;\n",
       "        var responsesContainer = document.getElementById(\"responses\" + outerContainer.id);\n",
       "        if (responsesContainer) {\n",
       "            //console.log(responsesContainer);\n",
       "            var response = label.firstChild.innerText;\n",
       "            if (label.querySelector(\".QuizCode\")){\n",
       "                response+= label.querySelector(\".QuizCode\").firstChild.innerText;\n",
       "            }\n",
       "            console.log(response);\n",
       "            //console.log(document.getElementById(\"quizWrap\"+id));\n",
       "            var qnum = document.getElementById(\"quizWrap\"+id).dataset.qnum;\n",
       "            console.log(\"Question \" + qnum);\n",
       "            //console.log(id, \", got numcorrect=\",fb.dataset.numcorrect);\n",
       "            var responses=JSON.parse(responsesContainer.dataset.responses);\n",
       "            console.log(responses);\n",
       "            responses[qnum]= response;\n",
       "            responsesContainer.setAttribute('data-responses', JSON.stringify(responses));\n",
       "            printResponses(responsesContainer);\n",
       "        }\n",
       "        // End code to preserve responses\n",
       "        \n",
       "        for (var i = 0; i < answers.length; i++) {\n",
       "            var child = answers[i];\n",
       "            //console.log(child);\n",
       "            child.className = \"MCButton\";\n",
       "        }\n",
       "\n",
       "\n",
       "\n",
       "        if (label.dataset.correct == \"true\") {\n",
       "            // console.log(\"Correct action\");\n",
       "            if (\"feedback\" in label.dataset) {\n",
       "                fb.textContent = jaxify(label.dataset.feedback);\n",
       "            } else {\n",
       "                fb.textContent = \"Correct!\";\n",
       "            }\n",
       "            label.classList.add(\"correctButton\");\n",
       "\n",
       "            fb.className = \"Feedback\";\n",
       "            fb.classList.add(\"correct\");\n",
       "\n",
       "        } else {\n",
       "            if (\"feedback\" in label.dataset) {\n",
       "                fb.textContent = jaxify(label.dataset.feedback);\n",
       "            } else {\n",
       "                fb.textContent = \"Incorrect -- try again.\";\n",
       "            }\n",
       "            //console.log(\"Error action\");\n",
       "            label.classList.add(\"incorrectButton\");\n",
       "            fb.className = \"Feedback\";\n",
       "            fb.classList.add(\"incorrect\");\n",
       "        }\n",
       "    }\n",
       "    else {\n",
       "        var reset = false;\n",
       "        var feedback;\n",
       "         if (label.dataset.correct == \"true\") {\n",
       "            if (\"feedback\" in label.dataset) {\n",
       "                feedback = jaxify(label.dataset.feedback);\n",
       "            } else {\n",
       "                feedback = \"Correct!\";\n",
       "            }\n",
       "            if (label.dataset.answered <= 0) {\n",
       "                if (fb.dataset.answeredcorrect < 0) {\n",
       "                    fb.dataset.answeredcorrect = 1;\n",
       "                    reset = true;\n",
       "                } else {\n",
       "                    fb.dataset.answeredcorrect++;\n",
       "                }\n",
       "                if (reset) {\n",
       "                    for (var i = 0; i < answers.length; i++) {\n",
       "                        var child = answers[i];\n",
       "                        child.className = \"MCButton\";\n",
       "                        child.dataset.answered = 0;\n",
       "                    }\n",
       "                }\n",
       "                label.classList.add(\"correctButton\");\n",
       "                label.dataset.answered = 1;\n",
       "                fb.className = \"Feedback\";\n",
       "                fb.classList.add(\"correct\");\n",
       "\n",
       "            }\n",
       "        } else {\n",
       "            if (\"feedback\" in label.dataset) {\n",
       "                feedback = jaxify(label.dataset.feedback);\n",
       "            } else {\n",
       "                feedback = \"Incorrect -- try again.\";\n",
       "            }\n",
       "            if (fb.dataset.answeredcorrect > 0) {\n",
       "                fb.dataset.answeredcorrect = -1;\n",
       "                reset = true;\n",
       "            } else {\n",
       "                fb.dataset.answeredcorrect--;\n",
       "            }\n",
       "\n",
       "            if (reset) {\n",
       "                for (var i = 0; i < answers.length; i++) {\n",
       "                    var child = answers[i];\n",
       "                    child.className = \"MCButton\";\n",
       "                    child.dataset.answered = 0;\n",
       "                }\n",
       "            }\n",
       "            label.classList.add(\"incorrectButton\");\n",
       "            fb.className = \"Feedback\";\n",
       "            fb.classList.add(\"incorrect\");\n",
       "        }\n",
       "        // What follows is for the saved responses stuff\n",
       "        var outerContainer = fb.parentElement.parentElement;\n",
       "        var responsesContainer = document.getElementById(\"responses\" + outerContainer.id);\n",
       "        if (responsesContainer) {\n",
       "            //console.log(responsesContainer);\n",
       "            var response = label.firstChild.innerText;\n",
       "            if (label.querySelector(\".QuizCode\")){\n",
       "                response+= label.querySelector(\".QuizCode\").firstChild.innerText;\n",
       "            }\n",
       "            console.log(response);\n",
       "            //console.log(document.getElementById(\"quizWrap\"+id));\n",
       "            var qnum = document.getElementById(\"quizWrap\"+id).dataset.qnum;\n",
       "            console.log(\"Question \" + qnum);\n",
       "            //console.log(id, \", got numcorrect=\",fb.dataset.numcorrect);\n",
       "            var responses=JSON.parse(responsesContainer.dataset.responses);\n",
       "            if (label.dataset.correct == \"true\") {\n",
       "                if (typeof(responses[qnum]) == \"object\"){\n",
       "                    if (!responses[qnum].includes(response))\n",
       "                        responses[qnum].push(response);\n",
       "                } else{\n",
       "                    responses[qnum]= [ response ];\n",
       "                }\n",
       "            } else {\n",
       "                responses[qnum]= response;\n",
       "            }\n",
       "            console.log(responses);\n",
       "            responsesContainer.setAttribute('data-responses', JSON.stringify(responses));\n",
       "            printResponses(responsesContainer);\n",
       "        }\n",
       "        // End save responses stuff\n",
       "\n",
       "\n",
       "\n",
       "        var numcorrect = fb.dataset.numcorrect;\n",
       "        var answeredcorrect = fb.dataset.answeredcorrect;\n",
       "        if (answeredcorrect >= 0) {\n",
       "            fb.textContent = feedback + \" [\" + answeredcorrect + \"/\" + numcorrect + \"]\";\n",
       "        } else {\n",
       "            fb.textContent = feedback + \" [\" + 0 + \"/\" + numcorrect + \"]\";\n",
       "        }\n",
       "\n",
       "\n",
       "    }\n",
       "\n",
       "    if (typeof MathJax != 'undefined') {\n",
       "        var version = MathJax.version;\n",
       "        console.log('MathJax version', version);\n",
       "        if (version[0] == \"2\") {\n",
       "            MathJax.Hub.Queue([\"Typeset\", MathJax.Hub]);\n",
       "        } else if (version[0] == \"3\") {\n",
       "            MathJax.typeset([fb]);\n",
       "        }\n",
       "    } else {\n",
       "        console.log('MathJax not detected');\n",
       "    }\n",
       "\n",
       "}\n",
       "\n",
       "function make_mc(qa, shuffle_answers, outerqDiv, qDiv, aDiv, id) {\n",
       "    var shuffled;\n",
       "    if (shuffle_answers == \"True\") {\n",
       "        //console.log(shuffle_answers+\" read as true\");\n",
       "        shuffled = getRandomSubarray(qa.answers, qa.answers.length);\n",
       "    } else {\n",
       "        //console.log(shuffle_answers+\" read as false\");\n",
       "        shuffled = qa.answers;\n",
       "    }\n",
       "\n",
       "\n",
       "    var num_correct = 0;\n",
       "\n",
       "\n",
       "\n",
       "    shuffled.forEach((item, index, ans_array) => {\n",
       "        //console.log(answer);\n",
       "\n",
       "        // Make input element\n",
       "        var inp = document.createElement(\"input\");\n",
       "        inp.type = \"radio\";\n",
       "        inp.id = \"quizo\" + id + index;\n",
       "        inp.style = \"display:none;\";\n",
       "        aDiv.append(inp);\n",
       "\n",
       "        //Make label for input element\n",
       "        var lab = document.createElement(\"label\");\n",
       "        lab.className = \"MCButton\";\n",
       "        lab.id = id + '-' + index;\n",
       "        lab.onclick = check_mc;\n",
       "        var aSpan = document.createElement('span');\n",
       "        aSpan.classsName = \"\";\n",
       "        //qDiv.id=\"quizQn\"+id+index;\n",
       "        if (\"answer\" in item) {\n",
       "            aSpan.innerHTML = jaxify(item.answer);\n",
       "            //aSpan.innerHTML=item.answer;\n",
       "        }\n",
       "        lab.append(aSpan);\n",
       "\n",
       "        // Create div for code inside question\n",
       "        var codeSpan;\n",
       "        if (\"code\" in item) {\n",
       "            codeSpan = document.createElement('span');\n",
       "            codeSpan.id = \"code\" + id + index;\n",
       "            codeSpan.className = \"QuizCode\";\n",
       "            var codePre = document.createElement('pre');\n",
       "            codeSpan.append(codePre);\n",
       "            var codeCode = document.createElement('code');\n",
       "            codePre.append(codeCode);\n",
       "            codeCode.innerHTML = item.code;\n",
       "            lab.append(codeSpan);\n",
       "            //console.log(codeSpan);\n",
       "        }\n",
       "\n",
       "        //lab.textContent=item.answer;\n",
       "\n",
       "        // Set the data attributes for the answer\n",
       "        lab.setAttribute('data-correct', item.correct);\n",
       "        if (item.correct) {\n",
       "            num_correct++;\n",
       "        }\n",
       "        if (\"feedback\" in item) {\n",
       "            lab.setAttribute('data-feedback', item.feedback);\n",
       "        }\n",
       "        lab.setAttribute('data-answered', 0);\n",
       "\n",
       "        aDiv.append(lab);\n",
       "\n",
       "    });\n",
       "\n",
       "    if (num_correct > 1) {\n",
       "        outerqDiv.className = \"ManyChoiceQn\";\n",
       "    } else {\n",
       "        outerqDiv.className = \"MultipleChoiceQn\";\n",
       "    }\n",
       "\n",
       "    return num_correct;\n",
       "\n",
       "}\n",
       "function check_numeric(ths, event) {\n",
       "\n",
       "    if (event.keyCode === 13) {\n",
       "        ths.blur();\n",
       "\n",
       "        var id = ths.id.split('-')[0];\n",
       "\n",
       "        var submission = ths.value;\n",
       "        if (submission.indexOf('/') != -1) {\n",
       "            var sub_parts = submission.split('/');\n",
       "            //console.log(sub_parts);\n",
       "            submission = sub_parts[0] / sub_parts[1];\n",
       "        }\n",
       "        //console.log(\"Reader entered\", submission);\n",
       "\n",
       "        if (\"precision\" in ths.dataset) {\n",
       "            var precision = ths.dataset.precision;\n",
       "            // console.log(\"1:\", submission)\n",
       "            submission = Math.round((1 * submission + Number.EPSILON) * 10 ** precision) / 10 ** precision;\n",
       "            // console.log(\"Rounded to \", submission, \" precision=\", precision  );\n",
       "        }\n",
       "\n",
       "\n",
       "        //console.log(\"In check_numeric(), id=\"+id);\n",
       "        //console.log(event.srcElement.id)           \n",
       "        //console.log(event.srcElement.dataset.feedback)\n",
       "\n",
       "        var fb = document.getElementById(\"fb\" + id);\n",
       "        fb.style.display = \"none\";\n",
       "        fb.textContent = \"Incorrect -- try again.\";\n",
       "\n",
       "        var answers = JSON.parse(ths.dataset.answers);\n",
       "        //console.log(answers);\n",
       "\n",
       "        var defaultFB = \"\";\n",
       "        var correct;\n",
       "        var done = false;\n",
       "        answers.every(answer => {\n",
       "            //console.log(answer.type);\n",
       "\n",
       "            correct = false;\n",
       "            // if (answer.type==\"value\"){\n",
       "            if ('value' in answer) {\n",
       "                if (submission == answer.value) {\n",
       "                    if (\"feedback\" in answer) {\n",
       "                        fb.textContent = jaxify(answer.feedback);\n",
       "                    } else {\n",
       "                        fb.textContent = jaxify(\"Correct\");\n",
       "                    }\n",
       "                    correct = answer.correct;\n",
       "                    //console.log(answer.correct);\n",
       "                    done = true;\n",
       "                }\n",
       "                // } else if (answer.type==\"range\") {\n",
       "            } else if ('range' in answer) {\n",
       "                //console.log(answer.range);\n",
       "                if ((submission >= answer.range[0]) && (submission < answer.range[1])) {\n",
       "                    fb.textContent = jaxify(answer.feedback);\n",
       "                    correct = answer.correct;\n",
       "                    //console.log(answer.correct);\n",
       "                    done = true;\n",
       "                }\n",
       "            } else if (answer.type == \"default\") {\n",
       "                defaultFB = answer.feedback;\n",
       "            }\n",
       "            if (done) {\n",
       "                return false; // Break out of loop if this has been marked correct\n",
       "            } else {\n",
       "                return true; // Keep looking for case that includes this as a correct answer\n",
       "            }\n",
       "        });\n",
       "\n",
       "        if ((!done) && (defaultFB != \"\")) {\n",
       "            fb.innerHTML = jaxify(defaultFB);\n",
       "            //console.log(\"Default feedback\", defaultFB);\n",
       "        }\n",
       "\n",
       "        fb.style.display = \"block\";\n",
       "        if (correct) {\n",
       "            ths.className = \"Input-text\";\n",
       "            ths.classList.add(\"correctButton\");\n",
       "            fb.className = \"Feedback\";\n",
       "            fb.classList.add(\"correct\");\n",
       "        } else {\n",
       "            ths.className = \"Input-text\";\n",
       "            ths.classList.add(\"incorrectButton\");\n",
       "            fb.className = \"Feedback\";\n",
       "            fb.classList.add(\"incorrect\");\n",
       "        }\n",
       "\n",
       "        // What follows is for the saved responses stuff\n",
       "        var outerContainer = fb.parentElement.parentElement;\n",
       "        var responsesContainer = document.getElementById(\"responses\" + outerContainer.id);\n",
       "        if (responsesContainer) {\n",
       "            console.log(submission);\n",
       "            var qnum = document.getElementById(\"quizWrap\"+id).dataset.qnum;\n",
       "            //console.log(\"Question \" + qnum);\n",
       "            //console.log(id, \", got numcorrect=\",fb.dataset.numcorrect);\n",
       "            var responses=JSON.parse(responsesContainer.dataset.responses);\n",
       "            console.log(responses);\n",
       "            if (submission == ths.value){\n",
       "                responses[qnum]= submission;\n",
       "            } else {\n",
       "                responses[qnum]= ths.value + \"(\" + submission +\")\";\n",
       "            }\n",
       "            responsesContainer.setAttribute('data-responses', JSON.stringify(responses));\n",
       "            printResponses(responsesContainer);\n",
       "        }\n",
       "        // End code to preserve responses\n",
       "\n",
       "        if (typeof MathJax != 'undefined') {\n",
       "            var version = MathJax.version;\n",
       "            console.log('MathJax version', version);\n",
       "            if (version[0] == \"2\") {\n",
       "                MathJax.Hub.Queue([\"Typeset\", MathJax.Hub]);\n",
       "            } else if (version[0] == \"3\") {\n",
       "                MathJax.typeset([fb]);\n",
       "            }\n",
       "        } else {\n",
       "            console.log('MathJax not detected');\n",
       "        }\n",
       "        return false;\n",
       "    }\n",
       "\n",
       "}\n",
       "\n",
       "function isValid(el, charC) {\n",
       "    //console.log(\"Input char: \", charC);\n",
       "    if (charC == 46) {\n",
       "        if (el.value.indexOf('.') === -1) {\n",
       "            return true;\n",
       "        } else if (el.value.indexOf('/') != -1) {\n",
       "            var parts = el.value.split('/');\n",
       "            if (parts[1].indexOf('.') === -1) {\n",
       "                return true;\n",
       "            }\n",
       "        }\n",
       "        else {\n",
       "            return false;\n",
       "        }\n",
       "    } else if (charC == 47) {\n",
       "        if (el.value.indexOf('/') === -1) {\n",
       "            if ((el.value != \"\") && (el.value != \".\")) {\n",
       "                return true;\n",
       "            } else {\n",
       "                return false;\n",
       "            }\n",
       "        } else {\n",
       "            return false;\n",
       "        }\n",
       "    } else if (charC == 45) {\n",
       "        var edex = el.value.indexOf('e');\n",
       "        if (edex == -1) {\n",
       "            edex = el.value.indexOf('E');\n",
       "        }\n",
       "\n",
       "        if (el.value == \"\") {\n",
       "            return true;\n",
       "        } else if (edex == (el.value.length - 1)) { // If just after e or E\n",
       "            return true;\n",
       "        } else {\n",
       "            return false;\n",
       "        }\n",
       "    } else if (charC == 101) { // \"e\"\n",
       "        if ((el.value.indexOf('e') === -1) && (el.value.indexOf('E') === -1) && (el.value.indexOf('/') == -1)) {\n",
       "            // Prev symbol must be digit or decimal point:\n",
       "            if (el.value.slice(-1).search(/\\d/) >= 0) {\n",
       "                return true;\n",
       "            } else if (el.value.slice(-1).search(/\\./) >= 0) {\n",
       "                return true;\n",
       "            } else {\n",
       "                return false;\n",
       "            }\n",
       "        } else {\n",
       "            return false;\n",
       "        }\n",
       "    } else {\n",
       "        if (charC > 31 && (charC < 48 || charC > 57))\n",
       "            return false;\n",
       "    }\n",
       "    return true;\n",
       "}\n",
       "\n",
       "function numeric_keypress(evnt) {\n",
       "    var charC = (evnt.which) ? evnt.which : evnt.keyCode;\n",
       "\n",
       "    if (charC == 13) {\n",
       "        check_numeric(this, evnt);\n",
       "    } else {\n",
       "        return isValid(this, charC);\n",
       "    }\n",
       "}\n",
       "\n",
       "\n",
       "\n",
       "\n",
       "\n",
       "function make_numeric(qa, outerqDiv, qDiv, aDiv, id) {\n",
       "\n",
       "\n",
       "\n",
       "    //console.log(answer);\n",
       "\n",
       "\n",
       "    outerqDiv.className = \"NumericQn\";\n",
       "    aDiv.style.display = 'block';\n",
       "\n",
       "    var lab = document.createElement(\"label\");\n",
       "    lab.className = \"InpLabel\";\n",
       "    lab.textContent = \"Type numeric answer here:\";\n",
       "    aDiv.append(lab);\n",
       "\n",
       "    var inp = document.createElement(\"input\");\n",
       "    inp.type = \"text\";\n",
       "    //inp.id=\"input-\"+id;\n",
       "    inp.id = id + \"-0\";\n",
       "    inp.className = \"Input-text\";\n",
       "    inp.setAttribute('data-answers', JSON.stringify(qa.answers));\n",
       "    if (\"precision\" in qa) {\n",
       "        inp.setAttribute('data-precision', qa.precision);\n",
       "    }\n",
       "    aDiv.append(inp);\n",
       "    //console.log(inp);\n",
       "\n",
       "    //inp.addEventListener(\"keypress\", check_numeric);\n",
       "    //inp.addEventListener(\"keypress\", numeric_keypress);\n",
       "    /*\n",
       "    inp.addEventListener(\"keypress\", function(event) {\n",
       "        return numeric_keypress(this, event);\n",
       "    }\n",
       "                        );\n",
       "                        */\n",
       "    //inp.onkeypress=\"return numeric_keypress(this, event)\";\n",
       "    inp.onkeypress = numeric_keypress;\n",
       "    inp.onpaste = event => false;\n",
       "\n",
       "    inp.addEventListener(\"focus\", function (event) {\n",
       "        this.value = \"\";\n",
       "        return false;\n",
       "    }\n",
       "    );\n",
       "\n",
       "\n",
       "}\n",
       "function jaxify(string) {\n",
       "    var mystring = string;\n",
       "\n",
       "    var count = 0;\n",
       "    var loc = mystring.search(/([^\\\\]|^)(\\$)/);\n",
       "\n",
       "    var count2 = 0;\n",
       "    var loc2 = mystring.search(/([^\\\\]|^)(\\$\\$)/);\n",
       "\n",
       "    //console.log(loc);\n",
       "\n",
       "    while ((loc >= 0) || (loc2 >= 0)) {\n",
       "\n",
       "        /* Have to replace all the double $$ first with current implementation */\n",
       "        if (loc2 >= 0) {\n",
       "            if (count2 % 2 == 0) {\n",
       "                mystring = mystring.replace(/([^\\\\]|^)(\\$\\$)/, \"$1\\\\[\");\n",
       "            } else {\n",
       "                mystring = mystring.replace(/([^\\\\]|^)(\\$\\$)/, \"$1\\\\]\");\n",
       "            }\n",
       "            count2++;\n",
       "        } else {\n",
       "            if (count % 2 == 0) {\n",
       "                mystring = mystring.replace(/([^\\\\]|^)(\\$)/, \"$1\\\\(\");\n",
       "            } else {\n",
       "                mystring = mystring.replace(/([^\\\\]|^)(\\$)/, \"$1\\\\)\");\n",
       "            }\n",
       "            count++;\n",
       "        }\n",
       "        loc = mystring.search(/([^\\\\]|^)(\\$)/);\n",
       "        loc2 = mystring.search(/([^\\\\]|^)(\\$\\$)/);\n",
       "        //console.log(mystring,\", loc:\",loc,\", loc2:\",loc2);\n",
       "    }\n",
       "\n",
       "    //console.log(mystring);\n",
       "    return mystring;\n",
       "}\n",
       "\n",
       "\n",
       "function show_questions(json, mydiv) {\n",
       "    console.log('show_questions');\n",
       "    //var mydiv=document.getElementById(myid);\n",
       "    var shuffle_questions = mydiv.dataset.shufflequestions;\n",
       "    var num_questions = mydiv.dataset.numquestions;\n",
       "    var shuffle_answers = mydiv.dataset.shuffleanswers;\n",
       "    var max_width = mydiv.dataset.maxwidth;\n",
       "\n",
       "    if (num_questions > json.length) {\n",
       "        num_questions = json.length;\n",
       "    }\n",
       "\n",
       "    var questions;\n",
       "    if ((num_questions < json.length) || (shuffle_questions == \"True\")) {\n",
       "        //console.log(num_questions+\",\"+json.length);\n",
       "        questions = getRandomSubarray(json, num_questions);\n",
       "    } else {\n",
       "        questions = json;\n",
       "    }\n",
       "\n",
       "    //console.log(\"SQ: \"+shuffle_questions+\", NQ: \" + num_questions + \", SA: \", shuffle_answers);\n",
       "\n",
       "    // Iterate over questions\n",
       "    questions.forEach((qa, index, array) => {\n",
       "        //console.log(qa.question); \n",
       "\n",
       "        var id = makeid(8);\n",
       "        //console.log(id);\n",
       "\n",
       "\n",
       "        // Create Div to contain question and answers\n",
       "        var iDiv = document.createElement('div');\n",
       "        //iDiv.id = 'quizWrap' + id + index;\n",
       "        iDiv.id = 'quizWrap' + id;\n",
       "        iDiv.className = 'Quiz';\n",
       "        iDiv.setAttribute('data-qnum', index);\n",
       "        iDiv.style.maxWidth  =max_width+\"px\";\n",
       "        mydiv.appendChild(iDiv);\n",
       "        // iDiv.innerHTML=qa.question;\n",
       "        \n",
       "        var outerqDiv = document.createElement('div');\n",
       "        outerqDiv.id = \"OuterquizQn\" + id + index;\n",
       "        // Create div to contain question part\n",
       "        var qDiv = document.createElement('div');\n",
       "        qDiv.id = \"quizQn\" + id + index;\n",
       "        \n",
       "        if (qa.question) {\n",
       "            iDiv.append(outerqDiv);\n",
       "\n",
       "            //qDiv.textContent=qa.question;\n",
       "            qDiv.innerHTML = jaxify(qa.question);\n",
       "            outerqDiv.append(qDiv);\n",
       "        }\n",
       "\n",
       "        // Create div for code inside question\n",
       "        var codeDiv;\n",
       "        if (\"code\" in qa) {\n",
       "            codeDiv = document.createElement('div');\n",
       "            codeDiv.id = \"code\" + id + index;\n",
       "            codeDiv.className = \"QuizCode\";\n",
       "            var codePre = document.createElement('pre');\n",
       "            codeDiv.append(codePre);\n",
       "            var codeCode = document.createElement('code');\n",
       "            codePre.append(codeCode);\n",
       "            codeCode.innerHTML = qa.code;\n",
       "            outerqDiv.append(codeDiv);\n",
       "            //console.log(codeDiv);\n",
       "        }\n",
       "\n",
       "\n",
       "        // Create div to contain answer part\n",
       "        var aDiv = document.createElement('div');\n",
       "        aDiv.id = \"quizAns\" + id + index;\n",
       "        aDiv.className = 'Answer';\n",
       "        iDiv.append(aDiv);\n",
       "\n",
       "        //console.log(qa.type);\n",
       "\n",
       "        var num_correct;\n",
       "        if ((qa.type == \"multiple_choice\") || (qa.type == \"many_choice\") ) {\n",
       "            num_correct = make_mc(qa, shuffle_answers, outerqDiv, qDiv, aDiv, id);\n",
       "            if (\"answer_cols\" in qa) {\n",
       "                //aDiv.style.gridTemplateColumns = 'auto '.repeat(qa.answer_cols);\n",
       "                aDiv.style.gridTemplateColumns = 'repeat(' + qa.answer_cols + ', 1fr)';\n",
       "            }\n",
       "        } else if (qa.type == \"numeric\") {\n",
       "            //console.log(\"numeric\");\n",
       "            make_numeric(qa, outerqDiv, qDiv, aDiv, id);\n",
       "        }\n",
       "\n",
       "\n",
       "        //Make div for feedback\n",
       "        var fb = document.createElement(\"div\");\n",
       "        fb.id = \"fb\" + id;\n",
       "        //fb.style=\"font-size: 20px;text-align:center;\";\n",
       "        fb.className = \"Feedback\";\n",
       "        fb.setAttribute(\"data-answeredcorrect\", 0);\n",
       "        fb.setAttribute(\"data-numcorrect\", num_correct);\n",
       "        iDiv.append(fb);\n",
       "\n",
       "\n",
       "    });\n",
       "    var preserveResponses = mydiv.dataset.preserveresponses;\n",
       "    console.log(preserveResponses);\n",
       "    console.log(preserveResponses == \"true\");\n",
       "    if (preserveResponses == \"true\") {\n",
       "        console.log(preserveResponses);\n",
       "        // Create Div to contain record of answers\n",
       "        var iDiv = document.createElement('div');\n",
       "        iDiv.id = 'responses' + mydiv.id;\n",
       "        iDiv.className = 'JCResponses';\n",
       "        // Create a place to store responses as an empty array\n",
       "        iDiv.setAttribute('data-responses', '[]');\n",
       "\n",
       "        // Dummy Text\n",
       "        iDiv.innerHTML=\"<b>Select your answers and then follow the directions that will appear here.</b>\"\n",
       "        //iDiv.className = 'Quiz';\n",
       "        mydiv.appendChild(iDiv);\n",
       "    }\n",
       "//console.log(\"At end of show_questions\");\n",
       "    if (typeof MathJax != 'undefined') {\n",
       "        console.log(\"MathJax version\", MathJax.version);\n",
       "        var version = MathJax.version;\n",
       "        setTimeout(function(){\n",
       "            var version = MathJax.version;\n",
       "            console.log('After sleep, MathJax version', version);\n",
       "            if (version[0] == \"2\") {\n",
       "                MathJax.Hub.Queue([\"Typeset\", MathJax.Hub]);\n",
       "            } else if (version[0] == \"3\") {\n",
       "                MathJax.typeset([mydiv]);\n",
       "            }\n",
       "        }, 500);\n",
       "if (typeof version == 'undefined') {\n",
       "        } else\n",
       "        {\n",
       "            if (version[0] == \"2\") {\n",
       "                MathJax.Hub.Queue([\"Typeset\", MathJax.Hub]);\n",
       "            } else if (version[0] == \"3\") {\n",
       "                MathJax.typeset([mydiv]);\n",
       "            } else {\n",
       "                console.log(\"MathJax not found\");\n",
       "            }\n",
       "        }\n",
       "    }\n",
       "    return false;\n",
       "}\n",
       "/* This is to handle asynchrony issues in loading Jupyter notebooks\n",
       "           where the quiz has been previously run. The Javascript was generally\n",
       "           being run before the div was added to the DOM. I tried to do this\n",
       "           more elegantly using Mutation Observer, but I didn't get it to work.\n",
       "\n",
       "           Someone more knowledgeable could make this better ;-) */\n",
       "\n",
       "        function try_show() {\n",
       "          if(document.getElementById(\"lkTMwzTkFLtQ\")) {\n",
       "            show_questions(questionslkTMwzTkFLtQ,  lkTMwzTkFLtQ); \n",
       "          } else {\n",
       "             setTimeout(try_show, 200);\n",
       "          }\n",
       "        };\n",
       "    \n",
       "        {\n",
       "        // console.log(element);\n",
       "\n",
       "        //console.log(\"lkTMwzTkFLtQ\");\n",
       "        // console.log(document.getElementById(\"lkTMwzTkFLtQ\"));\n",
       "\n",
       "        try_show();\n",
       "        }\n",
       "        "
      ],
      "text/plain": [
       "<IPython.core.display.Javascript object>"
      ]
     },
     "metadata": {},
     "output_type": "display_data"
    }
   ],
   "source": [
    "from jupyterquiz import display_quiz\n",
    "display_quiz(\"questions/summary_manipulating.json\")"
   ]
  },
  {
   "cell_type": "code",
   "execution_count": null,
   "id": "03ab3918-d422-432a-a912-34890c974f10",
   "metadata": {
    "editable": true,
    "slideshow": {
     "slide_type": ""
    },
    "tags": []
   },
   "outputs": [],
   "source": []
  }
 ],
 "metadata": {
  "kernelspec": {
   "display_name": "Python 3 (ipykernel)",
   "language": "python",
   "name": "python3"
  },
  "language_info": {
   "codemirror_mode": {
    "name": "ipython",
    "version": 3
   },
   "file_extension": ".py",
   "mimetype": "text/x-python",
   "name": "python",
   "nbconvert_exporter": "python",
   "pygments_lexer": "ipython3",
   "version": "3.9.19"
  }
 },
 "nbformat": 4,
 "nbformat_minor": 5
}
